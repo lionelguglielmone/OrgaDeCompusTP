{
 "cells": [
  {
   "cell_type": "markdown",
   "metadata": {},
   "source": [
    "# CROQUIS\n",
    "### 1. Analizar los datos del dataset, plantear correlacion entre variables, dependencias, causalidades y patrones, entre otras. Emplear graficos de distintos tipos para lograr insights.\n",
    "### 2. Seleccionar un subconjunto del total del analisis de relaciones o patrones que parecen presentar mayor peso al momento de categorizar y dividir/diferenciar el conjunto de personas en grupos bien definidos.\n",
    "### 3. A partir de los resultados relevantes, elaborar hipotesis/conjeturas sobre el comportamiento a futuro (en este caso, si van a ver o no Frozen 4).\n",
    "### 4. Elaborar un programa LOGICO basico en Python (baseline) que permita discriminar aquellos usuarios que, a partir de ciertas caracteristicas en comun, sean considerados como candidatos a ver Frozen 4."
   ]
  },
  {
   "cell_type": "markdown",
   "metadata": {},
   "source": [
    "# FEATURES \n",
    "- **volvera**: (variable target) entero que representa 0: no volvería, 1: si volvería\n",
    "- **tipo_de_sala**: El tipo de la sala (2d, 3d, 4d) [2d: sala común, 3d: sala 3D, 4d: sala 4D]\n",
    "- **genero**: género con el cual el usuario se identifica en la encuesta\n",
    "- **edad**: edad del usuario que completa la encuesta\n",
    "- **amigos**: cantidad de amigos con los que fue a ver la película (Frozen 3)\n",
    "- **parientes**: cantidad de familiares con los que fue a ver la película (Frozen 3)\n",
    "- **ticket**: código del ticket\n",
    "- **precio**: precio pagado por el ticket, en franjas de valor ordenadas de 1 a 50\n",
    "- **fila**: fila dentro de la sala\n",
    "- **cine**: nombre del cine [FiuMark tiene varias sedes]\n",
    "- **nombre**: nombre del usuario que completa la encuesta"
   ]
  },
  {
   "cell_type": "markdown",
   "metadata": {},
   "source": [
    "# FECHAS CLAVES\n",
    "- **Entrega del notebook**: Miércoles 28 de octubre.\n",
    "- **Defensa oral del tp**: Martes 3 de noviembre."
   ]
  },
  {
   "cell_type": "markdown",
   "metadata": {},
   "source": [
    "# CONDICIONES DE ENTREGA\n",
    "- El notebook debe poder ser ejecutado de forma secuencial de principio a fin por su corrector, todas las dependencias de librerías deben estar en un requirements.txt.\n",
    "- La función baseline debe llamarse baseline(X: pd.DataFrame) -> List[int]. la cual debe recibir un pandas dataframe producido de la lectura del archivo de testeo original y devolver una lista"
   ]
  },
  {
   "cell_type": "markdown",
   "metadata": {},
   "source": [
    "# SECTION 1"
   ]
  },
  {
   "cell_type": "code",
   "execution_count": 1,
   "metadata": {},
   "outputs": [],
   "source": [
    "import pandas as pd\n",
    "import numpy as np\n",
    "import seaborn as sns\n",
    "import matplotlib.pyplot as plt"
   ]
  },
  {
   "cell_type": "markdown",
   "metadata": {},
   "source": [
    "### GENERAL OVERVIEW"
   ]
  },
  {
   "cell_type": "markdown",
   "metadata": {},
   "source": [
    "El objetivo del siguiente informe es obtener *insights* relevantes a partir de encuestas realizadas a clientes de los complejos de cines FiuMark que permitan predecir - con exactitud aceptable -  si los mismos, son candidatos a volver a uno de los cines de la mencioanda empresa a ver Frozen 4. La idea general es extrapolar la informacion y las conclusiones a las que se arriban para este conjunto de personas a otros clientes de caracteristicas similares en oportunidades futuras.\n",
    "Con esta mision en mente, se procedera a realizar un analisis exhaustivo del set de datos, a saber, la informacion recabada a partir de las encuestas y generar visualizaciones que permitan particionar el espacio de clientes en dos grupos bien definidos: aquellos que volverian a uno de los cines de FiuMark a ver Frozen 4 y aquellos que no. \n",
    "Se analizaran similitudes y diferencias entre los grupos encuestados y, paso a paso, se estudiaran las categorias que distinguen a cada unos de estos conjuntos de clientes."
   ]
  },
  {
   "cell_type": "code",
   "execution_count": 2,
   "metadata": {},
   "outputs": [],
   "source": [
    "train_df_values = pd.read_csv('Data/tp-2020-2c-train-cols1.csv')"
   ]
  },
  {
   "cell_type": "markdown",
   "metadata": {},
   "source": [
    "DATASET OVERVIEW"
   ]
  },
  {
   "cell_type": "code",
   "execution_count": 5,
   "metadata": {},
   "outputs": [
    {
     "data": {
      "text/html": [
       "<div>\n",
       "<style scoped>\n",
       "    .dataframe tbody tr th:only-of-type {\n",
       "        vertical-align: middle;\n",
       "    }\n",
       "\n",
       "    .dataframe tbody tr th {\n",
       "        vertical-align: top;\n",
       "    }\n",
       "\n",
       "    .dataframe thead th {\n",
       "        text-align: right;\n",
       "    }\n",
       "</style>\n",
       "<table border=\"1\" class=\"dataframe\">\n",
       "  <thead>\n",
       "    <tr style=\"text-align: right;\">\n",
       "      <th></th>\n",
       "      <th>Unnamed: 0</th>\n",
       "      <th>id_usuario</th>\n",
       "      <th>volveria</th>\n",
       "    </tr>\n",
       "  </thead>\n",
       "  <tbody>\n",
       "    <tr>\n",
       "      <th>0</th>\n",
       "      <td>116</td>\n",
       "      <td>117</td>\n",
       "      <td>0</td>\n",
       "    </tr>\n",
       "    <tr>\n",
       "      <th>1</th>\n",
       "      <td>657</td>\n",
       "      <td>658</td>\n",
       "      <td>0</td>\n",
       "    </tr>\n",
       "    <tr>\n",
       "      <th>2</th>\n",
       "      <td>793</td>\n",
       "      <td>794</td>\n",
       "      <td>0</td>\n",
       "    </tr>\n",
       "    <tr>\n",
       "      <th>3</th>\n",
       "      <td>454</td>\n",
       "      <td>455</td>\n",
       "      <td>0</td>\n",
       "    </tr>\n",
       "    <tr>\n",
       "      <th>4</th>\n",
       "      <td>172</td>\n",
       "      <td>173</td>\n",
       "      <td>1</td>\n",
       "    </tr>\n",
       "  </tbody>\n",
       "</table>\n",
       "</div>"
      ],
      "text/plain": [
       "   Unnamed: 0  id_usuario  volveria\n",
       "0         116         117         0\n",
       "1         657         658         0\n",
       "2         793         794         0\n",
       "3         454         455         0\n",
       "4         172         173         1"
      ]
     },
     "execution_count": 5,
     "metadata": {},
     "output_type": "execute_result"
    }
   ],
   "source": [
    "train_df_values.head()"
   ]
  },
  {
   "cell_type": "code",
   "execution_count": 6,
   "metadata": {},
   "outputs": [
    {
     "name": "stdout",
     "output_type": "stream",
     "text": [
      "<class 'pandas.core.frame.DataFrame'>\n",
      "RangeIndex: 801 entries, 0 to 800\n",
      "Data columns (total 3 columns):\n",
      " #   Column      Non-Null Count  Dtype\n",
      "---  ------      --------------  -----\n",
      " 0   Unnamed: 0  801 non-null    int64\n",
      " 1   id_usuario  801 non-null    int64\n",
      " 2   volveria    801 non-null    int64\n",
      "dtypes: int64(3)\n",
      "memory usage: 18.9 KB\n"
     ]
    }
   ],
   "source": [
    "train_df_values.info()"
   ]
  },
  {
   "cell_type": "code",
   "execution_count": 7,
   "metadata": {},
   "outputs": [
    {
     "data": {
      "text/html": [
       "<div>\n",
       "<style scoped>\n",
       "    .dataframe tbody tr th:only-of-type {\n",
       "        vertical-align: middle;\n",
       "    }\n",
       "\n",
       "    .dataframe tbody tr th {\n",
       "        vertical-align: top;\n",
       "    }\n",
       "\n",
       "    .dataframe thead th {\n",
       "        text-align: right;\n",
       "    }\n",
       "</style>\n",
       "<table border=\"1\" class=\"dataframe\">\n",
       "  <thead>\n",
       "    <tr style=\"text-align: right;\">\n",
       "      <th></th>\n",
       "      <th>Unnamed: 0</th>\n",
       "      <th>id_usuario</th>\n",
       "      <th>volveria</th>\n",
       "    </tr>\n",
       "  </thead>\n",
       "  <tbody>\n",
       "    <tr>\n",
       "      <th>count</th>\n",
       "      <td>801.000000</td>\n",
       "      <td>801.000000</td>\n",
       "      <td>801.000000</td>\n",
       "    </tr>\n",
       "    <tr>\n",
       "      <th>mean</th>\n",
       "      <td>448.701623</td>\n",
       "      <td>449.701623</td>\n",
       "      <td>0.383271</td>\n",
       "    </tr>\n",
       "    <tr>\n",
       "      <th>std</th>\n",
       "      <td>257.192277</td>\n",
       "      <td>257.192277</td>\n",
       "      <td>0.486487</td>\n",
       "    </tr>\n",
       "    <tr>\n",
       "      <th>min</th>\n",
       "      <td>0.000000</td>\n",
       "      <td>1.000000</td>\n",
       "      <td>0.000000</td>\n",
       "    </tr>\n",
       "    <tr>\n",
       "      <th>25%</th>\n",
       "      <td>228.000000</td>\n",
       "      <td>229.000000</td>\n",
       "      <td>0.000000</td>\n",
       "    </tr>\n",
       "    <tr>\n",
       "      <th>50%</th>\n",
       "      <td>451.000000</td>\n",
       "      <td>452.000000</td>\n",
       "      <td>0.000000</td>\n",
       "    </tr>\n",
       "    <tr>\n",
       "      <th>75%</th>\n",
       "      <td>672.000000</td>\n",
       "      <td>673.000000</td>\n",
       "      <td>1.000000</td>\n",
       "    </tr>\n",
       "    <tr>\n",
       "      <th>max</th>\n",
       "      <td>890.000000</td>\n",
       "      <td>891.000000</td>\n",
       "      <td>1.000000</td>\n",
       "    </tr>\n",
       "  </tbody>\n",
       "</table>\n",
       "</div>"
      ],
      "text/plain": [
       "       Unnamed: 0  id_usuario    volveria\n",
       "count  801.000000  801.000000  801.000000\n",
       "mean   448.701623  449.701623    0.383271\n",
       "std    257.192277  257.192277    0.486487\n",
       "min      0.000000    1.000000    0.000000\n",
       "25%    228.000000  229.000000    0.000000\n",
       "50%    451.000000  452.000000    0.000000\n",
       "75%    672.000000  673.000000    1.000000\n",
       "max    890.000000  891.000000    1.000000"
      ]
     },
     "execution_count": 7,
     "metadata": {},
     "output_type": "execute_result"
    }
   ],
   "source": [
    "train_df_values.describe()"
   ]
  },
  {
   "cell_type": "code",
   "execution_count": 8,
   "metadata": {},
   "outputs": [
    {
     "data": {
      "text/plain": [
       "False"
      ]
     },
     "execution_count": 8,
     "metadata": {},
     "output_type": "execute_result"
    }
   ],
   "source": [
    "train_df_values.isnull().values.any()"
   ]
  },
  {
   "cell_type": "code",
   "execution_count": 9,
   "metadata": {},
   "outputs": [],
   "source": [
    "train_df_features = pd.read_csv('Data/tp-2020-2c-train-cols2.csv')"
   ]
  },
  {
   "cell_type": "code",
   "execution_count": 10,
   "metadata": {},
   "outputs": [
    {
     "data": {
      "text/html": [
       "<div>\n",
       "<style scoped>\n",
       "    .dataframe tbody tr th:only-of-type {\n",
       "        vertical-align: middle;\n",
       "    }\n",
       "\n",
       "    .dataframe tbody tr th {\n",
       "        vertical-align: top;\n",
       "    }\n",
       "\n",
       "    .dataframe thead th {\n",
       "        text-align: right;\n",
       "    }\n",
       "</style>\n",
       "<table border=\"1\" class=\"dataframe\">\n",
       "  <thead>\n",
       "    <tr style=\"text-align: right;\">\n",
       "      <th></th>\n",
       "      <th>Unnamed: 0</th>\n",
       "      <th>tipo_de_sala</th>\n",
       "      <th>nombre</th>\n",
       "      <th>id_usuario</th>\n",
       "      <th>genero</th>\n",
       "      <th>edad</th>\n",
       "      <th>amigos</th>\n",
       "      <th>parientes</th>\n",
       "      <th>id_ticket</th>\n",
       "      <th>precio_ticket</th>\n",
       "      <th>fila</th>\n",
       "      <th>nombre_sede</th>\n",
       "    </tr>\n",
       "  </thead>\n",
       "  <tbody>\n",
       "    <tr>\n",
       "      <th>0</th>\n",
       "      <td>116</td>\n",
       "      <td>4d</td>\n",
       "      <td>Señor Camilo Pedro</td>\n",
       "      <td>117</td>\n",
       "      <td>hombre</td>\n",
       "      <td>73.5</td>\n",
       "      <td>0</td>\n",
       "      <td>0</td>\n",
       "      <td>59258;</td>\n",
       "      <td>1</td>\n",
       "      <td>NaN</td>\n",
       "      <td>fiumark_quilmes</td>\n",
       "    </tr>\n",
       "    <tr>\n",
       "      <th>1</th>\n",
       "      <td>657</td>\n",
       "      <td>4d</td>\n",
       "      <td>Señora Raquel Angelica</td>\n",
       "      <td>658</td>\n",
       "      <td>mujer</td>\n",
       "      <td>35.0</td>\n",
       "      <td>1</td>\n",
       "      <td>1</td>\n",
       "      <td>586:6;</td>\n",
       "      <td>2</td>\n",
       "      <td>NaN</td>\n",
       "      <td>fiumark_quilmes</td>\n",
       "    </tr>\n",
       "    <tr>\n",
       "      <th>2</th>\n",
       "      <td>793</td>\n",
       "      <td>normal</td>\n",
       "      <td>Señor Antonio Federico</td>\n",
       "      <td>794</td>\n",
       "      <td>hombre</td>\n",
       "      <td>NaN</td>\n",
       "      <td>0</td>\n",
       "      <td>0</td>\n",
       "      <td>RE\"39822</td>\n",
       "      <td>3</td>\n",
       "      <td>NaN</td>\n",
       "      <td>fiumark_chacarita</td>\n",
       "    </tr>\n",
       "    <tr>\n",
       "      <th>3</th>\n",
       "      <td>454</td>\n",
       "      <td>4d</td>\n",
       "      <td>Señor Osvaldo Aureliano</td>\n",
       "      <td>455</td>\n",
       "      <td>hombre</td>\n",
       "      <td>NaN</td>\n",
       "      <td>0</td>\n",
       "      <td>0</td>\n",
       "      <td>C17\"4:39</td>\n",
       "      <td>1</td>\n",
       "      <td>NaN</td>\n",
       "      <td>fiumark_palermo</td>\n",
       "    </tr>\n",
       "    <tr>\n",
       "      <th>4</th>\n",
       "      <td>172</td>\n",
       "      <td>4d</td>\n",
       "      <td>Señorita Rita Eudosia</td>\n",
       "      <td>173</td>\n",
       "      <td>mujer</td>\n",
       "      <td>4.0</td>\n",
       "      <td>1</td>\n",
       "      <td>1</td>\n",
       "      <td>569964</td>\n",
       "      <td>2</td>\n",
       "      <td>NaN</td>\n",
       "      <td>fiumark_palermo</td>\n",
       "    </tr>\n",
       "  </tbody>\n",
       "</table>\n",
       "</div>"
      ],
      "text/plain": [
       "   Unnamed: 0 tipo_de_sala                   nombre  id_usuario  genero  edad  \\\n",
       "0         116           4d       Señor Camilo Pedro         117  hombre  73.5   \n",
       "1         657           4d   Señora Raquel Angelica         658   mujer  35.0   \n",
       "2         793       normal   Señor Antonio Federico         794  hombre   NaN   \n",
       "3         454           4d  Señor Osvaldo Aureliano         455  hombre   NaN   \n",
       "4         172           4d    Señorita Rita Eudosia         173   mujer   4.0   \n",
       "\n",
       "   amigos  parientes id_ticket  precio_ticket fila        nombre_sede  \n",
       "0       0          0    59258;              1  NaN    fiumark_quilmes  \n",
       "1       1          1    586:6;              2  NaN    fiumark_quilmes  \n",
       "2       0          0  RE\"39822              3  NaN  fiumark_chacarita  \n",
       "3       0          0  C17\"4:39              1  NaN    fiumark_palermo  \n",
       "4       1          1    569964              2  NaN    fiumark_palermo  "
      ]
     },
     "execution_count": 10,
     "metadata": {},
     "output_type": "execute_result"
    }
   ],
   "source": [
    "train_df_features.head()"
   ]
  },
  {
   "cell_type": "code",
   "execution_count": 11,
   "metadata": {},
   "outputs": [
    {
     "name": "stdout",
     "output_type": "stream",
     "text": [
      "<class 'pandas.core.frame.DataFrame'>\n",
      "RangeIndex: 801 entries, 0 to 800\n",
      "Data columns (total 12 columns):\n",
      " #   Column         Non-Null Count  Dtype  \n",
      "---  ------         --------------  -----  \n",
      " 0   Unnamed: 0     801 non-null    int64  \n",
      " 1   tipo_de_sala   801 non-null    object \n",
      " 2   nombre         801 non-null    object \n",
      " 3   id_usuario     801 non-null    int64  \n",
      " 4   genero         801 non-null    object \n",
      " 5   edad           641 non-null    float64\n",
      " 6   amigos         801 non-null    int64  \n",
      " 7   parientes      801 non-null    int64  \n",
      " 8   id_ticket      801 non-null    object \n",
      " 9   precio_ticket  801 non-null    int64  \n",
      " 10  fila           177 non-null    object \n",
      " 11  nombre_sede    799 non-null    object \n",
      "dtypes: float64(1), int64(5), object(6)\n",
      "memory usage: 75.2+ KB\n"
     ]
    }
   ],
   "source": [
    "train_df_features.info()"
   ]
  },
  {
   "cell_type": "code",
   "execution_count": 12,
   "metadata": {},
   "outputs": [
    {
     "data": {
      "text/html": [
       "<div>\n",
       "<style scoped>\n",
       "    .dataframe tbody tr th:only-of-type {\n",
       "        vertical-align: middle;\n",
       "    }\n",
       "\n",
       "    .dataframe tbody tr th {\n",
       "        vertical-align: top;\n",
       "    }\n",
       "\n",
       "    .dataframe thead th {\n",
       "        text-align: right;\n",
       "    }\n",
       "</style>\n",
       "<table border=\"1\" class=\"dataframe\">\n",
       "  <thead>\n",
       "    <tr style=\"text-align: right;\">\n",
       "      <th></th>\n",
       "      <th>Unnamed: 0</th>\n",
       "      <th>id_usuario</th>\n",
       "      <th>edad</th>\n",
       "      <th>amigos</th>\n",
       "      <th>parientes</th>\n",
       "      <th>precio_ticket</th>\n",
       "    </tr>\n",
       "  </thead>\n",
       "  <tbody>\n",
       "    <tr>\n",
       "      <th>count</th>\n",
       "      <td>801.000000</td>\n",
       "      <td>801.000000</td>\n",
       "      <td>641.000000</td>\n",
       "      <td>801.000000</td>\n",
       "      <td>801.000000</td>\n",
       "      <td>801.000000</td>\n",
       "    </tr>\n",
       "    <tr>\n",
       "      <th>mean</th>\n",
       "      <td>448.701623</td>\n",
       "      <td>449.701623</td>\n",
       "      <td>32.688378</td>\n",
       "      <td>0.504370</td>\n",
       "      <td>0.383271</td>\n",
       "      <td>3.453184</td>\n",
       "    </tr>\n",
       "    <tr>\n",
       "      <th>std</th>\n",
       "      <td>257.192277</td>\n",
       "      <td>257.192277</td>\n",
       "      <td>14.380672</td>\n",
       "      <td>1.089859</td>\n",
       "      <td>0.804158</td>\n",
       "      <td>4.629592</td>\n",
       "    </tr>\n",
       "    <tr>\n",
       "      <th>min</th>\n",
       "      <td>0.000000</td>\n",
       "      <td>1.000000</td>\n",
       "      <td>3.420000</td>\n",
       "      <td>0.000000</td>\n",
       "      <td>0.000000</td>\n",
       "      <td>1.000000</td>\n",
       "    </tr>\n",
       "    <tr>\n",
       "      <th>25%</th>\n",
       "      <td>228.000000</td>\n",
       "      <td>229.000000</td>\n",
       "      <td>23.000000</td>\n",
       "      <td>0.000000</td>\n",
       "      <td>0.000000</td>\n",
       "      <td>1.000000</td>\n",
       "    </tr>\n",
       "    <tr>\n",
       "      <th>50%</th>\n",
       "      <td>451.000000</td>\n",
       "      <td>452.000000</td>\n",
       "      <td>31.000000</td>\n",
       "      <td>0.000000</td>\n",
       "      <td>0.000000</td>\n",
       "      <td>2.000000</td>\n",
       "    </tr>\n",
       "    <tr>\n",
       "      <th>75%</th>\n",
       "      <td>672.000000</td>\n",
       "      <td>673.000000</td>\n",
       "      <td>41.000000</td>\n",
       "      <td>1.000000</td>\n",
       "      <td>0.000000</td>\n",
       "      <td>3.000000</td>\n",
       "    </tr>\n",
       "    <tr>\n",
       "      <th>max</th>\n",
       "      <td>890.000000</td>\n",
       "      <td>891.000000</td>\n",
       "      <td>83.000000</td>\n",
       "      <td>8.000000</td>\n",
       "      <td>6.000000</td>\n",
       "      <td>50.000000</td>\n",
       "    </tr>\n",
       "  </tbody>\n",
       "</table>\n",
       "</div>"
      ],
      "text/plain": [
       "       Unnamed: 0  id_usuario        edad      amigos   parientes  \\\n",
       "count  801.000000  801.000000  641.000000  801.000000  801.000000   \n",
       "mean   448.701623  449.701623   32.688378    0.504370    0.383271   \n",
       "std    257.192277  257.192277   14.380672    1.089859    0.804158   \n",
       "min      0.000000    1.000000    3.420000    0.000000    0.000000   \n",
       "25%    228.000000  229.000000   23.000000    0.000000    0.000000   \n",
       "50%    451.000000  452.000000   31.000000    0.000000    0.000000   \n",
       "75%    672.000000  673.000000   41.000000    1.000000    0.000000   \n",
       "max    890.000000  891.000000   83.000000    8.000000    6.000000   \n",
       "\n",
       "       precio_ticket  \n",
       "count     801.000000  \n",
       "mean        3.453184  \n",
       "std         4.629592  \n",
       "min         1.000000  \n",
       "25%         1.000000  \n",
       "50%         2.000000  \n",
       "75%         3.000000  \n",
       "max        50.000000  "
      ]
     },
     "execution_count": 12,
     "metadata": {},
     "output_type": "execute_result"
    }
   ],
   "source": [
    "train_df_features.describe()"
   ]
  },
  {
   "cell_type": "code",
   "execution_count": 13,
   "metadata": {},
   "outputs": [
    {
     "data": {
      "text/plain": [
       "True"
      ]
     },
     "execution_count": 13,
     "metadata": {},
     "output_type": "execute_result"
    }
   ],
   "source": [
    "train_df_features.isnull().values.any()"
   ]
  },
  {
   "cell_type": "markdown",
   "metadata": {},
   "source": [
    "### NaN value analysis"
   ]
  },
  {
   "cell_type": "markdown",
   "metadata": {},
   "source": [
    "En este apartado se analizaran los campos que contienen valores nulos y la proporcion de valores nulos asociada a cada campo. Se descartaran aquellas columnas cuya cantidad de campos vacios sea significativa."
   ]
  },
  {
   "cell_type": "code",
   "execution_count": 15,
   "metadata": {},
   "outputs": [],
   "source": [
    "df_NaN_Values = train_df_features.drop('Unnamed: 0', axis = 1)\n",
    "df_NaN_Values = df_NaN_Values.isnull().mean() * 100"
   ]
  },
  {
   "cell_type": "code",
   "execution_count": 16,
   "metadata": {},
   "outputs": [
    {
     "data": {
      "text/plain": [
       "tipo_de_sala      0.000000\n",
       "nombre            0.000000\n",
       "id_usuario        0.000000\n",
       "genero            0.000000\n",
       "edad             19.975031\n",
       "amigos            0.000000\n",
       "parientes         0.000000\n",
       "id_ticket         0.000000\n",
       "precio_ticket     0.000000\n",
       "fila             77.902622\n",
       "nombre_sede       0.249688\n",
       "dtype: float64"
      ]
     },
     "execution_count": 16,
     "metadata": {},
     "output_type": "execute_result"
    }
   ],
   "source": [
    "df_NaN_Values"
   ]
  },
  {
   "cell_type": "code",
   "execution_count": 17,
   "metadata": {},
   "outputs": [
    {
     "data": {
      "image/png": "[encoded data removed]",
      "text/plain": [
       "<Figure size 1008x576 with 1 Axes>"
      ]
     },
     "metadata": {
      "needs_background": "light"
     },
     "output_type": "display_data"
    }
   ],
   "source": [
    "fig, ax = plt.subplots()\n",
    "fig.set_size_inches(14, 8)\n",
    "sns.set_color_codes(\"pastel\")\n",
    "sns.set_style(\"darkgrid\")\n",
    "plt.title(\"NaN values por columna\", fontweight = \"bold\", fontsize=25)\n",
    "sns.barplot(x = df_NaN_Values, y = df_NaN_Values.index, color=\"salmon\")\n",
    "ax.set_xlabel('PORCENTAJE',fontsize=15, fontweight = \"semibold\");\n",
    "ax.set_ylabel('COLUMNAS',fontsize=15, fontweight = \"semibold\");\n",
    "ax.tick_params(labelsize=18)"
   ]
  },
  {
   "cell_type": "markdown",
   "metadata": {},
   "source": [
    "Se puede apreciar que casi el 80% de los valores de la columna **fila** son nulos. Esto implica que cualquier informacion que se pueda obtener a partir de dicha columna no refleja la informacion que contiene el total del dataset. De modo que, cualquier conclusion a la que se arribara a partir de la columna FILA sera tomada con cautela.\n",
    "En lo que respecta a la columna **edad**, si bien el porcentaje de datos nulos es considerable (alrededor de 20%), en relacion al total del set, podemos considerar que aquellas conclusiones que se obtienen a partir de la misma tendran relevancia al momento de generar *insights* sobre el total del dataset. Sin embargo, no se debe olvidar que lo que se puede concluir a partir de esta columna no refleja el total del dataset, sino un 80% del mismo.\n",
    "Finalmente, el campo **nombre_sede** no contiene una cantidad significativa de valores nulos por lo que cualquier *insigth*  que se obtenga a partir de la misma seran considerados como de igual peso que aquellas columnas que no tienen valores nulos."
   ]
  },
  {
   "cell_type": "markdown",
   "metadata": {},
   "source": [
    "### Analisis de features y target"
   ]
  },
  {
   "cell_type": "markdown",
   "metadata": {},
   "source": [
    "En esta seccion, se analizara de forma paulatina la importancia de cada columna (*features*) y su relacion con el target, en este caso, la intencion de cada espectador de volver a una de las salas de FiuMark a ver Forzen 4. Se hara una valoracion de las columnas y de las categorias que pudiesen ayudar en la tarea de discriminar entre aquellos que volverian y aquellos que no. Cada segmentacion tiene como meta extraer **categorias** relevantes en este proceso predictivo."
   ]
  },
  {
   "cell_type": "code",
   "execution_count": 19,
   "metadata": {},
   "outputs": [
    {
     "data": {
      "text/html": [
       "<div>\n",
       "<style scoped>\n",
       "    .dataframe tbody tr th:only-of-type {\n",
       "        vertical-align: middle;\n",
       "    }\n",
       "\n",
       "    .dataframe tbody tr th {\n",
       "        vertical-align: top;\n",
       "    }\n",
       "\n",
       "    .dataframe thead th {\n",
       "        text-align: right;\n",
       "    }\n",
       "</style>\n",
       "<table border=\"1\" class=\"dataframe\">\n",
       "  <thead>\n",
       "    <tr style=\"text-align: right;\">\n",
       "      <th></th>\n",
       "      <th>tipo_de_sala</th>\n",
       "      <th>nombre</th>\n",
       "      <th>id_usuario</th>\n",
       "      <th>genero</th>\n",
       "      <th>edad</th>\n",
       "      <th>amigos</th>\n",
       "      <th>parientes</th>\n",
       "      <th>id_ticket</th>\n",
       "      <th>precio_ticket</th>\n",
       "      <th>fila</th>\n",
       "      <th>nombre_sede</th>\n",
       "      <th>volveria</th>\n",
       "    </tr>\n",
       "  </thead>\n",
       "  <tbody>\n",
       "    <tr>\n",
       "      <th>0</th>\n",
       "      <td>4d</td>\n",
       "      <td>Señor Camilo Pedro</td>\n",
       "      <td>117</td>\n",
       "      <td>hombre</td>\n",
       "      <td>73.5</td>\n",
       "      <td>0</td>\n",
       "      <td>0</td>\n",
       "      <td>59258;</td>\n",
       "      <td>1</td>\n",
       "      <td>NaN</td>\n",
       "      <td>fiumark_quilmes</td>\n",
       "      <td>0</td>\n",
       "    </tr>\n",
       "    <tr>\n",
       "      <th>1</th>\n",
       "      <td>4d</td>\n",
       "      <td>Señora Raquel Angelica</td>\n",
       "      <td>658</td>\n",
       "      <td>mujer</td>\n",
       "      <td>35.0</td>\n",
       "      <td>1</td>\n",
       "      <td>1</td>\n",
       "      <td>586:6;</td>\n",
       "      <td>2</td>\n",
       "      <td>NaN</td>\n",
       "      <td>fiumark_quilmes</td>\n",
       "      <td>0</td>\n",
       "    </tr>\n",
       "    <tr>\n",
       "      <th>2</th>\n",
       "      <td>normal</td>\n",
       "      <td>Señor Antonio Federico</td>\n",
       "      <td>794</td>\n",
       "      <td>hombre</td>\n",
       "      <td>NaN</td>\n",
       "      <td>0</td>\n",
       "      <td>0</td>\n",
       "      <td>RE\"39822</td>\n",
       "      <td>3</td>\n",
       "      <td>NaN</td>\n",
       "      <td>fiumark_chacarita</td>\n",
       "      <td>0</td>\n",
       "    </tr>\n",
       "    <tr>\n",
       "      <th>3</th>\n",
       "      <td>4d</td>\n",
       "      <td>Señor Osvaldo Aureliano</td>\n",
       "      <td>455</td>\n",
       "      <td>hombre</td>\n",
       "      <td>NaN</td>\n",
       "      <td>0</td>\n",
       "      <td>0</td>\n",
       "      <td>C17\"4:39</td>\n",
       "      <td>1</td>\n",
       "      <td>NaN</td>\n",
       "      <td>fiumark_palermo</td>\n",
       "      <td>0</td>\n",
       "    </tr>\n",
       "    <tr>\n",
       "      <th>4</th>\n",
       "      <td>4d</td>\n",
       "      <td>Señorita Rita Eudosia</td>\n",
       "      <td>173</td>\n",
       "      <td>mujer</td>\n",
       "      <td>4.0</td>\n",
       "      <td>1</td>\n",
       "      <td>1</td>\n",
       "      <td>569964</td>\n",
       "      <td>2</td>\n",
       "      <td>NaN</td>\n",
       "      <td>fiumark_palermo</td>\n",
       "      <td>1</td>\n",
       "    </tr>\n",
       "    <tr>\n",
       "      <th>...</th>\n",
       "      <td>...</td>\n",
       "      <td>...</td>\n",
       "      <td>...</td>\n",
       "      <td>...</td>\n",
       "      <td>...</td>\n",
       "      <td>...</td>\n",
       "      <td>...</td>\n",
       "      <td>...</td>\n",
       "      <td>...</td>\n",
       "      <td>...</td>\n",
       "      <td>...</td>\n",
       "      <td>...</td>\n",
       "    </tr>\n",
       "    <tr>\n",
       "      <th>796</th>\n",
       "      <td>normal</td>\n",
       "      <td>Señor Bernardo Melesio</td>\n",
       "      <td>448</td>\n",
       "      <td>hombre</td>\n",
       "      <td>37.0</td>\n",
       "      <td>0</td>\n",
       "      <td>0</td>\n",
       "      <td>3359;6</td>\n",
       "      <td>3</td>\n",
       "      <td>NaN</td>\n",
       "      <td>fiumark_palermo</td>\n",
       "      <td>1</td>\n",
       "    </tr>\n",
       "    <tr>\n",
       "      <th>797</th>\n",
       "      <td>3d</td>\n",
       "      <td>Señorita Lidia Catalina</td>\n",
       "      <td>636</td>\n",
       "      <td>mujer</td>\n",
       "      <td>31.0</td>\n",
       "      <td>0</td>\n",
       "      <td>0</td>\n",
       "      <td>45988:</td>\n",
       "      <td>2</td>\n",
       "      <td>NaN</td>\n",
       "      <td>fiumark_palermo</td>\n",
       "      <td>1</td>\n",
       "    </tr>\n",
       "    <tr>\n",
       "      <th>798</th>\n",
       "      <td>4d</td>\n",
       "      <td>Señor Arturo Antenor</td>\n",
       "      <td>848</td>\n",
       "      <td>hombre</td>\n",
       "      <td>38.0</td>\n",
       "      <td>0</td>\n",
       "      <td>0</td>\n",
       "      <td>56;435</td>\n",
       "      <td>1</td>\n",
       "      <td>NaN</td>\n",
       "      <td>fiumark_chacarita</td>\n",
       "      <td>0</td>\n",
       "    </tr>\n",
       "    <tr>\n",
       "      <th>799</th>\n",
       "      <td>3d</td>\n",
       "      <td>Señorita Natividad Sofia</td>\n",
       "      <td>304</td>\n",
       "      <td>mujer</td>\n",
       "      <td>NaN</td>\n",
       "      <td>0</td>\n",
       "      <td>0</td>\n",
       "      <td>4487;5</td>\n",
       "      <td>2</td>\n",
       "      <td>adelante</td>\n",
       "      <td>fiumark_quilmes</td>\n",
       "      <td>1</td>\n",
       "    </tr>\n",
       "    <tr>\n",
       "      <th>800</th>\n",
       "      <td>4d</td>\n",
       "      <td>Señor Isidoro Sebastian</td>\n",
       "      <td>385</td>\n",
       "      <td>hombre</td>\n",
       "      <td>NaN</td>\n",
       "      <td>0</td>\n",
       "      <td>0</td>\n",
       "      <td>56;449</td>\n",
       "      <td>1</td>\n",
       "      <td>NaN</td>\n",
       "      <td>fiumark_palermo</td>\n",
       "      <td>0</td>\n",
       "    </tr>\n",
       "  </tbody>\n",
       "</table>\n",
       "<p>801 rows × 12 columns</p>\n",
       "</div>"
      ],
      "text/plain": [
       "    tipo_de_sala                    nombre  id_usuario  genero  edad  amigos  \\\n",
       "0             4d        Señor Camilo Pedro         117  hombre  73.5       0   \n",
       "1             4d    Señora Raquel Angelica         658   mujer  35.0       1   \n",
       "2         normal    Señor Antonio Federico         794  hombre   NaN       0   \n",
       "3             4d   Señor Osvaldo Aureliano         455  hombre   NaN       0   \n",
       "4             4d     Señorita Rita Eudosia         173   mujer   4.0       1   \n",
       "..           ...                       ...         ...     ...   ...     ...   \n",
       "796       normal    Señor Bernardo Melesio         448  hombre  37.0       0   \n",
       "797           3d   Señorita Lidia Catalina         636   mujer  31.0       0   \n",
       "798           4d      Señor Arturo Antenor         848  hombre  38.0       0   \n",
       "799           3d  Señorita Natividad Sofia         304   mujer   NaN       0   \n",
       "800           4d   Señor Isidoro Sebastian         385  hombre   NaN       0   \n",
       "\n",
       "     parientes id_ticket  precio_ticket      fila        nombre_sede  volveria  \n",
       "0            0    59258;              1       NaN    fiumark_quilmes         0  \n",
       "1            1    586:6;              2       NaN    fiumark_quilmes         0  \n",
       "2            0  RE\"39822              3       NaN  fiumark_chacarita         0  \n",
       "3            0  C17\"4:39              1       NaN    fiumark_palermo         0  \n",
       "4            1    569964              2       NaN    fiumark_palermo         1  \n",
       "..         ...       ...            ...       ...                ...       ...  \n",
       "796          0    3359;6              3       NaN    fiumark_palermo         1  \n",
       "797          0    45988:              2       NaN    fiumark_palermo         1  \n",
       "798          0    56;435              1       NaN  fiumark_chacarita         0  \n",
       "799          0    4487;5              2  adelante    fiumark_quilmes         1  \n",
       "800          0    56;449              1       NaN    fiumark_palermo         0  \n",
       "\n",
       "[801 rows x 12 columns]"
      ]
     },
     "execution_count": 19,
     "metadata": {},
     "output_type": "execute_result"
    }
   ],
   "source": [
    "# Preparacion del df\n",
    "train_df_features_aux = train_df_features.drop('Unnamed: 0', axis = 1)\n",
    "train_df_values_aux = train_df_values.drop('Unnamed: 0', axis = 1)\n",
    "df_features_target = pd.merge(train_df_features_aux,train_df_values_aux, on = 'id_usuario')\n",
    "df_features_target"
   ]
  },
  {
   "cell_type": "markdown",
   "metadata": {},
   "source": [
    "<font color='blue'>**SEGMENTO: COLUMNA GENERO**</font>"
   ]
  },
  {
   "cell_type": "code",
   "execution_count": 20,
   "metadata": {},
   "outputs": [
    {
     "data": {
      "text/html": [
       "<div>\n",
       "<style scoped>\n",
       "    .dataframe tbody tr th:only-of-type {\n",
       "        vertical-align: middle;\n",
       "    }\n",
       "\n",
       "    .dataframe tbody tr th {\n",
       "        vertical-align: top;\n",
       "    }\n",
       "\n",
       "    .dataframe thead th {\n",
       "        text-align: right;\n",
       "    }\n",
       "</style>\n",
       "<table border=\"1\" class=\"dataframe\">\n",
       "  <thead>\n",
       "    <tr style=\"text-align: right;\">\n",
       "      <th>volveria</th>\n",
       "      <th>genero</th>\n",
       "      <th>0</th>\n",
       "      <th>1</th>\n",
       "      <th>total</th>\n",
       "    </tr>\n",
       "  </thead>\n",
       "  <tbody>\n",
       "    <tr>\n",
       "      <th>0</th>\n",
       "      <td>hombre</td>\n",
       "      <td>419</td>\n",
       "      <td>94</td>\n",
       "      <td>513</td>\n",
       "    </tr>\n",
       "    <tr>\n",
       "      <th>1</th>\n",
       "      <td>mujer</td>\n",
       "      <td>75</td>\n",
       "      <td>213</td>\n",
       "      <td>288</td>\n",
       "    </tr>\n",
       "  </tbody>\n",
       "</table>\n",
       "</div>"
      ],
      "text/plain": [
       "volveria  genero    0    1  total\n",
       "0         hombre  419   94    513\n",
       "1          mujer   75  213    288"
      ]
     },
     "execution_count": 20,
     "metadata": {},
     "output_type": "execute_result"
    }
   ],
   "source": [
    "df_genero_vs_target = pd.crosstab(df_features_target['genero'],df_features_target['volveria']).reset_index()\n",
    "df_genero_vs_target['total'] = df_genero_vs_target [0] + df_genero_vs_target [1]\n",
    "df_genero_vs_target"
   ]
  },
  {
   "cell_type": "code",
   "execution_count": 21,
   "metadata": {},
   "outputs": [
    {
     "data": {
      "text/html": [
       "<div>\n",
       "<style scoped>\n",
       "    .dataframe tbody tr th:only-of-type {\n",
       "        vertical-align: middle;\n",
       "    }\n",
       "\n",
       "    .dataframe tbody tr th {\n",
       "        vertical-align: top;\n",
       "    }\n",
       "\n",
       "    .dataframe thead th {\n",
       "        text-align: right;\n",
       "    }\n",
       "</style>\n",
       "<table border=\"1\" class=\"dataframe\">\n",
       "  <thead>\n",
       "    <tr style=\"text-align: right;\">\n",
       "      <th>volveria</th>\n",
       "      <th>genero</th>\n",
       "      <th>no_percentage</th>\n",
       "      <th>yes_percentage</th>\n",
       "      <th>total_percentage</th>\n",
       "    </tr>\n",
       "  </thead>\n",
       "  <tbody>\n",
       "    <tr>\n",
       "      <th>0</th>\n",
       "      <td>hombre</td>\n",
       "      <td>81.676413</td>\n",
       "      <td>18.323587</td>\n",
       "      <td>100</td>\n",
       "    </tr>\n",
       "    <tr>\n",
       "      <th>1</th>\n",
       "      <td>mujer</td>\n",
       "      <td>26.041667</td>\n",
       "      <td>73.958333</td>\n",
       "      <td>100</td>\n",
       "    </tr>\n",
       "  </tbody>\n",
       "</table>\n",
       "</div>"
      ],
      "text/plain": [
       "volveria  genero  no_percentage  yes_percentage  total_percentage\n",
       "0         hombre      81.676413       18.323587               100\n",
       "1          mujer      26.041667       73.958333               100"
      ]
     },
     "execution_count": 21,
     "metadata": {},
     "output_type": "execute_result"
    }
   ],
   "source": [
    "# Convertimos valores a porcentajes\n",
    "df_genero_vs_target ['no_percentage'] = (df_genero_vs_target [0])*100/(df_genero_vs_target['total'])\n",
    "df_genero_vs_target ['yes_percentage'] = (df_genero_vs_target [1])*100/(df_genero_vs_target['total'])\n",
    "df_genero_vs_target ['total_percentage']=100\n",
    "del df_genero_vs_target[0]\n",
    "del df_genero_vs_target[1]\n",
    "del df_genero_vs_target['total']\n",
    "df_genero_vs_target"
   ]
  },
  {
   "cell_type": "code",
   "execution_count": 22,
   "metadata": {},
   "outputs": [
    {
     "data": {
      "image/png": "[encoded data removed]",
      "text/plain": [
       "<Figure size 1008x576 with 1 Axes>"
      ]
     },
     "metadata": {},
     "output_type": "display_data"
    }
   ],
   "source": [
    "sns.set_style('darkgrid')\n",
    "plt.figure(figsize = (14, 8))\n",
    "sns.set_color_codes(\"pastel\")\n",
    "sns.barplot(x = 'total_percentage', y = 'genero', data = df_genero_vs_target, color = 'g', label = 'volverian')\n",
    "sns.barplot(x = 'no_percentage', y = 'genero', data = df_genero_vs_target, color = 'r', label = 'no volverian')\n",
    "plt.tick_params(labelsize=18)\n",
    "\n",
    "plt.legend(ncol=2, loc=\"center\", frameon=True, fontsize = 15)\n",
    "\n",
    "sns.despine(left = True, bottom = True)\n",
    "plt.xlabel ('Tasa', fontweight = 'semibold', fontsize = 15)\n",
    "plt.ylabel ('Genero', fontweight = 'semibold', fontsize = 15)\n",
    "plt.title ('Intencion de retorno por genero', fontweight = 'semibold', fontsize = 20)\n",
    "plt.show()"
   ]
  },
  {
   "cell_type": "markdown",
   "metadata": {},
   "source": [
    "La grafica revela que el porcentaje de mujeres que volverian a alguno de los cines de FiuMark supera ampliamente el porcentaje de los hombres, de modo que, de realizarse algun tipo de campaña comercial que promocione Frozen 4, debe considerarse que el publico femenino probablemente sea el mas receptivo."
   ]
  },
  {
   "cell_type": "markdown",
   "metadata": {},
   "source": [
    "Podemos analizar la misma informacion desde otro angulo: es este caso podriamos ver la proporcion de hombres vs la proporcion de mujeres que  volverian (o no) a alguno de los cines de FiuMark"
   ]
  },
  {
   "cell_type": "code",
   "execution_count": 23,
   "metadata": {},
   "outputs": [
    {
     "data": {
      "text/html": [
       "<div>\n",
       "<style scoped>\n",
       "    .dataframe tbody tr th:only-of-type {\n",
       "        vertical-align: middle;\n",
       "    }\n",
       "\n",
       "    .dataframe tbody tr th {\n",
       "        vertical-align: top;\n",
       "    }\n",
       "\n",
       "    .dataframe thead th {\n",
       "        text-align: right;\n",
       "    }\n",
       "</style>\n",
       "<table border=\"1\" class=\"dataframe\">\n",
       "  <thead>\n",
       "    <tr style=\"text-align: right;\">\n",
       "      <th></th>\n",
       "      <th>tipo_de_sala</th>\n",
       "      <th>nombre</th>\n",
       "      <th>id_usuario</th>\n",
       "      <th>genero</th>\n",
       "      <th>edad</th>\n",
       "      <th>amigos</th>\n",
       "      <th>parientes</th>\n",
       "      <th>id_ticket</th>\n",
       "      <th>precio_ticket</th>\n",
       "      <th>fila</th>\n",
       "      <th>nombre_sede</th>\n",
       "      <th>volveria</th>\n",
       "    </tr>\n",
       "  </thead>\n",
       "  <tbody>\n",
       "    <tr>\n",
       "      <th>0</th>\n",
       "      <td>4d</td>\n",
       "      <td>Señor Camilo Pedro</td>\n",
       "      <td>117</td>\n",
       "      <td>hombre</td>\n",
       "      <td>73.5</td>\n",
       "      <td>0</td>\n",
       "      <td>0</td>\n",
       "      <td>59258;</td>\n",
       "      <td>1</td>\n",
       "      <td>NaN</td>\n",
       "      <td>fiumark_quilmes</td>\n",
       "      <td>0</td>\n",
       "    </tr>\n",
       "    <tr>\n",
       "      <th>1</th>\n",
       "      <td>4d</td>\n",
       "      <td>Señora Raquel Angelica</td>\n",
       "      <td>658</td>\n",
       "      <td>mujer</td>\n",
       "      <td>35.0</td>\n",
       "      <td>1</td>\n",
       "      <td>1</td>\n",
       "      <td>586:6;</td>\n",
       "      <td>2</td>\n",
       "      <td>NaN</td>\n",
       "      <td>fiumark_quilmes</td>\n",
       "      <td>0</td>\n",
       "    </tr>\n",
       "    <tr>\n",
       "      <th>2</th>\n",
       "      <td>normal</td>\n",
       "      <td>Señor Antonio Federico</td>\n",
       "      <td>794</td>\n",
       "      <td>hombre</td>\n",
       "      <td>NaN</td>\n",
       "      <td>0</td>\n",
       "      <td>0</td>\n",
       "      <td>RE\"39822</td>\n",
       "      <td>3</td>\n",
       "      <td>NaN</td>\n",
       "      <td>fiumark_chacarita</td>\n",
       "      <td>0</td>\n",
       "    </tr>\n",
       "    <tr>\n",
       "      <th>3</th>\n",
       "      <td>4d</td>\n",
       "      <td>Señor Osvaldo Aureliano</td>\n",
       "      <td>455</td>\n",
       "      <td>hombre</td>\n",
       "      <td>NaN</td>\n",
       "      <td>0</td>\n",
       "      <td>0</td>\n",
       "      <td>C17\"4:39</td>\n",
       "      <td>1</td>\n",
       "      <td>NaN</td>\n",
       "      <td>fiumark_palermo</td>\n",
       "      <td>0</td>\n",
       "    </tr>\n",
       "    <tr>\n",
       "      <th>4</th>\n",
       "      <td>4d</td>\n",
       "      <td>Señorita Rita Eudosia</td>\n",
       "      <td>173</td>\n",
       "      <td>mujer</td>\n",
       "      <td>4.0</td>\n",
       "      <td>1</td>\n",
       "      <td>1</td>\n",
       "      <td>569964</td>\n",
       "      <td>2</td>\n",
       "      <td>NaN</td>\n",
       "      <td>fiumark_palermo</td>\n",
       "      <td>1</td>\n",
       "    </tr>\n",
       "  </tbody>\n",
       "</table>\n",
       "</div>"
      ],
      "text/plain": [
       "  tipo_de_sala                   nombre  id_usuario  genero  edad  amigos  \\\n",
       "0           4d       Señor Camilo Pedro         117  hombre  73.5       0   \n",
       "1           4d   Señora Raquel Angelica         658   mujer  35.0       1   \n",
       "2       normal   Señor Antonio Federico         794  hombre   NaN       0   \n",
       "3           4d  Señor Osvaldo Aureliano         455  hombre   NaN       0   \n",
       "4           4d    Señorita Rita Eudosia         173   mujer   4.0       1   \n",
       "\n",
       "   parientes id_ticket  precio_ticket fila        nombre_sede  volveria  \n",
       "0          0    59258;              1  NaN    fiumark_quilmes         0  \n",
       "1          1    586:6;              2  NaN    fiumark_quilmes         0  \n",
       "2          0  RE\"39822              3  NaN  fiumark_chacarita         0  \n",
       "3          0  C17\"4:39              1  NaN    fiumark_palermo         0  \n",
       "4          1    569964              2  NaN    fiumark_palermo         1  "
      ]
     },
     "execution_count": 23,
     "metadata": {},
     "output_type": "execute_result"
    }
   ],
   "source": [
    "df_genero_and_target = df_features_target.copy()\n",
    "df_genero_and_target.head()"
   ]
  },
  {
   "cell_type": "code",
   "execution_count": 24,
   "metadata": {},
   "outputs": [
    {
     "data": {
      "text/html": [
       "<div>\n",
       "<style scoped>\n",
       "    .dataframe tbody tr th:only-of-type {\n",
       "        vertical-align: middle;\n",
       "    }\n",
       "\n",
       "    .dataframe tbody tr th {\n",
       "        vertical-align: top;\n",
       "    }\n",
       "\n",
       "    .dataframe thead th {\n",
       "        text-align: right;\n",
       "    }\n",
       "</style>\n",
       "<table border=\"1\" class=\"dataframe\">\n",
       "  <thead>\n",
       "    <tr style=\"text-align: right;\">\n",
       "      <th>genero</th>\n",
       "      <th>hombre</th>\n",
       "      <th>mujer</th>\n",
       "    </tr>\n",
       "    <tr>\n",
       "      <th>volveria</th>\n",
       "      <th></th>\n",
       "      <th></th>\n",
       "    </tr>\n",
       "  </thead>\n",
       "  <tbody>\n",
       "    <tr>\n",
       "      <th>no volveria</th>\n",
       "      <td>419</td>\n",
       "      <td>75</td>\n",
       "    </tr>\n",
       "    <tr>\n",
       "      <th>volveria</th>\n",
       "      <td>94</td>\n",
       "      <td>213</td>\n",
       "    </tr>\n",
       "  </tbody>\n",
       "</table>\n",
       "</div>"
      ],
      "text/plain": [
       "genero       hombre  mujer\n",
       "volveria                  \n",
       "no volveria     419     75\n",
       "volveria         94    213"
      ]
     },
     "execution_count": 24,
     "metadata": {},
     "output_type": "execute_result"
    }
   ],
   "source": [
    "df_genero_and_target = pd.crosstab(df_features_target['volveria'],df_features_target['genero']).reset_index()\n",
    "df_genero_and_target['volveria'] = df_genero_and_target['volveria'].map({0: 'no volveria', 1: 'volveria'})\n",
    "df_genero_and_target = df_genero_and_target.set_index('volveria')\n",
    "df_genero_and_target"
   ]
  },
  {
   "cell_type": "code",
   "execution_count": 25,
   "metadata": {},
   "outputs": [
    {
     "data": {
      "text/html": [
       "<div>\n",
       "<style scoped>\n",
       "    .dataframe tbody tr th:only-of-type {\n",
       "        vertical-align: middle;\n",
       "    }\n",
       "\n",
       "    .dataframe tbody tr th {\n",
       "        vertical-align: top;\n",
       "    }\n",
       "\n",
       "    .dataframe thead th {\n",
       "        text-align: right;\n",
       "    }\n",
       "</style>\n",
       "<table border=\"1\" class=\"dataframe\">\n",
       "  <thead>\n",
       "    <tr style=\"text-align: right;\">\n",
       "      <th>genero</th>\n",
       "      <th>hombre</th>\n",
       "      <th>mujer</th>\n",
       "    </tr>\n",
       "    <tr>\n",
       "      <th>volveria</th>\n",
       "      <th></th>\n",
       "      <th></th>\n",
       "    </tr>\n",
       "  </thead>\n",
       "  <tbody>\n",
       "    <tr>\n",
       "      <th>no volveria</th>\n",
       "      <td>0.848178</td>\n",
       "      <td>0.151822</td>\n",
       "    </tr>\n",
       "    <tr>\n",
       "      <th>volveria</th>\n",
       "      <td>0.306189</td>\n",
       "      <td>0.693811</td>\n",
       "    </tr>\n",
       "  </tbody>\n",
       "</table>\n",
       "</div>"
      ],
      "text/plain": [
       "genero         hombre     mujer\n",
       "volveria                       \n",
       "no volveria  0.848178  0.151822\n",
       "volveria     0.306189  0.693811"
      ]
     },
     "execution_count": 25,
     "metadata": {},
     "output_type": "execute_result"
    }
   ],
   "source": [
    "#convertimos a porcentajes\n",
    "df_genero_and_target_porcentual= df_genero_and_target.div(df_genero_and_target.sum(axis=1), axis=0)\n",
    "df_genero_and_target_porcentual"
   ]
  },
  {
   "cell_type": "code",
   "execution_count": 27,
   "metadata": {},
   "outputs": [
    {
     "data": {
      "text/plain": [
       "genero\n",
       "hombre    0.306189\n",
       "mujer     0.693811\n",
       "Name: volveria, dtype: float64"
      ]
     },
     "execution_count": 27,
     "metadata": {},
     "output_type": "execute_result"
    }
   ],
   "source": [
    "#Separamos la informacion por fila para crear los graficos asociados\n",
    "df_genero_and_target_porcentual_no_volverian = df_genero_and_target_porcentual.iloc[0,:]\n",
    "df_genero_and_target_porcentual_no_volverian\n",
    "df_genero_and_target_porcentual_volverian = df_genero_and_target_porcentual.iloc[1,:]\n",
    "df_genero_and_target_porcentual_volverian"
   ]
  },
  {
   "cell_type": "code",
   "execution_count": 28,
   "metadata": {},
   "outputs": [
    {
     "data": {
      "image/png": "[encoded data removed]",
      "text/plain": [
       "<Figure size 432x288 with 1 Axes>"
      ]
     },
     "metadata": {},
     "output_type": "display_data"
    }
   ],
   "source": [
    "labels = 'hombre', 'mujer'\n",
    "sns.set_color_codes(\"pastel\")\n",
    "sizes = [df_genero_and_target_porcentual.iloc[0,0], df_genero_and_target_porcentual.iloc[0,1]]\n",
    "explode = (0, 0.1)  # only \"explode\" the 2nd slice\n",
    "\n",
    "fig1, ax1 = plt.subplots()\n",
    "ax1.pie(sizes, explode=explode, labels=labels, autopct='%1.1f%%',\n",
    "        shadow=True, startangle=90)\n",
    "ax1.axis('equal')  # Equal aspect ratio ensures that pie is drawn as a circle.\n",
    "plt.title('Proporcion de personas que no volverian a FiuMark, por genero', fontweight = 'semibold', fontsize = 20)\n",
    "plt.show()"
   ]
  },
  {
   "cell_type": "code",
   "execution_count": 29,
   "metadata": {},
   "outputs": [
    {
     "data": {
      "image/png": "[encoded data removed]",
      "text/plain": [
       "<Figure size 432x288 with 1 Axes>"
      ]
     },
     "metadata": {},
     "output_type": "display_data"
    }
   ],
   "source": [
    "labels = 'hombre', 'mujer'\n",
    "sns.set_color_codes(\"pastel\")\n",
    "sizes = [df_genero_and_target_porcentual.iloc[1,0], df_genero_and_target_porcentual.iloc[1,1]]\n",
    "explode = (0, 0.1)  # only \"explode\" the 2nd slice\n",
    "\n",
    "fig1, ax1 = plt.subplots()\n",
    "ax1.pie(sizes, explode=explode, labels=labels, autopct='%1.1f%%',\n",
    "        shadow=True, startangle=90)\n",
    "ax1.axis('equal')  # Equal aspect ratio ensures that pie is drawn as a circle.\n",
    "plt.title('Proporcion de personas que volverian a FiuMark, por genero', fontweight = 'semibold', fontsize = 20)\n",
    "plt.show()"
   ]
  },
  {
   "cell_type": "markdown",
   "metadata": {},
   "source": [
    "Como se puede observar, y reforzando el analisis previo, el mayor porcentaje de personas que volverian a un cine FiuMark a ver Frozen 4 corresponde a las mujeres, a razon de 7 a 3. Por otro lado, los hombres no tienen intencion de volver a uno de estos cines a ver Frozen 4, con tasa 8 a 2 aproximadamente. Una observacion interesante es que el criterio para decidir quienes no volverian es mas fuerte que el criterio para decidir quienes si volverian, pues la diferencia porcentual entre los generos es mayor en el caso de los que no volverian."
   ]
  },
  {
   "cell_type": "markdown",
   "metadata": {},
   "source": [
    "<font color='blue'>**SEGMENTO: COLUMNA AMIGOS**</font>"
   ]
  },
  {
   "cell_type": "code",
   "execution_count": 30,
   "metadata": {},
   "outputs": [
    {
     "data": {
      "text/html": [
       "<div>\n",
       "<style scoped>\n",
       "    .dataframe tbody tr th:only-of-type {\n",
       "        vertical-align: middle;\n",
       "    }\n",
       "\n",
       "    .dataframe tbody tr th {\n",
       "        vertical-align: top;\n",
       "    }\n",
       "\n",
       "    .dataframe thead th {\n",
       "        text-align: right;\n",
       "    }\n",
       "</style>\n",
       "<table border=\"1\" class=\"dataframe\">\n",
       "  <thead>\n",
       "    <tr style=\"text-align: right;\">\n",
       "      <th>volveria</th>\n",
       "      <th>amigos</th>\n",
       "      <th>0</th>\n",
       "      <th>1</th>\n",
       "      <th>total</th>\n",
       "    </tr>\n",
       "  </thead>\n",
       "  <tbody>\n",
       "    <tr>\n",
       "      <th>0</th>\n",
       "      <td>0</td>\n",
       "      <td>363</td>\n",
       "      <td>194</td>\n",
       "      <td>557</td>\n",
       "    </tr>\n",
       "    <tr>\n",
       "      <th>1</th>\n",
       "      <td>1</td>\n",
       "      <td>84</td>\n",
       "      <td>95</td>\n",
       "      <td>179</td>\n",
       "    </tr>\n",
       "    <tr>\n",
       "      <th>2</th>\n",
       "      <td>2</td>\n",
       "      <td>12</td>\n",
       "      <td>13</td>\n",
       "      <td>25</td>\n",
       "    </tr>\n",
       "    <tr>\n",
       "      <th>3</th>\n",
       "      <td>3</td>\n",
       "      <td>11</td>\n",
       "      <td>3</td>\n",
       "      <td>14</td>\n",
       "    </tr>\n",
       "    <tr>\n",
       "      <th>4</th>\n",
       "      <td>4</td>\n",
       "      <td>13</td>\n",
       "      <td>2</td>\n",
       "      <td>15</td>\n",
       "    </tr>\n",
       "    <tr>\n",
       "      <th>5</th>\n",
       "      <td>5</td>\n",
       "      <td>5</td>\n",
       "      <td>0</td>\n",
       "      <td>5</td>\n",
       "    </tr>\n",
       "    <tr>\n",
       "      <th>6</th>\n",
       "      <td>8</td>\n",
       "      <td>6</td>\n",
       "      <td>0</td>\n",
       "      <td>6</td>\n",
       "    </tr>\n",
       "  </tbody>\n",
       "</table>\n",
       "</div>"
      ],
      "text/plain": [
       "volveria  amigos    0    1  total\n",
       "0              0  363  194    557\n",
       "1              1   84   95    179\n",
       "2              2   12   13     25\n",
       "3              3   11    3     14\n",
       "4              4   13    2     15\n",
       "5              5    5    0      5\n",
       "6              8    6    0      6"
      ]
     },
     "execution_count": 30,
     "metadata": {},
     "output_type": "execute_result"
    }
   ],
   "source": [
    "df_amigos_vs_target = pd.crosstab(df_features_target['amigos'],df_features_target['volveria']).reset_index()\n",
    "df_amigos_vs_target['total'] = df_amigos_vs_target [0] + df_amigos_vs_target [1]\n",
    "df_amigos_vs_target"
   ]
  },
  {
   "cell_type": "code",
   "execution_count": 31,
   "metadata": {},
   "outputs": [
    {
     "data": {
      "text/html": [
       "<div>\n",
       "<style scoped>\n",
       "    .dataframe tbody tr th:only-of-type {\n",
       "        vertical-align: middle;\n",
       "    }\n",
       "\n",
       "    .dataframe tbody tr th {\n",
       "        vertical-align: top;\n",
       "    }\n",
       "\n",
       "    .dataframe thead th {\n",
       "        text-align: right;\n",
       "    }\n",
       "</style>\n",
       "<table border=\"1\" class=\"dataframe\">\n",
       "  <thead>\n",
       "    <tr style=\"text-align: right;\">\n",
       "      <th>volveria</th>\n",
       "      <th>amigos</th>\n",
       "      <th>no_percentage</th>\n",
       "      <th>yes_percentage</th>\n",
       "      <th>total_percentage</th>\n",
       "    </tr>\n",
       "  </thead>\n",
       "  <tbody>\n",
       "    <tr>\n",
       "      <th>0</th>\n",
       "      <td>0</td>\n",
       "      <td>65.170557</td>\n",
       "      <td>34.829443</td>\n",
       "      <td>100</td>\n",
       "    </tr>\n",
       "    <tr>\n",
       "      <th>1</th>\n",
       "      <td>1</td>\n",
       "      <td>46.927374</td>\n",
       "      <td>53.072626</td>\n",
       "      <td>100</td>\n",
       "    </tr>\n",
       "    <tr>\n",
       "      <th>2</th>\n",
       "      <td>2</td>\n",
       "      <td>48.000000</td>\n",
       "      <td>52.000000</td>\n",
       "      <td>100</td>\n",
       "    </tr>\n",
       "    <tr>\n",
       "      <th>3</th>\n",
       "      <td>3</td>\n",
       "      <td>78.571429</td>\n",
       "      <td>21.428571</td>\n",
       "      <td>100</td>\n",
       "    </tr>\n",
       "    <tr>\n",
       "      <th>4</th>\n",
       "      <td>4</td>\n",
       "      <td>86.666667</td>\n",
       "      <td>13.333333</td>\n",
       "      <td>100</td>\n",
       "    </tr>\n",
       "    <tr>\n",
       "      <th>5</th>\n",
       "      <td>5</td>\n",
       "      <td>100.000000</td>\n",
       "      <td>0.000000</td>\n",
       "      <td>100</td>\n",
       "    </tr>\n",
       "    <tr>\n",
       "      <th>6</th>\n",
       "      <td>8</td>\n",
       "      <td>100.000000</td>\n",
       "      <td>0.000000</td>\n",
       "      <td>100</td>\n",
       "    </tr>\n",
       "  </tbody>\n",
       "</table>\n",
       "</div>"
      ],
      "text/plain": [
       "volveria  amigos  no_percentage  yes_percentage  total_percentage\n",
       "0              0      65.170557       34.829443               100\n",
       "1              1      46.927374       53.072626               100\n",
       "2              2      48.000000       52.000000               100\n",
       "3              3      78.571429       21.428571               100\n",
       "4              4      86.666667       13.333333               100\n",
       "5              5     100.000000        0.000000               100\n",
       "6              8     100.000000        0.000000               100"
      ]
     },
     "execution_count": 31,
     "metadata": {},
     "output_type": "execute_result"
    }
   ],
   "source": [
    "# Convertimos valores a porcentajes\n",
    "df_amigos_vs_target ['no_percentage'] = (df_amigos_vs_target [0])*100/(df_amigos_vs_target['total'])\n",
    "df_amigos_vs_target ['yes_percentage'] = (df_amigos_vs_target [1])*100/(df_amigos_vs_target['total'])\n",
    "df_amigos_vs_target ['total_percentage']=100\n",
    "del df_amigos_vs_target[0]\n",
    "del df_amigos_vs_target[1]\n",
    "del df_amigos_vs_target['total']\n",
    "df_amigos_vs_target"
   ]
  },
  {
   "cell_type": "code",
   "execution_count": 32,
   "metadata": {},
   "outputs": [
    {
     "data": {
      "image/png": "[encoded data removed]",
      "text/plain": [
       "<Figure size 1008x576 with 1 Axes>"
      ]
     },
     "metadata": {},
     "output_type": "display_data"
    }
   ],
   "source": [
    "sns.set_style('darkgrid')\n",
    "plt.figure(figsize = (14, 8))\n",
    "sns.set_color_codes(\"pastel\")\n",
    "sns.barplot(x = 'amigos', y = 'total_percentage', data = df_amigos_vs_target, color = 'g', label = 'volverian')\n",
    "sns.barplot(x = 'amigos', y = 'no_percentage', data = df_amigos_vs_target, color = 'r', label = 'no volverian')\n",
    "plt.tick_params(labelsize=18)\n",
    "\n",
    "plt.legend(ncol=2, loc=\"center\", frameon=True, fontsize = 15)\n",
    "\n",
    "sns.despine(left = True, bottom = True)\n",
    "plt.xlabel ('Cantidad de amigos', fontweight = 'semibold', fontsize = 15)\n",
    "plt.ylabel ('Tasa', fontweight = 'semibold', fontsize = 15)\n",
    "plt.title ('Intencion de retorno por cantidad de amigos', fontweight = 'semibold', fontsize = 20)\n",
    "plt.show()"
   ]
  },
  {
   "cell_type": "markdown",
   "metadata": {},
   "source": [
    "El diagrama de barras muestra claramente como aquellas personas que fueron a alguno de los cines de FiuMark en grupos numerosos (esto es, de 4 en adelante) son menos propensos a querer volver a uno de estos cines a ver Frozen 4. Por otro lado, para las personas que fueron solas o con no mas de 2 personas, la intencion de volver corresponde a la mitad. Una explicacion a este fenomeno puede ser que aquellos que van al cine en grupos numerosos lo hacen como salida de caracter social, independientemente de la pelicula que se vaya a proyectar o el cine al que asisten. De este modo, la intencion de volver a uno de los cines de FiuMark a ver una pelicula en especifico se mantiene muy baja, pues el objetivo de dicha salida grupal es mas de caracter social (lo que implica que tanto una salida al cine, una juntada en una cerveceria o salir a un boliche le resulta indiferente al grupo). \n",
    "Un comentario mas sobre la grafica. A partir de estos datos, el *feature* con mas peso, esto es, el que se puede usar para discriminar y obtener conclusiones robustas sobre quienen asistirian o no a un cine de FiuMark para ver Frozen 4, corresponde a los valores mayores a 3 amigos. En este caso, saber que una persona asistio a un cine con 3 o mas amigos puede ayudar a la firma a no considerar a estas personas como audiencia candidata para Frozen 4. Por otro lado, la informacion que brindan aquellas personas que asistieron solas o con menos de 3 amigos no resulta del todo util para categorizar pues se puede ver que la mitad de estas personas indicaron que volverian y la otra mitad (aproximadamente) indico que no. De modo que si, por ejemplo, una persona asitio sola, hay aproximadamente un 50% de probabilidad de que vuelva (en un espacio de probabilidad Laplaciano), lo cual no aporta informacion de interes para una campana publicitaria, por ejemplo (es decir, la variable \"0 amigos\" no permite concluir si volvera o no, el *insight* que aporta no es distinto al que aporta arrojar una moneda)."
   ]
  },
  {
   "cell_type": "markdown",
   "metadata": {},
   "source": [
    "<font color='blue'>**SEGMENTO: COLUMNA PARIENTES**</font>"
   ]
  },
  {
   "cell_type": "code",
   "execution_count": 33,
   "metadata": {},
   "outputs": [
    {
     "data": {
      "text/html": [
       "<div>\n",
       "<style scoped>\n",
       "    .dataframe tbody tr th:only-of-type {\n",
       "        vertical-align: middle;\n",
       "    }\n",
       "\n",
       "    .dataframe tbody tr th {\n",
       "        vertical-align: top;\n",
       "    }\n",
       "\n",
       "    .dataframe thead th {\n",
       "        text-align: right;\n",
       "    }\n",
       "</style>\n",
       "<table border=\"1\" class=\"dataframe\">\n",
       "  <thead>\n",
       "    <tr style=\"text-align: right;\">\n",
       "      <th>volveria</th>\n",
       "      <th>parientes</th>\n",
       "      <th>0</th>\n",
       "      <th>1</th>\n",
       "      <th>total</th>\n",
       "    </tr>\n",
       "  </thead>\n",
       "  <tbody>\n",
       "    <tr>\n",
       "      <th>0</th>\n",
       "      <td>0</td>\n",
       "      <td>398</td>\n",
       "      <td>209</td>\n",
       "      <td>607</td>\n",
       "    </tr>\n",
       "    <tr>\n",
       "      <th>1</th>\n",
       "      <td>1</td>\n",
       "      <td>50</td>\n",
       "      <td>60</td>\n",
       "      <td>110</td>\n",
       "    </tr>\n",
       "    <tr>\n",
       "      <th>2</th>\n",
       "      <td>2</td>\n",
       "      <td>36</td>\n",
       "      <td>34</td>\n",
       "      <td>70</td>\n",
       "    </tr>\n",
       "    <tr>\n",
       "      <th>3</th>\n",
       "      <td>3</td>\n",
       "      <td>2</td>\n",
       "      <td>3</td>\n",
       "      <td>5</td>\n",
       "    </tr>\n",
       "    <tr>\n",
       "      <th>4</th>\n",
       "      <td>4</td>\n",
       "      <td>4</td>\n",
       "      <td>0</td>\n",
       "      <td>4</td>\n",
       "    </tr>\n",
       "    <tr>\n",
       "      <th>5</th>\n",
       "      <td>5</td>\n",
       "      <td>3</td>\n",
       "      <td>1</td>\n",
       "      <td>4</td>\n",
       "    </tr>\n",
       "    <tr>\n",
       "      <th>6</th>\n",
       "      <td>6</td>\n",
       "      <td>1</td>\n",
       "      <td>0</td>\n",
       "      <td>1</td>\n",
       "    </tr>\n",
       "  </tbody>\n",
       "</table>\n",
       "</div>"
      ],
      "text/plain": [
       "volveria  parientes    0    1  total\n",
       "0                 0  398  209    607\n",
       "1                 1   50   60    110\n",
       "2                 2   36   34     70\n",
       "3                 3    2    3      5\n",
       "4                 4    4    0      4\n",
       "5                 5    3    1      4\n",
       "6                 6    1    0      1"
      ]
     },
     "execution_count": 33,
     "metadata": {},
     "output_type": "execute_result"
    }
   ],
   "source": [
    "df_parientes_vs_target = pd.crosstab(df_features_target['parientes'],df_features_target['volveria']).reset_index()\n",
    "df_parientes_vs_target['total'] = df_parientes_vs_target [0] + df_parientes_vs_target [1]\n",
    "df_parientes_vs_target"
   ]
  },
  {
   "cell_type": "code",
   "execution_count": 34,
   "metadata": {},
   "outputs": [
    {
     "data": {
      "text/html": [
       "<div>\n",
       "<style scoped>\n",
       "    .dataframe tbody tr th:only-of-type {\n",
       "        vertical-align: middle;\n",
       "    }\n",
       "\n",
       "    .dataframe tbody tr th {\n",
       "        vertical-align: top;\n",
       "    }\n",
       "\n",
       "    .dataframe thead th {\n",
       "        text-align: right;\n",
       "    }\n",
       "</style>\n",
       "<table border=\"1\" class=\"dataframe\">\n",
       "  <thead>\n",
       "    <tr style=\"text-align: right;\">\n",
       "      <th>volveria</th>\n",
       "      <th>parientes</th>\n",
       "      <th>no_percentage</th>\n",
       "      <th>yes_percentage</th>\n",
       "      <th>total_percentage</th>\n",
       "    </tr>\n",
       "  </thead>\n",
       "  <tbody>\n",
       "    <tr>\n",
       "      <th>0</th>\n",
       "      <td>0</td>\n",
       "      <td>65.568369</td>\n",
       "      <td>34.431631</td>\n",
       "      <td>100</td>\n",
       "    </tr>\n",
       "    <tr>\n",
       "      <th>1</th>\n",
       "      <td>1</td>\n",
       "      <td>45.454545</td>\n",
       "      <td>54.545455</td>\n",
       "      <td>100</td>\n",
       "    </tr>\n",
       "    <tr>\n",
       "      <th>2</th>\n",
       "      <td>2</td>\n",
       "      <td>51.428571</td>\n",
       "      <td>48.571429</td>\n",
       "      <td>100</td>\n",
       "    </tr>\n",
       "    <tr>\n",
       "      <th>3</th>\n",
       "      <td>3</td>\n",
       "      <td>40.000000</td>\n",
       "      <td>60.000000</td>\n",
       "      <td>100</td>\n",
       "    </tr>\n",
       "    <tr>\n",
       "      <th>4</th>\n",
       "      <td>4</td>\n",
       "      <td>100.000000</td>\n",
       "      <td>0.000000</td>\n",
       "      <td>100</td>\n",
       "    </tr>\n",
       "    <tr>\n",
       "      <th>5</th>\n",
       "      <td>5</td>\n",
       "      <td>75.000000</td>\n",
       "      <td>25.000000</td>\n",
       "      <td>100</td>\n",
       "    </tr>\n",
       "    <tr>\n",
       "      <th>6</th>\n",
       "      <td>6</td>\n",
       "      <td>100.000000</td>\n",
       "      <td>0.000000</td>\n",
       "      <td>100</td>\n",
       "    </tr>\n",
       "  </tbody>\n",
       "</table>\n",
       "</div>"
      ],
      "text/plain": [
       "volveria  parientes  no_percentage  yes_percentage  total_percentage\n",
       "0                 0      65.568369       34.431631               100\n",
       "1                 1      45.454545       54.545455               100\n",
       "2                 2      51.428571       48.571429               100\n",
       "3                 3      40.000000       60.000000               100\n",
       "4                 4     100.000000        0.000000               100\n",
       "5                 5      75.000000       25.000000               100\n",
       "6                 6     100.000000        0.000000               100"
      ]
     },
     "execution_count": 34,
     "metadata": {},
     "output_type": "execute_result"
    }
   ],
   "source": [
    "# Convertimos valores a porcentajes\n",
    "df_parientes_vs_target ['no_percentage'] = (df_parientes_vs_target [0])*100/(df_parientes_vs_target['total'])\n",
    "df_parientes_vs_target ['yes_percentage'] = (df_parientes_vs_target [1])*100/(df_parientes_vs_target['total'])\n",
    "df_parientes_vs_target ['total_percentage']=100\n",
    "del df_parientes_vs_target[0]\n",
    "del df_parientes_vs_target[1]\n",
    "del df_parientes_vs_target['total']\n",
    "df_parientes_vs_target"
   ]
  },
  {
   "cell_type": "code",
   "execution_count": 35,
   "metadata": {},
   "outputs": [
    {
     "data": {
      "image/png": "[encoded data removed]",
      "text/plain": [
       "<Figure size 1008x576 with 1 Axes>"
      ]
     },
     "metadata": {},
     "output_type": "display_data"
    }
   ],
   "source": [
    "sns.set_style('darkgrid')\n",
    "plt.figure(figsize = (14, 8))\n",
    "sns.set_color_codes(\"pastel\")\n",
    "sns.barplot(x = 'parientes', y = 'total_percentage', data = df_parientes_vs_target, color = 'g', label = 'volverian')\n",
    "sns.barplot(x = 'parientes', y = 'no_percentage', data = df_parientes_vs_target, color = 'r', label = 'no volverian')\n",
    "plt.tick_params(labelsize=18)\n",
    "\n",
    "plt.legend(ncol=2, loc=\"center\", frameon=True, fontsize = 15)\n",
    "\n",
    "sns.despine(left = True, bottom = True)\n",
    "plt.xlabel ('Cantidad de parientes', fontweight = 'semibold', fontsize = 15)\n",
    "plt.ylabel ('Tasa', fontweight = 'semibold', fontsize = 15)\n",
    "plt.title ('Intencion de retorno por cantidad de parientes', fontweight = 'semibold', fontsize = 20)\n",
    "plt.show()"
   ]
  },
  {
   "cell_type": "markdown",
   "metadata": {},
   "source": [
    "Un comentario necesario sobre este analisis y el referido a la segmentacion por cantidad de amigos es que, si bien estos grupos estan bien diferenciados (amigos y parientes son grupos distintos e independientes *a priori*) , el encuestado puede haber no aportado informacion totalmente veraz al momento de responder la pregunta \"con quien asististe al cine?\". El motivo detras de este comentario necesario es que puede ocurrir el caso de que en un grupo de personas (especialmente si el grupo es numeroso) amigos y parientes esten mezclados y no sea facil para el encuestado discriminar correctamente entre unos y otros, especialmente considerando que las encuestas no suelen ser del agrado de los clientes.\n",
    "\n",
    "Mas alla de este comentario, las conclusiones a las que se arribaron en el caso de la segmentacion por cantidad de parientes es similar a la de segmentacion por cantidad de amigos: los grupos grandes son los menos inclinados a volver a FiuMark a ver Frozen 4. La informacion que aportan los asistentes con 4 o 6 miembros familiares es determinante: ninguno de los encuestados volveria. \n",
    "\n",
    "Adicionalmente a la explicacion provista en el analisis anterior, no puede dejar de considerarse que existe la posibilidad de que las instalaciones de FiuMark tengan alguna caracteristica que hace que la experiencia para grupos numerosos no sea del todo placentera ni permite que los mismos se sientan comodos y a gusto. Esto quizas este relacionado a la experiencia en si y a lo que los grupos numerosos buscan en una salida de estas caracteristicas."
   ]
  },
  {
   "cell_type": "markdown",
   "metadata": {},
   "source": [
    "<font color='blue'>**SEGMENTO: COLUMNA NOMBRE_SEDE**</font>"
   ]
  },
  {
   "cell_type": "code",
   "execution_count": 36,
   "metadata": {},
   "outputs": [
    {
     "data": {
      "text/html": [
       "<div>\n",
       "<style scoped>\n",
       "    .dataframe tbody tr th:only-of-type {\n",
       "        vertical-align: middle;\n",
       "    }\n",
       "\n",
       "    .dataframe tbody tr th {\n",
       "        vertical-align: top;\n",
       "    }\n",
       "\n",
       "    .dataframe thead th {\n",
       "        text-align: right;\n",
       "    }\n",
       "</style>\n",
       "<table border=\"1\" class=\"dataframe\">\n",
       "  <thead>\n",
       "    <tr style=\"text-align: right;\">\n",
       "      <th>volveria</th>\n",
       "      <th>nombre_sede</th>\n",
       "      <th>0</th>\n",
       "      <th>1</th>\n",
       "      <th>total</th>\n",
       "    </tr>\n",
       "  </thead>\n",
       "  <tbody>\n",
       "    <tr>\n",
       "      <th>0</th>\n",
       "      <td>fiumark_chacarita</td>\n",
       "      <td>66</td>\n",
       "      <td>83</td>\n",
       "      <td>149</td>\n",
       "    </tr>\n",
       "    <tr>\n",
       "      <th>1</th>\n",
       "      <td>fiumark_palermo</td>\n",
       "      <td>384</td>\n",
       "      <td>195</td>\n",
       "      <td>579</td>\n",
       "    </tr>\n",
       "    <tr>\n",
       "      <th>2</th>\n",
       "      <td>fiumark_quilmes</td>\n",
       "      <td>44</td>\n",
       "      <td>27</td>\n",
       "      <td>71</td>\n",
       "    </tr>\n",
       "  </tbody>\n",
       "</table>\n",
       "</div>"
      ],
      "text/plain": [
       "volveria        nombre_sede    0    1  total\n",
       "0         fiumark_chacarita   66   83    149\n",
       "1           fiumark_palermo  384  195    579\n",
       "2           fiumark_quilmes   44   27     71"
      ]
     },
     "execution_count": 36,
     "metadata": {},
     "output_type": "execute_result"
    }
   ],
   "source": [
    "df_nombre_sede_vs_target = pd.crosstab(df_features_target['nombre_sede'],df_features_target['volveria']).reset_index()\n",
    "df_nombre_sede_vs_target['total'] = df_nombre_sede_vs_target [0] + df_nombre_sede_vs_target [1]\n",
    "df_nombre_sede_vs_target"
   ]
  },
  {
   "cell_type": "code",
   "execution_count": 37,
   "metadata": {},
   "outputs": [
    {
     "data": {
      "text/html": [
       "<div>\n",
       "<style scoped>\n",
       "    .dataframe tbody tr th:only-of-type {\n",
       "        vertical-align: middle;\n",
       "    }\n",
       "\n",
       "    .dataframe tbody tr th {\n",
       "        vertical-align: top;\n",
       "    }\n",
       "\n",
       "    .dataframe thead th {\n",
       "        text-align: right;\n",
       "    }\n",
       "</style>\n",
       "<table border=\"1\" class=\"dataframe\">\n",
       "  <thead>\n",
       "    <tr style=\"text-align: right;\">\n",
       "      <th>volveria</th>\n",
       "      <th>nombre_sede</th>\n",
       "      <th>no_percentage</th>\n",
       "      <th>yes_percentage</th>\n",
       "      <th>total_percentage</th>\n",
       "    </tr>\n",
       "  </thead>\n",
       "  <tbody>\n",
       "    <tr>\n",
       "      <th>0</th>\n",
       "      <td>fiumark_chacarita</td>\n",
       "      <td>44.295302</td>\n",
       "      <td>55.704698</td>\n",
       "      <td>100</td>\n",
       "    </tr>\n",
       "    <tr>\n",
       "      <th>1</th>\n",
       "      <td>fiumark_palermo</td>\n",
       "      <td>66.321244</td>\n",
       "      <td>33.678756</td>\n",
       "      <td>100</td>\n",
       "    </tr>\n",
       "    <tr>\n",
       "      <th>2</th>\n",
       "      <td>fiumark_quilmes</td>\n",
       "      <td>61.971831</td>\n",
       "      <td>38.028169</td>\n",
       "      <td>100</td>\n",
       "    </tr>\n",
       "  </tbody>\n",
       "</table>\n",
       "</div>"
      ],
      "text/plain": [
       "volveria        nombre_sede  no_percentage  yes_percentage  total_percentage\n",
       "0         fiumark_chacarita      44.295302       55.704698               100\n",
       "1           fiumark_palermo      66.321244       33.678756               100\n",
       "2           fiumark_quilmes      61.971831       38.028169               100"
      ]
     },
     "execution_count": 37,
     "metadata": {},
     "output_type": "execute_result"
    }
   ],
   "source": [
    "# Convertimos valores a porcentajes\n",
    "df_nombre_sede_vs_target ['no_percentage'] = (df_nombre_sede_vs_target [0])*100/(df_nombre_sede_vs_target['total'])\n",
    "df_nombre_sede_vs_target ['yes_percentage'] = (df_nombre_sede_vs_target [1])*100/(df_nombre_sede_vs_target['total'])\n",
    "df_nombre_sede_vs_target ['total_percentage']=100\n",
    "del df_nombre_sede_vs_target[0]\n",
    "del df_nombre_sede_vs_target[1]\n",
    "del df_nombre_sede_vs_target['total']\n",
    "df_nombre_sede_vs_target"
   ]
  },
  {
   "cell_type": "code",
   "execution_count": 38,
   "metadata": {},
   "outputs": [
    {
     "data": {
      "image/png": "[encoded data removed]",
      "text/plain": [
       "<Figure size 1008x576 with 1 Axes>"
      ]
     },
     "metadata": {},
     "output_type": "display_data"
    }
   ],
   "source": [
    "sns.set_style('darkgrid')\n",
    "plt.figure(figsize = (14, 8))\n",
    "sns.set_color_codes(\"pastel\")\n",
    "sns.barplot(x = 'nombre_sede', y = 'total_percentage', data = df_nombre_sede_vs_target, color = 'g', label = 'volverian')\n",
    "sns.barplot(x = 'nombre_sede', y = 'no_percentage', data = df_nombre_sede_vs_target, color = 'r', label = 'no volverian')\n",
    "plt.tick_params(labelsize=18)\n",
    "\n",
    "plt.legend(ncol=2, loc=\"center\", frameon=True, fontsize = 15)\n",
    "\n",
    "sns.despine(left = True, bottom = True)\n",
    "plt.xlabel ('Sede', fontweight = 'semibold', fontsize = 15)\n",
    "plt.ylabel ('Tasa', fontweight = 'semibold', fontsize = 15)\n",
    "plt.title ('Intencion de retorno por sede', fontweight = 'semibold', fontsize = 20)\n",
    "plt.show()"
   ]
  },
  {
   "cell_type": "markdown",
   "metadata": {},
   "source": [
    "En este caso, el criterio para discriminar por sede es bastante parejo. Aparentemente las diferencias entre las instalaciones y la comodidad y el confort que aportan no son significativas, lo cual puede deducirse de la cercania entre los porcentajes de los 3 complejos. Hay que destacar, sin embargo, que la sede de Palermo es la que menos reincidencia del publico experimentaria en caso de cumplirse las encuestas. Por otro lado, aquellos asistentes al FiuMark de Chacarita son los mas dispuestos a volver al complejo a ver Frozen 4.\n",
    "Un dato interesante tiene que ver con la cantidad de encuestados por complejo. Mientras que el total de encuestados en el FiuMark de Palermo fue de 579 personas, en Chacarita se encuestaron solo 149, lo que implica una diferencia porcentual de 400%. Esto quiere decir que se encuestaron mas personas en Palermo que en Chacarita, a razon de 4 a 1. Por que es esta informacion no menor? Como sabemos, por la Ley de los Grandes Numeros de estadistica, cuando la muestra (en este caso la cantidad de encuestados) es lo suficientemente grande, los resultados obtenidos converjen al valor promedio, que, en este caso, es el que refleja la \"realidad\" sobre la intencion de asistencia a ver Frozen 4. De modo que si bien los porcentajes obtenidos son correctos, los datos obtenidos en Palermo reflejan mejor la \"realidad\" sobre la intecion de volver a FiuMark a ver Frozen 4. Es imperativo que al momento de ponderar el *insight* que cada sede aporta, se considere esta caracteristica de las encuestas."
   ]
  },
  {
   "cell_type": "markdown",
   "metadata": {},
   "source": [
    "<font color='blue'>**SEGMENTO: COLUMNA PRECIO_TICKET**</font>"
   ]
  },
  {
   "cell_type": "code",
   "execution_count": 39,
   "metadata": {},
   "outputs": [
    {
     "data": {
      "text/html": [
       "<div>\n",
       "<style scoped>\n",
       "    .dataframe tbody tr th:only-of-type {\n",
       "        vertical-align: middle;\n",
       "    }\n",
       "\n",
       "    .dataframe tbody tr th {\n",
       "        vertical-align: top;\n",
       "    }\n",
       "\n",
       "    .dataframe thead th {\n",
       "        text-align: right;\n",
       "    }\n",
       "</style>\n",
       "<table border=\"1\" class=\"dataframe\">\n",
       "  <thead>\n",
       "    <tr style=\"text-align: right;\">\n",
       "      <th></th>\n",
       "      <th>precio_ticket</th>\n",
       "      <th>no_volverian</th>\n",
       "      <th>volverian</th>\n",
       "      <th>total</th>\n",
       "    </tr>\n",
       "  </thead>\n",
       "  <tbody>\n",
       "    <tr>\n",
       "      <th>0</th>\n",
       "      <td>1</td>\n",
       "      <td>254</td>\n",
       "      <td>59</td>\n",
       "      <td>313</td>\n",
       "    </tr>\n",
       "    <tr>\n",
       "      <th>1</th>\n",
       "      <td>2</td>\n",
       "      <td>92</td>\n",
       "      <td>73</td>\n",
       "      <td>165</td>\n",
       "    </tr>\n",
       "    <tr>\n",
       "      <th>2</th>\n",
       "      <td>3</td>\n",
       "      <td>68</td>\n",
       "      <td>60</td>\n",
       "      <td>128</td>\n",
       "    </tr>\n",
       "    <tr>\n",
       "      <th>3</th>\n",
       "      <td>4</td>\n",
       "      <td>27</td>\n",
       "      <td>17</td>\n",
       "      <td>44</td>\n",
       "    </tr>\n",
       "    <tr>\n",
       "      <th>4</th>\n",
       "      <td>5</td>\n",
       "      <td>11</td>\n",
       "      <td>4</td>\n",
       "      <td>15</td>\n",
       "    </tr>\n",
       "  </tbody>\n",
       "</table>\n",
       "</div>"
      ],
      "text/plain": [
       "   precio_ticket  no_volverian  volverian  total\n",
       "0              1           254         59    313\n",
       "1              2            92         73    165\n",
       "2              3            68         60    128\n",
       "3              4            27         17     44\n",
       "4              5            11          4     15"
      ]
     },
     "execution_count": 39,
     "metadata": {},
     "output_type": "execute_result"
    }
   ],
   "source": [
    "df_precio_ticket_vs_target = pd.crosstab(df_features_target['precio_ticket'],df_features_target['volveria']).reset_index()\n",
    "df_precio_ticket_vs_target['total'] = df_precio_ticket_vs_target [0] + df_precio_ticket_vs_target [1]\n",
    "df_precio_ticket_vs_target.columns = ['precio_ticket','no_volverian','volverian','total']\n",
    "df_precio_ticket_vs_target.head()"
   ]
  },
  {
   "cell_type": "code",
   "execution_count": 40,
   "metadata": {},
   "outputs": [
    {
     "data": {
      "image/png": "[encoded data removed]",
      "text/plain": [
       "<Figure size 1120x560 with 1 Axes>"
      ]
     },
     "metadata": {},
     "output_type": "display_data"
    }
   ],
   "source": [
    "import pylab as pl\n",
    "fig, ax = plt.subplots(figsize=(14,7), dpi= 80)\n",
    "ax.vlines(x=df_precio_ticket_vs_target.precio_ticket, ymin=0, ymax=df_precio_ticket_vs_target.volverian , color='firebrick', alpha=0.7, linewidth=2)\n",
    "ax.scatter(x=df_precio_ticket_vs_target.precio_ticket, y=df_precio_ticket_vs_target.volverian, s=75, color='firebrick', alpha=0.7)\n",
    "ax.set_title('Cantidad de personas que volverian por valor de entrada', fontdict={'size':22})\n",
    "ax.set_ylabel('Cantidad de personas', fontweight = 'semibold', fontsize = 15)\n",
    "ax.set_xlabel('Categoria-valor de la entrada',fontweight = 'semibold', fontsize = 15)\n",
    "\n",
    "ax.tick_params(axis='x', which='major', pad=15)\n",
    "ax.set_ylim(0, 90)\n",
    "\n",
    "# Annotate\n",
    "for row in df_precio_ticket_vs_target.itertuples():\n",
    "    ax.text(row.Index, row.volverian+.5, s=round(row.volverian, 2), horizontalalignment= 'center', verticalalignment='bottom', fontsize=14)\n",
    "\n",
    "plt.show()"
   ]
  },
  {
   "cell_type": "markdown",
   "metadata": {},
   "source": [
    "El grafico muestra que los compradores de las entradas mas baratas son aquellos con mayor disposicion a volver a algun cine de FiuMark a ver Frozen 3, en especial, los que adquirieron las entradas de las 3 categorias mas baratas. Se puede ver un decrecimiento de la forma:\n",
    "\n",
    "\\begin{equation*}\n",
    "\\frac{1}{k_1*x}\n",
    "\\end{equation*}\n",
    "con x correspondiente al valor de la entrada y \\begin{equation*} k_1>0 \\end{equation*} \n",
    "\n",
    "Una informacion con la que NO contamos sobre el valore de las entradas es si las mismas contemplan *precios promocion* o solo remiten a valores regulares de las entradas. De conocer este dato, se deberia analizar que tan sensible resulta el publico a las promociones en las entradas.\n",
    "\n",
    "Algo que llama poderosamente la atencion sobre la grafica es que, mientras que la categoria 1 y 3 tienen respuestas del publico similares, la categoria 2 sufre un salto significativo. Una informacion no disponible pero de interes es la que relaciona el valor de la entrada y el tipo de sala. Si la diferencia de confort y servicio entre la categoria mas baja de precios y la siguiente es significativa  - pero no ocurre asi con el precio - es de esperar que la cantidad de aquellos que concurrieron a los cines de precios correspondientes a la segunda categoria sea mayor a la primera categoria. Un razonamiento analogo puede realizarse entre els egundo rango de precios y el tercero (en este caso, la diferencia de confort y servicio entre la categoria 2 y 3 es infima pero no es asi con el precio)."
   ]
  },
  {
   "cell_type": "code",
   "execution_count": 41,
   "metadata": {},
   "outputs": [
    {
     "data": {
      "image/png": "[encoded data removed]",
      "text/plain": [
       "<Figure size 1120x560 with 1 Axes>"
      ]
     },
     "metadata": {},
     "output_type": "display_data"
    }
   ],
   "source": [
    "import pylab as pl\n",
    "# Draw plot\n",
    "#pl.rcParams['xtick.major.pad']='8'\n",
    "fig, ax = plt.subplots(figsize=(14,7), dpi= 80)\n",
    "ax.vlines(x=df_precio_ticket_vs_target.precio_ticket, ymin=0, ymax=df_precio_ticket_vs_target.no_volverian , color='firebrick', alpha=0.7, linewidth=2)\n",
    "ax.scatter(x=df_precio_ticket_vs_target.precio_ticket, y=df_precio_ticket_vs_target.no_volverian, s=75, color='firebrick', alpha=0.7)\n",
    "ax.set_title('Cantidad de personas que no volverian por valor de entrada', fontdict={'size':22})\n",
    "ax.set_ylabel('Cantidad de personas', fontweight = 'semibold', fontsize = 15)\n",
    "ax.set_xlabel('Categoria-valor de la entrada',fontweight = 'semibold', fontsize = 15)\n",
    "\n",
    "ax.tick_params(axis='x', which='major', pad=15)\n",
    "ax.set_ylim(-10, 260)\n",
    "\n",
    "# Annotate\n",
    "for row in df_precio_ticket_vs_target.itertuples():\n",
    "    ax.text(row.Index, row.no_volverian+.5, s=round(row.no_volverian, 2), horizontalalignment= 'center', verticalalignment='bottom', fontsize=14)\n",
    "\n",
    "plt.show()"
   ]
  },
  {
   "cell_type": "markdown",
   "metadata": {},
   "source": [
    "En este grafico, resulta interesante que aquellos que compraron la entrada mas barata son los menos dispuestos a volver a algun cine de FiuMark a ver Frozen 4. La diferencia absoluta con respecto al segundo grupo de menor disposicion a retornar es del 276%, lo cual resulta abismal. Una posible explicacion es que las personas que adquirieron dicha entrada lo hicieron a traves de alguna promocion o descuento ocasional, es decir, no son habitues de los cines de FiuMark, por lo que volver no es posible. Otra posibilidad es que la relacion precio-calidad de las entradas mas baratos sea mala y, por tanto, la experiencia en uno de los cines no admite reincidencia.\n",
    "\n",
    "Mas alla de este fenomeno, podemos ver que el decrecimiento de la grafica toma la forma:\n",
    "\n",
    "\\begin{equation*}\n",
    "\\frac{1}{k_2*x}\n",
    "\\end{equation*}\n",
    "con x correspondiente al valor de la entrada y \\begin{equation*} k_2>0 \\end{equation*} \n",
    "\n",
    "Si aunamos el analisis de aquellos que volverian y de los que no (por categoria de entrada), y asociamos la notacion del comportamiento de ambas graficas observamos que la tasa de caida en la intencion de reincidencia es mucho mayor en este caso que en el caso de los que si volverian, es decir: \\begin{equation*} k_2>k_1 \\end{equation*} \n",
    "\n",
    "De esta comparacion concluimos que, a medida que el precio de las entradas aumenta, la intencion de retorno cae en las formas antes descriptas, con mayor ritmo de caida en el caso de los que no volverian.\n",
    "\n",
    "Finalmente, algo que es esencial a este grafico es que si ignorando las primeras categorias del valor de las entradas, NO pueden tomarse como categorias robustas a las de valores altos para decidir entre aquellos que asistirian a la funcion de Frozen 4 en alguna de las salad e FiuMark o no. En conclusion, solo podemos separar entre aquellos que asistirian y los que no considerando las primeras categorias que son las que acumulan mayor cantidad de datos."
   ]
  },
  {
   "cell_type": "markdown",
   "metadata": {},
   "source": [
    "<font color='blue'>**SEGMENTO: COLUMNA EDAD**</font>"
   ]
  },
  {
   "cell_type": "code",
   "execution_count": 42,
   "metadata": {},
   "outputs": [
    {
     "data": {
      "text/html": [
       "<div>\n",
       "<style scoped>\n",
       "    .dataframe tbody tr th:only-of-type {\n",
       "        vertical-align: middle;\n",
       "    }\n",
       "\n",
       "    .dataframe tbody tr th {\n",
       "        vertical-align: top;\n",
       "    }\n",
       "\n",
       "    .dataframe thead th {\n",
       "        text-align: right;\n",
       "    }\n",
       "</style>\n",
       "<table border=\"1\" class=\"dataframe\">\n",
       "  <thead>\n",
       "    <tr style=\"text-align: right;\">\n",
       "      <th></th>\n",
       "      <th>edad</th>\n",
       "      <th>volveria</th>\n",
       "    </tr>\n",
       "  </thead>\n",
       "  <tbody>\n",
       "    <tr>\n",
       "      <th>0</th>\n",
       "      <td>73.5</td>\n",
       "      <td>0</td>\n",
       "    </tr>\n",
       "    <tr>\n",
       "      <th>1</th>\n",
       "      <td>35.0</td>\n",
       "      <td>0</td>\n",
       "    </tr>\n",
       "    <tr>\n",
       "      <th>4</th>\n",
       "      <td>4.0</td>\n",
       "      <td>1</td>\n",
       "    </tr>\n",
       "    <tr>\n",
       "      <th>7</th>\n",
       "      <td>32.0</td>\n",
       "      <td>0</td>\n",
       "    </tr>\n",
       "    <tr>\n",
       "      <th>8</th>\n",
       "      <td>41.0</td>\n",
       "      <td>1</td>\n",
       "    </tr>\n",
       "  </tbody>\n",
       "</table>\n",
       "</div>"
      ],
      "text/plain": [
       "   edad  volveria\n",
       "0  73.5         0\n",
       "1  35.0         0\n",
       "4   4.0         1\n",
       "7  32.0         0\n",
       "8  41.0         1"
      ]
     },
     "execution_count": 42,
     "metadata": {},
     "output_type": "execute_result"
    }
   ],
   "source": [
    "df_edad_vs_target = df_features_target[['edad', 'volveria']]\n",
    "df_edad_vs_target_not_null = df_edad_vs_target.dropna()\n",
    "df_edad_vs_target_not_null.head()"
   ]
  },
  {
   "cell_type": "code",
   "execution_count": 43,
   "metadata": {},
   "outputs": [
    {
     "data": {
      "text/html": [
       "<div>\n",
       "<style scoped>\n",
       "    .dataframe tbody tr th:only-of-type {\n",
       "        vertical-align: middle;\n",
       "    }\n",
       "\n",
       "    .dataframe tbody tr th {\n",
       "        vertical-align: top;\n",
       "    }\n",
       "\n",
       "    .dataframe thead th {\n",
       "        text-align: right;\n",
       "    }\n",
       "</style>\n",
       "<table border=\"1\" class=\"dataframe\">\n",
       "  <thead>\n",
       "    <tr style=\"text-align: right;\">\n",
       "      <th></th>\n",
       "      <th>edad</th>\n",
       "      <th>volveria</th>\n",
       "    </tr>\n",
       "  </thead>\n",
       "  <tbody>\n",
       "    <tr>\n",
       "      <th>4</th>\n",
       "      <td>4.0</td>\n",
       "      <td>1</td>\n",
       "    </tr>\n",
       "    <tr>\n",
       "      <th>8</th>\n",
       "      <td>41.0</td>\n",
       "      <td>1</td>\n",
       "    </tr>\n",
       "    <tr>\n",
       "      <th>9</th>\n",
       "      <td>59.0</td>\n",
       "      <td>1</td>\n",
       "    </tr>\n",
       "    <tr>\n",
       "      <th>13</th>\n",
       "      <td>45.0</td>\n",
       "      <td>1</td>\n",
       "    </tr>\n",
       "    <tr>\n",
       "      <th>14</th>\n",
       "      <td>29.0</td>\n",
       "      <td>1</td>\n",
       "    </tr>\n",
       "  </tbody>\n",
       "</table>\n",
       "</div>"
      ],
      "text/plain": [
       "    edad  volveria\n",
       "4    4.0         1\n",
       "8   41.0         1\n",
       "9   59.0         1\n",
       "13  45.0         1\n",
       "14  29.0         1"
      ]
     },
     "execution_count": 43,
     "metadata": {},
     "output_type": "execute_result"
    }
   ],
   "source": [
    "df_edad_vs_target_volverian = df_edad_vs_target_not_null[df_edad_vs_target_not_null['volveria']==1]\n",
    "df_edad_vs_target_volverian.head()"
   ]
  },
  {
   "cell_type": "code",
   "execution_count": 44,
   "metadata": {},
   "outputs": [
    {
     "data": {
      "text/html": [
       "<div>\n",
       "<style scoped>\n",
       "    .dataframe tbody tr th:only-of-type {\n",
       "        vertical-align: middle;\n",
       "    }\n",
       "\n",
       "    .dataframe tbody tr th {\n",
       "        vertical-align: top;\n",
       "    }\n",
       "\n",
       "    .dataframe thead th {\n",
       "        text-align: right;\n",
       "    }\n",
       "</style>\n",
       "<table border=\"1\" class=\"dataframe\">\n",
       "  <thead>\n",
       "    <tr style=\"text-align: right;\">\n",
       "      <th></th>\n",
       "      <th>edad</th>\n",
       "      <th>volveria</th>\n",
       "    </tr>\n",
       "  </thead>\n",
       "  <tbody>\n",
       "    <tr>\n",
       "      <th>0</th>\n",
       "      <td>73.5</td>\n",
       "      <td>0</td>\n",
       "    </tr>\n",
       "    <tr>\n",
       "      <th>1</th>\n",
       "      <td>35.0</td>\n",
       "      <td>0</td>\n",
       "    </tr>\n",
       "    <tr>\n",
       "      <th>7</th>\n",
       "      <td>32.0</td>\n",
       "      <td>0</td>\n",
       "    </tr>\n",
       "    <tr>\n",
       "      <th>10</th>\n",
       "      <td>43.5</td>\n",
       "      <td>0</td>\n",
       "    </tr>\n",
       "    <tr>\n",
       "      <th>11</th>\n",
       "      <td>27.0</td>\n",
       "      <td>0</td>\n",
       "    </tr>\n",
       "  </tbody>\n",
       "</table>\n",
       "</div>"
      ],
      "text/plain": [
       "    edad  volveria\n",
       "0   73.5         0\n",
       "1   35.0         0\n",
       "7   32.0         0\n",
       "10  43.5         0\n",
       "11  27.0         0"
      ]
     },
     "execution_count": 44,
     "metadata": {},
     "output_type": "execute_result"
    }
   ],
   "source": [
    "df_edad_vs_target_no_volverian = df_edad_vs_target_not_null[df_edad_vs_target_not_null['volveria']==0]\n",
    "df_edad_vs_target_no_volverian.head()"
   ]
  },
  {
   "cell_type": "code",
   "execution_count": 45,
   "metadata": {},
   "outputs": [
    {
     "data": {
      "image/png": "[encoded data removed]",
      "text/plain": [
       "<Figure size 504x360 with 1 Axes>"
      ]
     },
     "metadata": {},
     "output_type": "display_data"
    }
   ],
   "source": [
    "sns.set_style('white')\n",
    "plt.figure(figsize = (7,5))\n",
    "sns.distplot(df_edad_vs_target_volverian.edad, color = 'orange', kde_kws = {'shade':True}, hist = False)\n",
    "plt.axvline(df_edad_vs_target_volverian.edad.median(), ymax = 0.95, linestyle = '--')\n",
    "sns.despine(left = True)\n",
    "plt.yticks([])\n",
    "plt.text(df_edad_vs_target_volverian.edad.median() + 2, 0.004, \"Edad promedio: \" + str(df_edad_vs_target_volverian.edad.median()), \n",
    "         style = 'italic', fontsize = 12)\n",
    "plt.xlabel(\"Edad encuestado\", fontsize = 12, fontweight = 'semibold')\n",
    "plt.title('Distribucion de la edad de los encuestados que volverian', fontsize = 16, fontweight = 'semibold')\n",
    "plt.show()"
   ]
  },
  {
   "cell_type": "markdown",
   "metadata": {},
   "source": [
    "La probabilidad asociada de la edad de los encuestados que vovlerian muestran que el grupo candidato se concetra entre 20 y 50 años aproximadamente. "
   ]
  },
  {
   "cell_type": "code",
   "execution_count": 46,
   "metadata": {},
   "outputs": [
    {
     "data": {
      "image/png": "[encoded data removed]",
      "text/plain": [
       "<Figure size 504x360 with 1 Axes>"
      ]
     },
     "metadata": {},
     "output_type": "display_data"
    }
   ],
   "source": [
    "sns.set_style('white')\n",
    "plt.figure(figsize = (7,5))\n",
    "sns.distplot(df_edad_vs_target_no_volverian.edad, color = 'orange', kde_kws = {'shade':True}, hist = False)\n",
    "plt.axvline(df_edad_vs_target_no_volverian.edad.median(), ymax = 0.95, linestyle = '--')\n",
    "sns.despine(left = True)\n",
    "plt.yticks([])\n",
    "plt.text(df_edad_vs_target_no_volverian.edad.median() + 2, 0.004, \"Edad promedio: \" + str(df_edad_vs_target_no_volverian.edad.median()), \n",
    "         style = 'italic', fontsize = 12)\n",
    "plt.xlabel(\"Edad encuestado\", fontsize = 12, fontweight = 'semibold')\n",
    "plt.title('Distribucion de la edad de los encuestados que NO volverian', fontsize = 16, fontweight = 'semibold')\n",
    "plt.show()"
   ]
  },
  {
   "cell_type": "markdown",
   "metadata": {},
   "source": [
    "Al igual que la distribucion anterior, la probabilidad asociada a la edad de los encuestados que NO volverian TAMBIEN se concentran entre 20 y 50 anos aproximadamente. Esto genera un problema al momento de elegir este rango de edad para arribar a alguna conclusion (en este caso, si asistirian o no). Dicho problema estriba en el hecho de que en este rango de edad, tenemos probabilidades similares de que asistan o no a la proxima pelicula de Frozen, y esto no es mejor probabilidad que la que aporta  arrojar una moneda para decidir.\n",
    "Por otro lado, se pueden analizar otros rangos de edades y ver si aportan *insights* relevantes. Por ejemplo, vemos que en las edades que van de 0 a 20 años, se acumula mas probabilidad para los que volverian que para los que no volverian. Hay que recordar, no obstante, que los encuestados en este rango son niños y niñas y su decicion de volver quedara circunscripta a la voluntad de sus padres y/o tutores.\n",
    "Finalmente, en el rango de mayores de 60, las probabilidades acumuladas son similares.\n",
    "En conclusion, el analisis del *feature* **edad** parece no aportar datos relevantes *per se* a la pregunta de si volverian (o no) a uno de los cines de FiuMark a ver Frozen 4."
   ]
  },
  {
   "cell_type": "markdown",
   "metadata": {},
   "source": [
    "A fin de realizar un analisis exhaustivo en lo que respecta a la intencion de volver a FiuMark de los distintos grupos de edades, se particiono el conjunto de encuestados para analizar probabilidades, tomando franjas de edad de 10 años."
   ]
  },
  {
   "cell_type": "markdown",
   "metadata": {},
   "source": [
    "**Creamos los grupos de edades tomados de a 10 años**"
   ]
  },
  {
   "cell_type": "code",
   "execution_count": 47,
   "metadata": {},
   "outputs": [
    {
     "data": {
      "text/html": [
       "<div>\n",
       "<style scoped>\n",
       "    .dataframe tbody tr th:only-of-type {\n",
       "        vertical-align: middle;\n",
       "    }\n",
       "\n",
       "    .dataframe tbody tr th {\n",
       "        vertical-align: top;\n",
       "    }\n",
       "\n",
       "    .dataframe thead th {\n",
       "        text-align: right;\n",
       "    }\n",
       "</style>\n",
       "<table border=\"1\" class=\"dataframe\">\n",
       "  <thead>\n",
       "    <tr style=\"text-align: right;\">\n",
       "      <th></th>\n",
       "      <th>edad</th>\n",
       "      <th>volveria</th>\n",
       "    </tr>\n",
       "  </thead>\n",
       "  <tbody>\n",
       "    <tr>\n",
       "      <th>0</th>\n",
       "      <td>73.5</td>\n",
       "      <td>0</td>\n",
       "    </tr>\n",
       "    <tr>\n",
       "      <th>1</th>\n",
       "      <td>35.0</td>\n",
       "      <td>0</td>\n",
       "    </tr>\n",
       "    <tr>\n",
       "      <th>4</th>\n",
       "      <td>4.0</td>\n",
       "      <td>1</td>\n",
       "    </tr>\n",
       "    <tr>\n",
       "      <th>7</th>\n",
       "      <td>32.0</td>\n",
       "      <td>0</td>\n",
       "    </tr>\n",
       "    <tr>\n",
       "      <th>8</th>\n",
       "      <td>41.0</td>\n",
       "      <td>1</td>\n",
       "    </tr>\n",
       "  </tbody>\n",
       "</table>\n",
       "</div>"
      ],
      "text/plain": [
       "   edad  volveria\n",
       "0  73.5         0\n",
       "1  35.0         0\n",
       "4   4.0         1\n",
       "7  32.0         0\n",
       "8  41.0         1"
      ]
     },
     "execution_count": 47,
     "metadata": {},
     "output_type": "execute_result"
    }
   ],
   "source": [
    "df_grupos_edad_vs_target = df_features_target[['edad','volveria']]\n",
    "df_grupos_edad_vs_target = df_grupos_edad_vs_target.dropna()\n",
    "df_grupos_edad_vs_target.head()"
   ]
  },
  {
   "cell_type": "code",
   "execution_count": 48,
   "metadata": {},
   "outputs": [],
   "source": [
    "#Funcion uniformizadora: uniformiza los df's para concatenarlos todos a un df final segmentado por grupos de edades\n",
    "def uniformizacion (df):\n",
    "    df['volverian'] = df.iloc[1,1]\n",
    "    df ['no_volverian'] = df.iloc[0,1]\n",
    "    del df['volveria']\n",
    "    df.iloc[:,0] = df.columns[0]\n",
    "    df = df.rename(columns = {df.columns[0]:'grupo'})#, inplace = True)\n",
    "    df = df.drop_duplicates()\n",
    "    return df"
   ]
  },
  {
   "cell_type": "code",
   "execution_count": 49,
   "metadata": {},
   "outputs": [
    {
     "data": {
      "text/html": [
       "<div>\n",
       "<style scoped>\n",
       "    .dataframe tbody tr th:only-of-type {\n",
       "        vertical-align: middle;\n",
       "    }\n",
       "\n",
       "    .dataframe tbody tr th {\n",
       "        vertical-align: top;\n",
       "    }\n",
       "\n",
       "    .dataframe thead th {\n",
       "        text-align: right;\n",
       "    }\n",
       "</style>\n",
       "<table border=\"1\" class=\"dataframe\">\n",
       "  <thead>\n",
       "    <tr style=\"text-align: right;\">\n",
       "      <th></th>\n",
       "      <th>edad</th>\n",
       "      <th>volveria</th>\n",
       "    </tr>\n",
       "  </thead>\n",
       "  <tbody>\n",
       "    <tr>\n",
       "      <th>4</th>\n",
       "      <td>4.00</td>\n",
       "      <td>1</td>\n",
       "    </tr>\n",
       "    <tr>\n",
       "      <th>21</th>\n",
       "      <td>7.00</td>\n",
       "      <td>1</td>\n",
       "    </tr>\n",
       "    <tr>\n",
       "      <th>38</th>\n",
       "      <td>4.00</td>\n",
       "      <td>1</td>\n",
       "    </tr>\n",
       "    <tr>\n",
       "      <th>50</th>\n",
       "      <td>3.83</td>\n",
       "      <td>1</td>\n",
       "    </tr>\n",
       "    <tr>\n",
       "      <th>65</th>\n",
       "      <td>4.00</td>\n",
       "      <td>1</td>\n",
       "    </tr>\n",
       "  </tbody>\n",
       "</table>\n",
       "</div>"
      ],
      "text/plain": [
       "    edad  volveria\n",
       "4   4.00         1\n",
       "21  7.00         1\n",
       "38  4.00         1\n",
       "50  3.83         1\n",
       "65  4.00         1"
      ]
     },
     "execution_count": 49,
     "metadata": {},
     "output_type": "execute_result"
    }
   ],
   "source": [
    "# GRUPO 1: 0 - 10\n",
    "df_grupos_edad_vs_target_grupo_uno= df_grupos_edad_vs_target.loc[df_grupos_edad_vs_target['edad']<10]\n",
    "df_grupos_edad_vs_target_grupo_uno.head()"
   ]
  },
  {
   "cell_type": "code",
   "execution_count": 50,
   "metadata": {},
   "outputs": [
    {
     "name": "stderr",
     "output_type": "stream",
     "text": [
      "C:\\Users\\Ron Heyes\\anaconda3\\lib\\site-packages\\ipykernel_launcher.py:1: SettingWithCopyWarning: \n",
      "A value is trying to be set on a copy of a slice from a DataFrame.\n",
      "Try using .loc[row_indexer,col_indexer] = value instead\n",
      "\n",
      "See the caveats in the documentation: https://pandas.pydata.org/pandas-docs/stable/user_guide/indexing.html#returning-a-view-versus-a-copy\n",
      "  \"\"\"Entry point for launching an IPython kernel.\n"
     ]
    },
    {
     "data": {
      "text/html": [
       "<div>\n",
       "<style scoped>\n",
       "    .dataframe tbody tr th:only-of-type {\n",
       "        vertical-align: middle;\n",
       "    }\n",
       "\n",
       "    .dataframe tbody tr th {\n",
       "        vertical-align: top;\n",
       "    }\n",
       "\n",
       "    .dataframe thead th {\n",
       "        text-align: right;\n",
       "    }\n",
       "</style>\n",
       "<table border=\"1\" class=\"dataframe\">\n",
       "  <thead>\n",
       "    <tr style=\"text-align: right;\">\n",
       "      <th></th>\n",
       "      <th>volveria</th>\n",
       "      <th>0_a_10</th>\n",
       "    </tr>\n",
       "  </thead>\n",
       "  <tbody>\n",
       "    <tr>\n",
       "      <th>4</th>\n",
       "      <td>1</td>\n",
       "      <td>1</td>\n",
       "    </tr>\n",
       "    <tr>\n",
       "      <th>21</th>\n",
       "      <td>1</td>\n",
       "      <td>1</td>\n",
       "    </tr>\n",
       "    <tr>\n",
       "      <th>38</th>\n",
       "      <td>1</td>\n",
       "      <td>1</td>\n",
       "    </tr>\n",
       "    <tr>\n",
       "      <th>50</th>\n",
       "      <td>1</td>\n",
       "      <td>1</td>\n",
       "    </tr>\n",
       "    <tr>\n",
       "      <th>65</th>\n",
       "      <td>1</td>\n",
       "      <td>1</td>\n",
       "    </tr>\n",
       "  </tbody>\n",
       "</table>\n",
       "</div>"
      ],
      "text/plain": [
       "    volveria  0_a_10\n",
       "4          1       1\n",
       "21         1       1\n",
       "38         1       1\n",
       "50         1       1\n",
       "65         1       1"
      ]
     },
     "execution_count": 50,
     "metadata": {},
     "output_type": "execute_result"
    }
   ],
   "source": [
    "df_grupos_edad_vs_target_grupo_uno ['0_a_10'] = 1\n",
    "df_grupos_edad_vs_target_grupo_uno_short = df_grupos_edad_vs_target_grupo_uno [['volveria','0_a_10']]\n",
    "df_grupos_edad_vs_target_grupo_uno_short.head()"
   ]
  },
  {
   "cell_type": "code",
   "execution_count": 51,
   "metadata": {},
   "outputs": [
    {
     "data": {
      "text/html": [
       "<div>\n",
       "<style scoped>\n",
       "    .dataframe tbody tr th:only-of-type {\n",
       "        vertical-align: middle;\n",
       "    }\n",
       "\n",
       "    .dataframe tbody tr th {\n",
       "        vertical-align: top;\n",
       "    }\n",
       "\n",
       "    .dataframe thead th {\n",
       "        text-align: right;\n",
       "    }\n",
       "</style>\n",
       "<table border=\"1\" class=\"dataframe\">\n",
       "  <thead>\n",
       "    <tr style=\"text-align: right;\">\n",
       "      <th></th>\n",
       "      <th>volveria</th>\n",
       "      <th>0_a_10</th>\n",
       "    </tr>\n",
       "  </thead>\n",
       "  <tbody>\n",
       "    <tr>\n",
       "      <th>0</th>\n",
       "      <td>0</td>\n",
       "      <td>11</td>\n",
       "    </tr>\n",
       "    <tr>\n",
       "      <th>1</th>\n",
       "      <td>1</td>\n",
       "      <td>28</td>\n",
       "    </tr>\n",
       "  </tbody>\n",
       "</table>\n",
       "</div>"
      ],
      "text/plain": [
       "   volveria  0_a_10\n",
       "0         0      11\n",
       "1         1      28"
      ]
     },
     "execution_count": 51,
     "metadata": {},
     "output_type": "execute_result"
    }
   ],
   "source": [
    "df_grupos_edad_vs_target_grupo_uno_final = df_grupos_edad_vs_target_grupo_uno_short.groupby('volveria')['0_a_10'].agg('sum')\n",
    "df_grupos_edad_vs_target_grupo_uno_final = df_grupos_edad_vs_target_grupo_uno_final.reset_index()\n",
    "df_grupos_edad_vs_target_grupo_uno_final.head()"
   ]
  },
  {
   "cell_type": "code",
   "execution_count": 52,
   "metadata": {},
   "outputs": [
    {
     "data": {
      "text/html": [
       "<div>\n",
       "<style scoped>\n",
       "    .dataframe tbody tr th:only-of-type {\n",
       "        vertical-align: middle;\n",
       "    }\n",
       "\n",
       "    .dataframe tbody tr th {\n",
       "        vertical-align: top;\n",
       "    }\n",
       "\n",
       "    .dataframe thead th {\n",
       "        text-align: right;\n",
       "    }\n",
       "</style>\n",
       "<table border=\"1\" class=\"dataframe\">\n",
       "  <thead>\n",
       "    <tr style=\"text-align: right;\">\n",
       "      <th></th>\n",
       "      <th>grupo</th>\n",
       "      <th>volverian</th>\n",
       "      <th>no_volverian</th>\n",
       "    </tr>\n",
       "  </thead>\n",
       "  <tbody>\n",
       "    <tr>\n",
       "      <th>0</th>\n",
       "      <td>0_a_10</td>\n",
       "      <td>28</td>\n",
       "      <td>11</td>\n",
       "    </tr>\n",
       "  </tbody>\n",
       "</table>\n",
       "</div>"
      ],
      "text/plain": [
       "    grupo  volverian  no_volverian\n",
       "0  0_a_10         28            11"
      ]
     },
     "execution_count": 52,
     "metadata": {},
     "output_type": "execute_result"
    }
   ],
   "source": [
    "grupo_uno = uniformizacion(df_grupos_edad_vs_target_grupo_uno_final)\n",
    "grupo_uno"
   ]
  },
  {
   "cell_type": "code",
   "execution_count": 53,
   "metadata": {},
   "outputs": [
    {
     "data": {
      "text/html": [
       "<div>\n",
       "<style scoped>\n",
       "    .dataframe tbody tr th:only-of-type {\n",
       "        vertical-align: middle;\n",
       "    }\n",
       "\n",
       "    .dataframe tbody tr th {\n",
       "        vertical-align: top;\n",
       "    }\n",
       "\n",
       "    .dataframe thead th {\n",
       "        text-align: right;\n",
       "    }\n",
       "</style>\n",
       "<table border=\"1\" class=\"dataframe\">\n",
       "  <thead>\n",
       "    <tr style=\"text-align: right;\">\n",
       "      <th></th>\n",
       "      <th>edad</th>\n",
       "      <th>volveria</th>\n",
       "    </tr>\n",
       "  </thead>\n",
       "  <tbody>\n",
       "    <tr>\n",
       "      <th>24</th>\n",
       "      <td>11.0</td>\n",
       "      <td>0</td>\n",
       "    </tr>\n",
       "    <tr>\n",
       "      <th>27</th>\n",
       "      <td>15.0</td>\n",
       "      <td>1</td>\n",
       "    </tr>\n",
       "    <tr>\n",
       "      <th>31</th>\n",
       "      <td>19.0</td>\n",
       "      <td>0</td>\n",
       "    </tr>\n",
       "    <tr>\n",
       "      <th>53</th>\n",
       "      <td>12.0</td>\n",
       "      <td>1</td>\n",
       "    </tr>\n",
       "    <tr>\n",
       "      <th>66</th>\n",
       "      <td>11.0</td>\n",
       "      <td>1</td>\n",
       "    </tr>\n",
       "  </tbody>\n",
       "</table>\n",
       "</div>"
      ],
      "text/plain": [
       "    edad  volveria\n",
       "24  11.0         0\n",
       "27  15.0         1\n",
       "31  19.0         0\n",
       "53  12.0         1\n",
       "66  11.0         1"
      ]
     },
     "execution_count": 53,
     "metadata": {},
     "output_type": "execute_result"
    }
   ],
   "source": [
    "# GRUPO 2: entre 10 - 20\n",
    "df_grupos_edad_vs_target_grupo_dos= df_grupos_edad_vs_target.loc[(df_grupos_edad_vs_target['edad']>10) & (df_grupos_edad_vs_target['edad']<20)]\n",
    "df_grupos_edad_vs_target_grupo_dos.head()"
   ]
  },
  {
   "cell_type": "code",
   "execution_count": 54,
   "metadata": {},
   "outputs": [
    {
     "name": "stderr",
     "output_type": "stream",
     "text": [
      "C:\\Users\\Ron Heyes\\anaconda3\\lib\\site-packages\\ipykernel_launcher.py:1: SettingWithCopyWarning: \n",
      "A value is trying to be set on a copy of a slice from a DataFrame.\n",
      "Try using .loc[row_indexer,col_indexer] = value instead\n",
      "\n",
      "See the caveats in the documentation: https://pandas.pydata.org/pandas-docs/stable/user_guide/indexing.html#returning-a-view-versus-a-copy\n",
      "  \"\"\"Entry point for launching an IPython kernel.\n"
     ]
    },
    {
     "data": {
      "text/html": [
       "<div>\n",
       "<style scoped>\n",
       "    .dataframe tbody tr th:only-of-type {\n",
       "        vertical-align: middle;\n",
       "    }\n",
       "\n",
       "    .dataframe tbody tr th {\n",
       "        vertical-align: top;\n",
       "    }\n",
       "\n",
       "    .dataframe thead th {\n",
       "        text-align: right;\n",
       "    }\n",
       "</style>\n",
       "<table border=\"1\" class=\"dataframe\">\n",
       "  <thead>\n",
       "    <tr style=\"text-align: right;\">\n",
       "      <th></th>\n",
       "      <th>volveria</th>\n",
       "      <th>10_a_20</th>\n",
       "    </tr>\n",
       "  </thead>\n",
       "  <tbody>\n",
       "    <tr>\n",
       "      <th>24</th>\n",
       "      <td>0</td>\n",
       "      <td>1</td>\n",
       "    </tr>\n",
       "    <tr>\n",
       "      <th>27</th>\n",
       "      <td>1</td>\n",
       "      <td>1</td>\n",
       "    </tr>\n",
       "    <tr>\n",
       "      <th>31</th>\n",
       "      <td>0</td>\n",
       "      <td>1</td>\n",
       "    </tr>\n",
       "    <tr>\n",
       "      <th>53</th>\n",
       "      <td>1</td>\n",
       "      <td>1</td>\n",
       "    </tr>\n",
       "    <tr>\n",
       "      <th>66</th>\n",
       "      <td>1</td>\n",
       "      <td>1</td>\n",
       "    </tr>\n",
       "  </tbody>\n",
       "</table>\n",
       "</div>"
      ],
      "text/plain": [
       "    volveria  10_a_20\n",
       "24         0        1\n",
       "27         1        1\n",
       "31         0        1\n",
       "53         1        1\n",
       "66         1        1"
      ]
     },
     "execution_count": 54,
     "metadata": {},
     "output_type": "execute_result"
    }
   ],
   "source": [
    "df_grupos_edad_vs_target_grupo_dos ['10_a_20'] = 1\n",
    "df_grupos_edad_vs_target_grupo_dos_short = df_grupos_edad_vs_target_grupo_dos [['volveria','10_a_20']]\n",
    "df_grupos_edad_vs_target_grupo_dos_short.head()"
   ]
  },
  {
   "cell_type": "code",
   "execution_count": 55,
   "metadata": {},
   "outputs": [
    {
     "data": {
      "text/html": [
       "<div>\n",
       "<style scoped>\n",
       "    .dataframe tbody tr th:only-of-type {\n",
       "        vertical-align: middle;\n",
       "    }\n",
       "\n",
       "    .dataframe tbody tr th {\n",
       "        vertical-align: top;\n",
       "    }\n",
       "\n",
       "    .dataframe thead th {\n",
       "        text-align: right;\n",
       "    }\n",
       "</style>\n",
       "<table border=\"1\" class=\"dataframe\">\n",
       "  <thead>\n",
       "    <tr style=\"text-align: right;\">\n",
       "      <th></th>\n",
       "      <th>volveria</th>\n",
       "      <th>10_a_20</th>\n",
       "    </tr>\n",
       "  </thead>\n",
       "  <tbody>\n",
       "    <tr>\n",
       "      <th>0</th>\n",
       "      <td>0</td>\n",
       "      <td>28</td>\n",
       "    </tr>\n",
       "    <tr>\n",
       "      <th>1</th>\n",
       "      <td>1</td>\n",
       "      <td>18</td>\n",
       "    </tr>\n",
       "  </tbody>\n",
       "</table>\n",
       "</div>"
      ],
      "text/plain": [
       "   volveria  10_a_20\n",
       "0         0       28\n",
       "1         1       18"
      ]
     },
     "execution_count": 55,
     "metadata": {},
     "output_type": "execute_result"
    }
   ],
   "source": [
    "df_grupos_edad_vs_target_grupo_dos_final = df_grupos_edad_vs_target_grupo_dos_short.groupby('volveria')['10_a_20'].agg('sum')\n",
    "df_grupos_edad_vs_target_grupo_dos_final = df_grupos_edad_vs_target_grupo_dos_final.reset_index()\n",
    "df_grupos_edad_vs_target_grupo_dos_final.head()"
   ]
  },
  {
   "cell_type": "code",
   "execution_count": 56,
   "metadata": {},
   "outputs": [
    {
     "data": {
      "text/html": [
       "<div>\n",
       "<style scoped>\n",
       "    .dataframe tbody tr th:only-of-type {\n",
       "        vertical-align: middle;\n",
       "    }\n",
       "\n",
       "    .dataframe tbody tr th {\n",
       "        vertical-align: top;\n",
       "    }\n",
       "\n",
       "    .dataframe thead th {\n",
       "        text-align: right;\n",
       "    }\n",
       "</style>\n",
       "<table border=\"1\" class=\"dataframe\">\n",
       "  <thead>\n",
       "    <tr style=\"text-align: right;\">\n",
       "      <th></th>\n",
       "      <th>grupo</th>\n",
       "      <th>volverian</th>\n",
       "      <th>no_volverian</th>\n",
       "    </tr>\n",
       "  </thead>\n",
       "  <tbody>\n",
       "    <tr>\n",
       "      <th>0</th>\n",
       "      <td>10_a_20</td>\n",
       "      <td>18</td>\n",
       "      <td>28</td>\n",
       "    </tr>\n",
       "  </tbody>\n",
       "</table>\n",
       "</div>"
      ],
      "text/plain": [
       "     grupo  volverian  no_volverian\n",
       "0  10_a_20         18            28"
      ]
     },
     "execution_count": 56,
     "metadata": {},
     "output_type": "execute_result"
    }
   ],
   "source": [
    "grupo_dos = uniformizacion(df_grupos_edad_vs_target_grupo_dos_final)\n",
    "grupo_dos"
   ]
  },
  {
   "cell_type": "code",
   "execution_count": 57,
   "metadata": {},
   "outputs": [
    {
     "data": {
      "text/html": [
       "<div>\n",
       "<style scoped>\n",
       "    .dataframe tbody tr th:only-of-type {\n",
       "        vertical-align: middle;\n",
       "    }\n",
       "\n",
       "    .dataframe tbody tr th {\n",
       "        vertical-align: top;\n",
       "    }\n",
       "\n",
       "    .dataframe thead th {\n",
       "        text-align: right;\n",
       "    }\n",
       "</style>\n",
       "<table border=\"1\" class=\"dataframe\">\n",
       "  <thead>\n",
       "    <tr style=\"text-align: right;\">\n",
       "      <th></th>\n",
       "      <th>edad</th>\n",
       "      <th>volveria</th>\n",
       "    </tr>\n",
       "  </thead>\n",
       "  <tbody>\n",
       "    <tr>\n",
       "      <th>11</th>\n",
       "      <td>27.0</td>\n",
       "      <td>0</td>\n",
       "    </tr>\n",
       "    <tr>\n",
       "      <th>14</th>\n",
       "      <td>29.0</td>\n",
       "      <td>1</td>\n",
       "    </tr>\n",
       "    <tr>\n",
       "      <th>17</th>\n",
       "      <td>24.0</td>\n",
       "      <td>1</td>\n",
       "    </tr>\n",
       "    <tr>\n",
       "      <th>18</th>\n",
       "      <td>22.0</td>\n",
       "      <td>0</td>\n",
       "    </tr>\n",
       "    <tr>\n",
       "      <th>19</th>\n",
       "      <td>28.0</td>\n",
       "      <td>1</td>\n",
       "    </tr>\n",
       "  </tbody>\n",
       "</table>\n",
       "</div>"
      ],
      "text/plain": [
       "    edad  volveria\n",
       "11  27.0         0\n",
       "14  29.0         1\n",
       "17  24.0         1\n",
       "18  22.0         0\n",
       "19  28.0         1"
      ]
     },
     "execution_count": 57,
     "metadata": {},
     "output_type": "execute_result"
    }
   ],
   "source": [
    "# GRUPO 3: entre 20 - 30\n",
    "df_grupos_edad_vs_target_grupo_tres= df_grupos_edad_vs_target.loc[(df_grupos_edad_vs_target['edad']>20) & (df_grupos_edad_vs_target['edad']<30)]\n",
    "df_grupos_edad_vs_target_grupo_tres.head()"
   ]
  },
  {
   "cell_type": "code",
   "execution_count": 58,
   "metadata": {},
   "outputs": [
    {
     "name": "stderr",
     "output_type": "stream",
     "text": [
      "C:\\Users\\Ron Heyes\\anaconda3\\lib\\site-packages\\ipykernel_launcher.py:1: SettingWithCopyWarning: \n",
      "A value is trying to be set on a copy of a slice from a DataFrame.\n",
      "Try using .loc[row_indexer,col_indexer] = value instead\n",
      "\n",
      "See the caveats in the documentation: https://pandas.pydata.org/pandas-docs/stable/user_guide/indexing.html#returning-a-view-versus-a-copy\n",
      "  \"\"\"Entry point for launching an IPython kernel.\n"
     ]
    },
    {
     "data": {
      "text/html": [
       "<div>\n",
       "<style scoped>\n",
       "    .dataframe tbody tr th:only-of-type {\n",
       "        vertical-align: middle;\n",
       "    }\n",
       "\n",
       "    .dataframe tbody tr th {\n",
       "        vertical-align: top;\n",
       "    }\n",
       "\n",
       "    .dataframe thead th {\n",
       "        text-align: right;\n",
       "    }\n",
       "</style>\n",
       "<table border=\"1\" class=\"dataframe\">\n",
       "  <thead>\n",
       "    <tr style=\"text-align: right;\">\n",
       "      <th></th>\n",
       "      <th>volveria</th>\n",
       "      <th>20_a_30</th>\n",
       "    </tr>\n",
       "  </thead>\n",
       "  <tbody>\n",
       "    <tr>\n",
       "      <th>11</th>\n",
       "      <td>0</td>\n",
       "      <td>1</td>\n",
       "    </tr>\n",
       "    <tr>\n",
       "      <th>14</th>\n",
       "      <td>1</td>\n",
       "      <td>1</td>\n",
       "    </tr>\n",
       "    <tr>\n",
       "      <th>17</th>\n",
       "      <td>1</td>\n",
       "      <td>1</td>\n",
       "    </tr>\n",
       "    <tr>\n",
       "      <th>18</th>\n",
       "      <td>0</td>\n",
       "      <td>1</td>\n",
       "    </tr>\n",
       "    <tr>\n",
       "      <th>19</th>\n",
       "      <td>1</td>\n",
       "      <td>1</td>\n",
       "    </tr>\n",
       "  </tbody>\n",
       "</table>\n",
       "</div>"
      ],
      "text/plain": [
       "    volveria  20_a_30\n",
       "11         0        1\n",
       "14         1        1\n",
       "17         1        1\n",
       "18         0        1\n",
       "19         1        1"
      ]
     },
     "execution_count": 58,
     "metadata": {},
     "output_type": "execute_result"
    }
   ],
   "source": [
    "df_grupos_edad_vs_target_grupo_tres ['20_a_30'] = 1\n",
    "df_grupos_edad_vs_target_grupo_tres_short = df_grupos_edad_vs_target_grupo_tres [['volveria','20_a_30']]\n",
    "df_grupos_edad_vs_target_grupo_tres_short.head()"
   ]
  },
  {
   "cell_type": "code",
   "execution_count": 59,
   "metadata": {},
   "outputs": [
    {
     "data": {
      "text/html": [
       "<div>\n",
       "<style scoped>\n",
       "    .dataframe tbody tr th:only-of-type {\n",
       "        vertical-align: middle;\n",
       "    }\n",
       "\n",
       "    .dataframe tbody tr th {\n",
       "        vertical-align: top;\n",
       "    }\n",
       "\n",
       "    .dataframe thead th {\n",
       "        text-align: right;\n",
       "    }\n",
       "</style>\n",
       "<table border=\"1\" class=\"dataframe\">\n",
       "  <thead>\n",
       "    <tr style=\"text-align: right;\">\n",
       "      <th></th>\n",
       "      <th>volveria</th>\n",
       "      <th>20_a_30</th>\n",
       "    </tr>\n",
       "  </thead>\n",
       "  <tbody>\n",
       "    <tr>\n",
       "      <th>0</th>\n",
       "      <td>0</td>\n",
       "      <td>124</td>\n",
       "    </tr>\n",
       "    <tr>\n",
       "      <th>1</th>\n",
       "      <td>1</td>\n",
       "      <td>64</td>\n",
       "    </tr>\n",
       "  </tbody>\n",
       "</table>\n",
       "</div>"
      ],
      "text/plain": [
       "   volveria  20_a_30\n",
       "0         0      124\n",
       "1         1       64"
      ]
     },
     "execution_count": 59,
     "metadata": {},
     "output_type": "execute_result"
    }
   ],
   "source": [
    "df_grupos_edad_vs_target_grupo_tres_final = df_grupos_edad_vs_target_grupo_tres_short.groupby('volveria')['20_a_30'].agg('sum')\n",
    "df_grupos_edad_vs_target_grupo_tres_final = df_grupos_edad_vs_target_grupo_tres_final.reset_index()\n",
    "df_grupos_edad_vs_target_grupo_tres_final.head()"
   ]
  },
  {
   "cell_type": "code",
   "execution_count": 60,
   "metadata": {},
   "outputs": [
    {
     "data": {
      "text/html": [
       "<div>\n",
       "<style scoped>\n",
       "    .dataframe tbody tr th:only-of-type {\n",
       "        vertical-align: middle;\n",
       "    }\n",
       "\n",
       "    .dataframe tbody tr th {\n",
       "        vertical-align: top;\n",
       "    }\n",
       "\n",
       "    .dataframe thead th {\n",
       "        text-align: right;\n",
       "    }\n",
       "</style>\n",
       "<table border=\"1\" class=\"dataframe\">\n",
       "  <thead>\n",
       "    <tr style=\"text-align: right;\">\n",
       "      <th></th>\n",
       "      <th>grupo</th>\n",
       "      <th>volverian</th>\n",
       "      <th>no_volverian</th>\n",
       "    </tr>\n",
       "  </thead>\n",
       "  <tbody>\n",
       "    <tr>\n",
       "      <th>0</th>\n",
       "      <td>20_a_30</td>\n",
       "      <td>64</td>\n",
       "      <td>124</td>\n",
       "    </tr>\n",
       "  </tbody>\n",
       "</table>\n",
       "</div>"
      ],
      "text/plain": [
       "     grupo  volverian  no_volverian\n",
       "0  20_a_30         64           124"
      ]
     },
     "execution_count": 60,
     "metadata": {},
     "output_type": "execute_result"
    }
   ],
   "source": [
    "grupo_tres = uniformizacion(df_grupos_edad_vs_target_grupo_tres_final)\n",
    "grupo_tres"
   ]
  },
  {
   "cell_type": "code",
   "execution_count": 61,
   "metadata": {},
   "outputs": [
    {
     "data": {
      "text/html": [
       "<div>\n",
       "<style scoped>\n",
       "    .dataframe tbody tr th:only-of-type {\n",
       "        vertical-align: middle;\n",
       "    }\n",
       "\n",
       "    .dataframe tbody tr th {\n",
       "        vertical-align: top;\n",
       "    }\n",
       "\n",
       "    .dataframe thead th {\n",
       "        text-align: right;\n",
       "    }\n",
       "</style>\n",
       "<table border=\"1\" class=\"dataframe\">\n",
       "  <thead>\n",
       "    <tr style=\"text-align: right;\">\n",
       "      <th></th>\n",
       "      <th>edad</th>\n",
       "      <th>volveria</th>\n",
       "    </tr>\n",
       "  </thead>\n",
       "  <tbody>\n",
       "    <tr>\n",
       "      <th>1</th>\n",
       "      <td>35.0</td>\n",
       "      <td>0</td>\n",
       "    </tr>\n",
       "    <tr>\n",
       "      <th>7</th>\n",
       "      <td>32.0</td>\n",
       "      <td>0</td>\n",
       "    </tr>\n",
       "    <tr>\n",
       "      <th>12</th>\n",
       "      <td>33.5</td>\n",
       "      <td>0</td>\n",
       "    </tr>\n",
       "    <tr>\n",
       "      <th>28</th>\n",
       "      <td>33.5</td>\n",
       "      <td>0</td>\n",
       "    </tr>\n",
       "    <tr>\n",
       "      <th>29</th>\n",
       "      <td>39.0</td>\n",
       "      <td>0</td>\n",
       "    </tr>\n",
       "  </tbody>\n",
       "</table>\n",
       "</div>"
      ],
      "text/plain": [
       "    edad  volveria\n",
       "1   35.0         0\n",
       "7   32.0         0\n",
       "12  33.5         0\n",
       "28  33.5         0\n",
       "29  39.0         0"
      ]
     },
     "execution_count": 61,
     "metadata": {},
     "output_type": "execute_result"
    }
   ],
   "source": [
    "# GRUPO 4: entre 30 - 40\n",
    "df_grupos_edad_vs_target_grupo_cuatro= df_grupos_edad_vs_target.loc[(df_grupos_edad_vs_target['edad']>30) & (df_grupos_edad_vs_target['edad']<40)]\n",
    "df_grupos_edad_vs_target_grupo_cuatro.head()"
   ]
  },
  {
   "cell_type": "code",
   "execution_count": 62,
   "metadata": {},
   "outputs": [
    {
     "name": "stderr",
     "output_type": "stream",
     "text": [
      "C:\\Users\\Ron Heyes\\anaconda3\\lib\\site-packages\\ipykernel_launcher.py:1: SettingWithCopyWarning: \n",
      "A value is trying to be set on a copy of a slice from a DataFrame.\n",
      "Try using .loc[row_indexer,col_indexer] = value instead\n",
      "\n",
      "See the caveats in the documentation: https://pandas.pydata.org/pandas-docs/stable/user_guide/indexing.html#returning-a-view-versus-a-copy\n",
      "  \"\"\"Entry point for launching an IPython kernel.\n"
     ]
    },
    {
     "data": {
      "text/html": [
       "<div>\n",
       "<style scoped>\n",
       "    .dataframe tbody tr th:only-of-type {\n",
       "        vertical-align: middle;\n",
       "    }\n",
       "\n",
       "    .dataframe tbody tr th {\n",
       "        vertical-align: top;\n",
       "    }\n",
       "\n",
       "    .dataframe thead th {\n",
       "        text-align: right;\n",
       "    }\n",
       "</style>\n",
       "<table border=\"1\" class=\"dataframe\">\n",
       "  <thead>\n",
       "    <tr style=\"text-align: right;\">\n",
       "      <th></th>\n",
       "      <th>volveria</th>\n",
       "      <th>30_a_40</th>\n",
       "    </tr>\n",
       "  </thead>\n",
       "  <tbody>\n",
       "    <tr>\n",
       "      <th>1</th>\n",
       "      <td>0</td>\n",
       "      <td>1</td>\n",
       "    </tr>\n",
       "    <tr>\n",
       "      <th>7</th>\n",
       "      <td>0</td>\n",
       "      <td>1</td>\n",
       "    </tr>\n",
       "    <tr>\n",
       "      <th>12</th>\n",
       "      <td>0</td>\n",
       "      <td>1</td>\n",
       "    </tr>\n",
       "    <tr>\n",
       "      <th>28</th>\n",
       "      <td>0</td>\n",
       "      <td>1</td>\n",
       "    </tr>\n",
       "    <tr>\n",
       "      <th>29</th>\n",
       "      <td>0</td>\n",
       "      <td>1</td>\n",
       "    </tr>\n",
       "  </tbody>\n",
       "</table>\n",
       "</div>"
      ],
      "text/plain": [
       "    volveria  30_a_40\n",
       "1          0        1\n",
       "7          0        1\n",
       "12         0        1\n",
       "28         0        1\n",
       "29         0        1"
      ]
     },
     "execution_count": 62,
     "metadata": {},
     "output_type": "execute_result"
    }
   ],
   "source": [
    "df_grupos_edad_vs_target_grupo_cuatro ['30_a_40'] = 1\n",
    "df_grupos_edad_vs_target_grupo_cuatro_short = df_grupos_edad_vs_target_grupo_cuatro [['volveria','30_a_40']]\n",
    "df_grupos_edad_vs_target_grupo_cuatro_short.head()"
   ]
  },
  {
   "cell_type": "code",
   "execution_count": 63,
   "metadata": {},
   "outputs": [
    {
     "data": {
      "text/html": [
       "<div>\n",
       "<style scoped>\n",
       "    .dataframe tbody tr th:only-of-type {\n",
       "        vertical-align: middle;\n",
       "    }\n",
       "\n",
       "    .dataframe tbody tr th {\n",
       "        vertical-align: top;\n",
       "    }\n",
       "\n",
       "    .dataframe thead th {\n",
       "        text-align: right;\n",
       "    }\n",
       "</style>\n",
       "<table border=\"1\" class=\"dataframe\">\n",
       "  <thead>\n",
       "    <tr style=\"text-align: right;\">\n",
       "      <th></th>\n",
       "      <th>volveria</th>\n",
       "      <th>30_a_40</th>\n",
       "    </tr>\n",
       "  </thead>\n",
       "  <tbody>\n",
       "    <tr>\n",
       "      <th>0</th>\n",
       "      <td>0</td>\n",
       "      <td>95</td>\n",
       "    </tr>\n",
       "    <tr>\n",
       "      <th>1</th>\n",
       "      <td>1</td>\n",
       "      <td>70</td>\n",
       "    </tr>\n",
       "  </tbody>\n",
       "</table>\n",
       "</div>"
      ],
      "text/plain": [
       "   volveria  30_a_40\n",
       "0         0       95\n",
       "1         1       70"
      ]
     },
     "execution_count": 63,
     "metadata": {},
     "output_type": "execute_result"
    }
   ],
   "source": [
    "df_grupos_edad_vs_target_grupo_cuatro_final = df_grupos_edad_vs_target_grupo_cuatro_short.groupby('volveria')['30_a_40'].agg('sum')\n",
    "df_grupos_edad_vs_target_grupo_cuatro_final = df_grupos_edad_vs_target_grupo_cuatro_final.reset_index()\n",
    "df_grupos_edad_vs_target_grupo_cuatro_final.head()"
   ]
  },
  {
   "cell_type": "code",
   "execution_count": 64,
   "metadata": {},
   "outputs": [
    {
     "data": {
      "text/html": [
       "<div>\n",
       "<style scoped>\n",
       "    .dataframe tbody tr th:only-of-type {\n",
       "        vertical-align: middle;\n",
       "    }\n",
       "\n",
       "    .dataframe tbody tr th {\n",
       "        vertical-align: top;\n",
       "    }\n",
       "\n",
       "    .dataframe thead th {\n",
       "        text-align: right;\n",
       "    }\n",
       "</style>\n",
       "<table border=\"1\" class=\"dataframe\">\n",
       "  <thead>\n",
       "    <tr style=\"text-align: right;\">\n",
       "      <th></th>\n",
       "      <th>grupo</th>\n",
       "      <th>volverian</th>\n",
       "      <th>no_volverian</th>\n",
       "    </tr>\n",
       "  </thead>\n",
       "  <tbody>\n",
       "    <tr>\n",
       "      <th>0</th>\n",
       "      <td>30_a_40</td>\n",
       "      <td>70</td>\n",
       "      <td>95</td>\n",
       "    </tr>\n",
       "  </tbody>\n",
       "</table>\n",
       "</div>"
      ],
      "text/plain": [
       "     grupo  volverian  no_volverian\n",
       "0  30_a_40         70            95"
      ]
     },
     "execution_count": 64,
     "metadata": {},
     "output_type": "execute_result"
    }
   ],
   "source": [
    "grupo_cuatro = uniformizacion(df_grupos_edad_vs_target_grupo_cuatro_final)\n",
    "grupo_cuatro"
   ]
  },
  {
   "cell_type": "code",
   "execution_count": 65,
   "metadata": {},
   "outputs": [
    {
     "data": {
      "text/html": [
       "<div>\n",
       "<style scoped>\n",
       "    .dataframe tbody tr th:only-of-type {\n",
       "        vertical-align: middle;\n",
       "    }\n",
       "\n",
       "    .dataframe tbody tr th {\n",
       "        vertical-align: top;\n",
       "    }\n",
       "\n",
       "    .dataframe thead th {\n",
       "        text-align: right;\n",
       "    }\n",
       "</style>\n",
       "<table border=\"1\" class=\"dataframe\">\n",
       "  <thead>\n",
       "    <tr style=\"text-align: right;\">\n",
       "      <th></th>\n",
       "      <th>edad</th>\n",
       "      <th>volveria</th>\n",
       "    </tr>\n",
       "  </thead>\n",
       "  <tbody>\n",
       "    <tr>\n",
       "      <th>8</th>\n",
       "      <td>41.0</td>\n",
       "      <td>1</td>\n",
       "    </tr>\n",
       "    <tr>\n",
       "      <th>10</th>\n",
       "      <td>43.5</td>\n",
       "      <td>0</td>\n",
       "    </tr>\n",
       "    <tr>\n",
       "      <th>13</th>\n",
       "      <td>45.0</td>\n",
       "      <td>1</td>\n",
       "    </tr>\n",
       "    <tr>\n",
       "      <th>23</th>\n",
       "      <td>41.0</td>\n",
       "      <td>1</td>\n",
       "    </tr>\n",
       "    <tr>\n",
       "      <th>25</th>\n",
       "      <td>46.0</td>\n",
       "      <td>0</td>\n",
       "    </tr>\n",
       "  </tbody>\n",
       "</table>\n",
       "</div>"
      ],
      "text/plain": [
       "    edad  volveria\n",
       "8   41.0         1\n",
       "10  43.5         0\n",
       "13  45.0         1\n",
       "23  41.0         1\n",
       "25  46.0         0"
      ]
     },
     "execution_count": 65,
     "metadata": {},
     "output_type": "execute_result"
    }
   ],
   "source": [
    "# GRUPO 5: entre 40 - 50\n",
    "df_grupos_edad_vs_target_grupo_cinco= df_grupos_edad_vs_target.loc[(df_grupos_edad_vs_target['edad']>40) & (df_grupos_edad_vs_target['edad']<50)]\n",
    "df_grupos_edad_vs_target_grupo_cinco.head()"
   ]
  },
  {
   "cell_type": "code",
   "execution_count": 66,
   "metadata": {},
   "outputs": [
    {
     "name": "stderr",
     "output_type": "stream",
     "text": [
      "C:\\Users\\Ron Heyes\\anaconda3\\lib\\site-packages\\ipykernel_launcher.py:1: SettingWithCopyWarning: \n",
      "A value is trying to be set on a copy of a slice from a DataFrame.\n",
      "Try using .loc[row_indexer,col_indexer] = value instead\n",
      "\n",
      "See the caveats in the documentation: https://pandas.pydata.org/pandas-docs/stable/user_guide/indexing.html#returning-a-view-versus-a-copy\n",
      "  \"\"\"Entry point for launching an IPython kernel.\n"
     ]
    },
    {
     "data": {
      "text/html": [
       "<div>\n",
       "<style scoped>\n",
       "    .dataframe tbody tr th:only-of-type {\n",
       "        vertical-align: middle;\n",
       "    }\n",
       "\n",
       "    .dataframe tbody tr th {\n",
       "        vertical-align: top;\n",
       "    }\n",
       "\n",
       "    .dataframe thead th {\n",
       "        text-align: right;\n",
       "    }\n",
       "</style>\n",
       "<table border=\"1\" class=\"dataframe\">\n",
       "  <thead>\n",
       "    <tr style=\"text-align: right;\">\n",
       "      <th></th>\n",
       "      <th>volveria</th>\n",
       "      <th>40_a_50</th>\n",
       "    </tr>\n",
       "  </thead>\n",
       "  <tbody>\n",
       "    <tr>\n",
       "      <th>8</th>\n",
       "      <td>1</td>\n",
       "      <td>1</td>\n",
       "    </tr>\n",
       "    <tr>\n",
       "      <th>10</th>\n",
       "      <td>0</td>\n",
       "      <td>1</td>\n",
       "    </tr>\n",
       "    <tr>\n",
       "      <th>13</th>\n",
       "      <td>1</td>\n",
       "      <td>1</td>\n",
       "    </tr>\n",
       "    <tr>\n",
       "      <th>23</th>\n",
       "      <td>1</td>\n",
       "      <td>1</td>\n",
       "    </tr>\n",
       "    <tr>\n",
       "      <th>25</th>\n",
       "      <td>0</td>\n",
       "      <td>1</td>\n",
       "    </tr>\n",
       "  </tbody>\n",
       "</table>\n",
       "</div>"
      ],
      "text/plain": [
       "    volveria  40_a_50\n",
       "8          1        1\n",
       "10         0        1\n",
       "13         1        1\n",
       "23         1        1\n",
       "25         0        1"
      ]
     },
     "execution_count": 66,
     "metadata": {},
     "output_type": "execute_result"
    }
   ],
   "source": [
    "df_grupos_edad_vs_target_grupo_cinco ['40_a_50'] = 1\n",
    "df_grupos_edad_vs_target_grupo_cinco_short = df_grupos_edad_vs_target_grupo_cinco [['volveria','40_a_50']]\n",
    "df_grupos_edad_vs_target_grupo_cinco_short.head()"
   ]
  },
  {
   "cell_type": "code",
   "execution_count": 67,
   "metadata": {},
   "outputs": [
    {
     "data": {
      "text/html": [
       "<div>\n",
       "<style scoped>\n",
       "    .dataframe tbody tr th:only-of-type {\n",
       "        vertical-align: middle;\n",
       "    }\n",
       "\n",
       "    .dataframe tbody tr th {\n",
       "        vertical-align: top;\n",
       "    }\n",
       "\n",
       "    .dataframe thead th {\n",
       "        text-align: right;\n",
       "    }\n",
       "</style>\n",
       "<table border=\"1\" class=\"dataframe\">\n",
       "  <thead>\n",
       "    <tr style=\"text-align: right;\">\n",
       "      <th></th>\n",
       "      <th>volveria</th>\n",
       "      <th>40_a_50</th>\n",
       "    </tr>\n",
       "  </thead>\n",
       "  <tbody>\n",
       "    <tr>\n",
       "      <th>0</th>\n",
       "      <td>0</td>\n",
       "      <td>51</td>\n",
       "    </tr>\n",
       "    <tr>\n",
       "      <th>1</th>\n",
       "      <td>1</td>\n",
       "      <td>30</td>\n",
       "    </tr>\n",
       "  </tbody>\n",
       "</table>\n",
       "</div>"
      ],
      "text/plain": [
       "   volveria  40_a_50\n",
       "0         0       51\n",
       "1         1       30"
      ]
     },
     "execution_count": 67,
     "metadata": {},
     "output_type": "execute_result"
    }
   ],
   "source": [
    "df_grupos_edad_vs_target_grupo_cinco_final = df_grupos_edad_vs_target_grupo_cinco_short.groupby('volveria')['40_a_50'].agg('sum')\n",
    "df_grupos_edad_vs_target_grupo_cinco_final = df_grupos_edad_vs_target_grupo_cinco_final.reset_index()\n",
    "df_grupos_edad_vs_target_grupo_cinco_final.head()"
   ]
  },
  {
   "cell_type": "code",
   "execution_count": 68,
   "metadata": {},
   "outputs": [
    {
     "data": {
      "text/html": [
       "<div>\n",
       "<style scoped>\n",
       "    .dataframe tbody tr th:only-of-type {\n",
       "        vertical-align: middle;\n",
       "    }\n",
       "\n",
       "    .dataframe tbody tr th {\n",
       "        vertical-align: top;\n",
       "    }\n",
       "\n",
       "    .dataframe thead th {\n",
       "        text-align: right;\n",
       "    }\n",
       "</style>\n",
       "<table border=\"1\" class=\"dataframe\">\n",
       "  <thead>\n",
       "    <tr style=\"text-align: right;\">\n",
       "      <th></th>\n",
       "      <th>grupo</th>\n",
       "      <th>volverian</th>\n",
       "      <th>no_volverian</th>\n",
       "    </tr>\n",
       "  </thead>\n",
       "  <tbody>\n",
       "    <tr>\n",
       "      <th>0</th>\n",
       "      <td>40_a_50</td>\n",
       "      <td>30</td>\n",
       "      <td>51</td>\n",
       "    </tr>\n",
       "  </tbody>\n",
       "</table>\n",
       "</div>"
      ],
      "text/plain": [
       "     grupo  volverian  no_volverian\n",
       "0  40_a_50         30            51"
      ]
     },
     "execution_count": 68,
     "metadata": {},
     "output_type": "execute_result"
    }
   ],
   "source": [
    "grupo_cinco = uniformizacion(df_grupos_edad_vs_target_grupo_cinco_final)\n",
    "grupo_cinco"
   ]
  },
  {
   "cell_type": "code",
   "execution_count": 69,
   "metadata": {},
   "outputs": [
    {
     "data": {
      "text/html": [
       "<div>\n",
       "<style scoped>\n",
       "    .dataframe tbody tr th:only-of-type {\n",
       "        vertical-align: middle;\n",
       "    }\n",
       "\n",
       "    .dataframe tbody tr th {\n",
       "        vertical-align: top;\n",
       "    }\n",
       "\n",
       "    .dataframe thead th {\n",
       "        text-align: right;\n",
       "    }\n",
       "</style>\n",
       "<table border=\"1\" class=\"dataframe\">\n",
       "  <thead>\n",
       "    <tr style=\"text-align: right;\">\n",
       "      <th></th>\n",
       "      <th>edad</th>\n",
       "      <th>volveria</th>\n",
       "    </tr>\n",
       "  </thead>\n",
       "  <tbody>\n",
       "    <tr>\n",
       "      <th>9</th>\n",
       "      <td>59.0</td>\n",
       "      <td>1</td>\n",
       "    </tr>\n",
       "    <tr>\n",
       "      <th>22</th>\n",
       "      <td>58.5</td>\n",
       "      <td>0</td>\n",
       "    </tr>\n",
       "    <tr>\n",
       "      <th>32</th>\n",
       "      <td>54.0</td>\n",
       "      <td>0</td>\n",
       "    </tr>\n",
       "    <tr>\n",
       "      <th>36</th>\n",
       "      <td>53.0</td>\n",
       "      <td>1</td>\n",
       "    </tr>\n",
       "    <tr>\n",
       "      <th>43</th>\n",
       "      <td>52.0</td>\n",
       "      <td>0</td>\n",
       "    </tr>\n",
       "  </tbody>\n",
       "</table>\n",
       "</div>"
      ],
      "text/plain": [
       "    edad  volveria\n",
       "9   59.0         1\n",
       "22  58.5         0\n",
       "32  54.0         0\n",
       "36  53.0         1\n",
       "43  52.0         0"
      ]
     },
     "execution_count": 69,
     "metadata": {},
     "output_type": "execute_result"
    }
   ],
   "source": [
    "# GRUPO 6: entre 50 - 60\n",
    "df_grupos_edad_vs_target_grupo_seis= df_grupos_edad_vs_target.loc[(df_grupos_edad_vs_target['edad']>50) & (df_grupos_edad_vs_target['edad']<60)]\n",
    "df_grupos_edad_vs_target_grupo_seis.head()"
   ]
  },
  {
   "cell_type": "code",
   "execution_count": 70,
   "metadata": {},
   "outputs": [
    {
     "name": "stderr",
     "output_type": "stream",
     "text": [
      "C:\\Users\\Ron Heyes\\anaconda3\\lib\\site-packages\\ipykernel_launcher.py:1: SettingWithCopyWarning: \n",
      "A value is trying to be set on a copy of a slice from a DataFrame.\n",
      "Try using .loc[row_indexer,col_indexer] = value instead\n",
      "\n",
      "See the caveats in the documentation: https://pandas.pydata.org/pandas-docs/stable/user_guide/indexing.html#returning-a-view-versus-a-copy\n",
      "  \"\"\"Entry point for launching an IPython kernel.\n"
     ]
    },
    {
     "data": {
      "text/html": [
       "<div>\n",
       "<style scoped>\n",
       "    .dataframe tbody tr th:only-of-type {\n",
       "        vertical-align: middle;\n",
       "    }\n",
       "\n",
       "    .dataframe tbody tr th {\n",
       "        vertical-align: top;\n",
       "    }\n",
       "\n",
       "    .dataframe thead th {\n",
       "        text-align: right;\n",
       "    }\n",
       "</style>\n",
       "<table border=\"1\" class=\"dataframe\">\n",
       "  <thead>\n",
       "    <tr style=\"text-align: right;\">\n",
       "      <th></th>\n",
       "      <th>volveria</th>\n",
       "      <th>50_a_60</th>\n",
       "    </tr>\n",
       "  </thead>\n",
       "  <tbody>\n",
       "    <tr>\n",
       "      <th>9</th>\n",
       "      <td>1</td>\n",
       "      <td>1</td>\n",
       "    </tr>\n",
       "    <tr>\n",
       "      <th>22</th>\n",
       "      <td>0</td>\n",
       "      <td>1</td>\n",
       "    </tr>\n",
       "    <tr>\n",
       "      <th>32</th>\n",
       "      <td>0</td>\n",
       "      <td>1</td>\n",
       "    </tr>\n",
       "    <tr>\n",
       "      <th>36</th>\n",
       "      <td>1</td>\n",
       "      <td>1</td>\n",
       "    </tr>\n",
       "    <tr>\n",
       "      <th>43</th>\n",
       "      <td>0</td>\n",
       "      <td>1</td>\n",
       "    </tr>\n",
       "  </tbody>\n",
       "</table>\n",
       "</div>"
      ],
      "text/plain": [
       "    volveria  50_a_60\n",
       "9          1        1\n",
       "22         0        1\n",
       "32         0        1\n",
       "36         1        1\n",
       "43         0        1"
      ]
     },
     "execution_count": 70,
     "metadata": {},
     "output_type": "execute_result"
    }
   ],
   "source": [
    "df_grupos_edad_vs_target_grupo_seis ['50_a_60'] = 1\n",
    "df_grupos_edad_vs_target_grupo_seis_short = df_grupos_edad_vs_target_grupo_seis [['volveria','50_a_60']]\n",
    "df_grupos_edad_vs_target_grupo_seis_short.head()"
   ]
  },
  {
   "cell_type": "code",
   "execution_count": 71,
   "metadata": {},
   "outputs": [
    {
     "data": {
      "text/html": [
       "<div>\n",
       "<style scoped>\n",
       "    .dataframe tbody tr th:only-of-type {\n",
       "        vertical-align: middle;\n",
       "    }\n",
       "\n",
       "    .dataframe tbody tr th {\n",
       "        vertical-align: top;\n",
       "    }\n",
       "\n",
       "    .dataframe thead th {\n",
       "        text-align: right;\n",
       "    }\n",
       "</style>\n",
       "<table border=\"1\" class=\"dataframe\">\n",
       "  <thead>\n",
       "    <tr style=\"text-align: right;\">\n",
       "      <th></th>\n",
       "      <th>volveria</th>\n",
       "      <th>50_a_60</th>\n",
       "    </tr>\n",
       "  </thead>\n",
       "  <tbody>\n",
       "    <tr>\n",
       "      <th>0</th>\n",
       "      <td>0</td>\n",
       "      <td>26</td>\n",
       "    </tr>\n",
       "    <tr>\n",
       "      <th>1</th>\n",
       "      <td>1</td>\n",
       "      <td>23</td>\n",
       "    </tr>\n",
       "  </tbody>\n",
       "</table>\n",
       "</div>"
      ],
      "text/plain": [
       "   volveria  50_a_60\n",
       "0         0       26\n",
       "1         1       23"
      ]
     },
     "execution_count": 71,
     "metadata": {},
     "output_type": "execute_result"
    }
   ],
   "source": [
    "df_grupos_edad_vs_target_grupo_seis_final = df_grupos_edad_vs_target_grupo_seis_short.groupby('volveria')['50_a_60'].agg('sum')\n",
    "df_grupos_edad_vs_target_grupo_seis_final = df_grupos_edad_vs_target_grupo_seis_final.reset_index()\n",
    "df_grupos_edad_vs_target_grupo_seis_final.head()"
   ]
  },
  {
   "cell_type": "code",
   "execution_count": 72,
   "metadata": {},
   "outputs": [
    {
     "data": {
      "text/html": [
       "<div>\n",
       "<style scoped>\n",
       "    .dataframe tbody tr th:only-of-type {\n",
       "        vertical-align: middle;\n",
       "    }\n",
       "\n",
       "    .dataframe tbody tr th {\n",
       "        vertical-align: top;\n",
       "    }\n",
       "\n",
       "    .dataframe thead th {\n",
       "        text-align: right;\n",
       "    }\n",
       "</style>\n",
       "<table border=\"1\" class=\"dataframe\">\n",
       "  <thead>\n",
       "    <tr style=\"text-align: right;\">\n",
       "      <th></th>\n",
       "      <th>grupo</th>\n",
       "      <th>volverian</th>\n",
       "      <th>no_volverian</th>\n",
       "    </tr>\n",
       "  </thead>\n",
       "  <tbody>\n",
       "    <tr>\n",
       "      <th>0</th>\n",
       "      <td>50_a_60</td>\n",
       "      <td>23</td>\n",
       "      <td>26</td>\n",
       "    </tr>\n",
       "  </tbody>\n",
       "</table>\n",
       "</div>"
      ],
      "text/plain": [
       "     grupo  volverian  no_volverian\n",
       "0  50_a_60         23            26"
      ]
     },
     "execution_count": 72,
     "metadata": {},
     "output_type": "execute_result"
    }
   ],
   "source": [
    "grupo_seis = uniformizacion(df_grupos_edad_vs_target_grupo_seis_final)\n",
    "grupo_seis"
   ]
  },
  {
   "cell_type": "code",
   "execution_count": 73,
   "metadata": {},
   "outputs": [
    {
     "data": {
      "text/html": [
       "<div>\n",
       "<style scoped>\n",
       "    .dataframe tbody tr th:only-of-type {\n",
       "        vertical-align: middle;\n",
       "    }\n",
       "\n",
       "    .dataframe tbody tr th {\n",
       "        vertical-align: top;\n",
       "    }\n",
       "\n",
       "    .dataframe thead th {\n",
       "        text-align: right;\n",
       "    }\n",
       "</style>\n",
       "<table border=\"1\" class=\"dataframe\">\n",
       "  <thead>\n",
       "    <tr style=\"text-align: right;\">\n",
       "      <th></th>\n",
       "      <th>edad</th>\n",
       "      <th>volveria</th>\n",
       "    </tr>\n",
       "  </thead>\n",
       "  <tbody>\n",
       "    <tr>\n",
       "      <th>0</th>\n",
       "      <td>73.5</td>\n",
       "      <td>0</td>\n",
       "    </tr>\n",
       "    <tr>\n",
       "      <th>62</th>\n",
       "      <td>61.0</td>\n",
       "      <td>1</td>\n",
       "    </tr>\n",
       "    <tr>\n",
       "      <th>97</th>\n",
       "      <td>62.0</td>\n",
       "      <td>0</td>\n",
       "    </tr>\n",
       "    <tr>\n",
       "      <th>101</th>\n",
       "      <td>61.0</td>\n",
       "      <td>0</td>\n",
       "    </tr>\n",
       "    <tr>\n",
       "      <th>112</th>\n",
       "      <td>61.0</td>\n",
       "      <td>0</td>\n",
       "    </tr>\n",
       "  </tbody>\n",
       "</table>\n",
       "</div>"
      ],
      "text/plain": [
       "     edad  volveria\n",
       "0    73.5         0\n",
       "62   61.0         1\n",
       "97   62.0         0\n",
       "101  61.0         0\n",
       "112  61.0         0"
      ]
     },
     "execution_count": 73,
     "metadata": {},
     "output_type": "execute_result"
    }
   ],
   "source": [
    "# GRUPO 7: mayores a 60\n",
    "df_grupos_edad_vs_target_grupo_siete= df_grupos_edad_vs_target.loc[df_grupos_edad_vs_target['edad']>60]\n",
    "df_grupos_edad_vs_target_grupo_siete.head()"
   ]
  },
  {
   "cell_type": "code",
   "execution_count": 74,
   "metadata": {},
   "outputs": [
    {
     "name": "stderr",
     "output_type": "stream",
     "text": [
      "C:\\Users\\Ron Heyes\\anaconda3\\lib\\site-packages\\ipykernel_launcher.py:1: SettingWithCopyWarning: \n",
      "A value is trying to be set on a copy of a slice from a DataFrame.\n",
      "Try using .loc[row_indexer,col_indexer] = value instead\n",
      "\n",
      "See the caveats in the documentation: https://pandas.pydata.org/pandas-docs/stable/user_guide/indexing.html#returning-a-view-versus-a-copy\n",
      "  \"\"\"Entry point for launching an IPython kernel.\n"
     ]
    },
    {
     "data": {
      "text/html": [
       "<div>\n",
       "<style scoped>\n",
       "    .dataframe tbody tr th:only-of-type {\n",
       "        vertical-align: middle;\n",
       "    }\n",
       "\n",
       "    .dataframe tbody tr th {\n",
       "        vertical-align: top;\n",
       "    }\n",
       "\n",
       "    .dataframe thead th {\n",
       "        text-align: right;\n",
       "    }\n",
       "</style>\n",
       "<table border=\"1\" class=\"dataframe\">\n",
       "  <thead>\n",
       "    <tr style=\"text-align: right;\">\n",
       "      <th></th>\n",
       "      <th>volveria</th>\n",
       "      <th>mayor_de_60</th>\n",
       "    </tr>\n",
       "  </thead>\n",
       "  <tbody>\n",
       "    <tr>\n",
       "      <th>0</th>\n",
       "      <td>0</td>\n",
       "      <td>1</td>\n",
       "    </tr>\n",
       "    <tr>\n",
       "      <th>62</th>\n",
       "      <td>1</td>\n",
       "      <td>1</td>\n",
       "    </tr>\n",
       "    <tr>\n",
       "      <th>97</th>\n",
       "      <td>0</td>\n",
       "      <td>1</td>\n",
       "    </tr>\n",
       "    <tr>\n",
       "      <th>101</th>\n",
       "      <td>0</td>\n",
       "      <td>1</td>\n",
       "    </tr>\n",
       "    <tr>\n",
       "      <th>112</th>\n",
       "      <td>0</td>\n",
       "      <td>1</td>\n",
       "    </tr>\n",
       "  </tbody>\n",
       "</table>\n",
       "</div>"
      ],
      "text/plain": [
       "     volveria  mayor_de_60\n",
       "0           0            1\n",
       "62          1            1\n",
       "97          0            1\n",
       "101         0            1\n",
       "112         0            1"
      ]
     },
     "execution_count": 74,
     "metadata": {},
     "output_type": "execute_result"
    }
   ],
   "source": [
    "df_grupos_edad_vs_target_grupo_siete ['mayor_de_60'] = 1\n",
    "df_grupos_edad_vs_target_grupo_siete_short = df_grupos_edad_vs_target_grupo_siete [['volveria','mayor_de_60']]\n",
    "df_grupos_edad_vs_target_grupo_siete_short.head()"
   ]
  },
  {
   "cell_type": "code",
   "execution_count": 75,
   "metadata": {},
   "outputs": [
    {
     "data": {
      "text/html": [
       "<div>\n",
       "<style scoped>\n",
       "    .dataframe tbody tr th:only-of-type {\n",
       "        vertical-align: middle;\n",
       "    }\n",
       "\n",
       "    .dataframe tbody tr th {\n",
       "        vertical-align: top;\n",
       "    }\n",
       "\n",
       "    .dataframe thead th {\n",
       "        text-align: right;\n",
       "    }\n",
       "</style>\n",
       "<table border=\"1\" class=\"dataframe\">\n",
       "  <thead>\n",
       "    <tr style=\"text-align: right;\">\n",
       "      <th></th>\n",
       "      <th>volveria</th>\n",
       "      <th>mayor_de_60</th>\n",
       "    </tr>\n",
       "  </thead>\n",
       "  <tbody>\n",
       "    <tr>\n",
       "      <th>0</th>\n",
       "      <td>0</td>\n",
       "      <td>19</td>\n",
       "    </tr>\n",
       "    <tr>\n",
       "      <th>1</th>\n",
       "      <td>1</td>\n",
       "      <td>9</td>\n",
       "    </tr>\n",
       "  </tbody>\n",
       "</table>\n",
       "</div>"
      ],
      "text/plain": [
       "   volveria  mayor_de_60\n",
       "0         0           19\n",
       "1         1            9"
      ]
     },
     "execution_count": 75,
     "metadata": {},
     "output_type": "execute_result"
    }
   ],
   "source": [
    "df_grupos_edad_vs_target_grupo_siete_final = df_grupos_edad_vs_target_grupo_siete_short.groupby('volveria')['mayor_de_60'].agg('sum')\n",
    "df_grupos_edad_vs_target_grupo_siete_final = df_grupos_edad_vs_target_grupo_siete_final.reset_index()\n",
    "df_grupos_edad_vs_target_grupo_siete_final.head()"
   ]
  },
  {
   "cell_type": "code",
   "execution_count": 76,
   "metadata": {},
   "outputs": [
    {
     "data": {
      "text/html": [
       "<div>\n",
       "<style scoped>\n",
       "    .dataframe tbody tr th:only-of-type {\n",
       "        vertical-align: middle;\n",
       "    }\n",
       "\n",
       "    .dataframe tbody tr th {\n",
       "        vertical-align: top;\n",
       "    }\n",
       "\n",
       "    .dataframe thead th {\n",
       "        text-align: right;\n",
       "    }\n",
       "</style>\n",
       "<table border=\"1\" class=\"dataframe\">\n",
       "  <thead>\n",
       "    <tr style=\"text-align: right;\">\n",
       "      <th></th>\n",
       "      <th>grupo</th>\n",
       "      <th>volverian</th>\n",
       "      <th>no_volverian</th>\n",
       "    </tr>\n",
       "  </thead>\n",
       "  <tbody>\n",
       "    <tr>\n",
       "      <th>0</th>\n",
       "      <td>mayor_de_60</td>\n",
       "      <td>9</td>\n",
       "      <td>19</td>\n",
       "    </tr>\n",
       "  </tbody>\n",
       "</table>\n",
       "</div>"
      ],
      "text/plain": [
       "         grupo  volverian  no_volverian\n",
       "0  mayor_de_60          9            19"
      ]
     },
     "execution_count": 76,
     "metadata": {},
     "output_type": "execute_result"
    }
   ],
   "source": [
    "grupo_siete = uniformizacion(df_grupos_edad_vs_target_grupo_siete_final)\n",
    "grupo_siete"
   ]
  },
  {
   "cell_type": "code",
   "execution_count": 78,
   "metadata": {},
   "outputs": [
    {
     "data": {
      "text/html": [
       "<div>\n",
       "<style scoped>\n",
       "    .dataframe tbody tr th:only-of-type {\n",
       "        vertical-align: middle;\n",
       "    }\n",
       "\n",
       "    .dataframe tbody tr th {\n",
       "        vertical-align: top;\n",
       "    }\n",
       "\n",
       "    .dataframe thead th {\n",
       "        text-align: right;\n",
       "    }\n",
       "</style>\n",
       "<table border=\"1\" class=\"dataframe\">\n",
       "  <thead>\n",
       "    <tr style=\"text-align: right;\">\n",
       "      <th></th>\n",
       "      <th>grupo</th>\n",
       "      <th>volverian</th>\n",
       "      <th>no_volverian</th>\n",
       "      <th>total</th>\n",
       "    </tr>\n",
       "  </thead>\n",
       "  <tbody>\n",
       "    <tr>\n",
       "      <th>0</th>\n",
       "      <td>0_a_10</td>\n",
       "      <td>28</td>\n",
       "      <td>11</td>\n",
       "      <td>39</td>\n",
       "    </tr>\n",
       "    <tr>\n",
       "      <th>0</th>\n",
       "      <td>10_a_20</td>\n",
       "      <td>18</td>\n",
       "      <td>28</td>\n",
       "      <td>46</td>\n",
       "    </tr>\n",
       "    <tr>\n",
       "      <th>0</th>\n",
       "      <td>20_a_30</td>\n",
       "      <td>64</td>\n",
       "      <td>124</td>\n",
       "      <td>188</td>\n",
       "    </tr>\n",
       "    <tr>\n",
       "      <th>0</th>\n",
       "      <td>30_a_40</td>\n",
       "      <td>70</td>\n",
       "      <td>95</td>\n",
       "      <td>165</td>\n",
       "    </tr>\n",
       "    <tr>\n",
       "      <th>0</th>\n",
       "      <td>40_a_50</td>\n",
       "      <td>30</td>\n",
       "      <td>51</td>\n",
       "      <td>81</td>\n",
       "    </tr>\n",
       "    <tr>\n",
       "      <th>0</th>\n",
       "      <td>50_a_60</td>\n",
       "      <td>23</td>\n",
       "      <td>26</td>\n",
       "      <td>49</td>\n",
       "    </tr>\n",
       "    <tr>\n",
       "      <th>0</th>\n",
       "      <td>mayor_de_60</td>\n",
       "      <td>9</td>\n",
       "      <td>19</td>\n",
       "      <td>28</td>\n",
       "    </tr>\n",
       "  </tbody>\n",
       "</table>\n",
       "</div>"
      ],
      "text/plain": [
       "         grupo  volverian  no_volverian  total\n",
       "0       0_a_10         28            11     39\n",
       "0      10_a_20         18            28     46\n",
       "0      20_a_30         64           124    188\n",
       "0      30_a_40         70            95    165\n",
       "0      40_a_50         30            51     81\n",
       "0      50_a_60         23            26     49\n",
       "0  mayor_de_60          9            19     28"
      ]
     },
     "execution_count": 78,
     "metadata": {},
     "output_type": "execute_result"
    }
   ],
   "source": [
    "franjas_edades_vs_target = pd.concat([grupo_uno, grupo_dos, grupo_tres, grupo_cuatro, grupo_cinco, grupo_seis, grupo_siete])\n",
    "franjas_edades_vs_target ['total'] = franjas_edades_vs_target['volverian'] + franjas_edades_vs_target['no_volverian']\n",
    "franjas_edades_vs_target"
   ]
  },
  {
   "cell_type": "markdown",
   "metadata": {},
   "source": [
    "OBSERVACION IMPORTANTE: La cantidad de encuestados por grupos refleja diferencias significativas. Como se indico con anterioridad, la cantidad de encuestados es crucial para converger al valor promedio de la poblacion. En este caso particular, diremos que los datos que aportan las categorias **20_a_30**, **30_a_40** y **40_a_50** se acercan mejor a los valores reales que las demas categorias."
   ]
  },
  {
   "cell_type": "code",
   "execution_count": 79,
   "metadata": {},
   "outputs": [
    {
     "data": {
      "text/html": [
       "<div>\n",
       "<style scoped>\n",
       "    .dataframe tbody tr th:only-of-type {\n",
       "        vertical-align: middle;\n",
       "    }\n",
       "\n",
       "    .dataframe tbody tr th {\n",
       "        vertical-align: top;\n",
       "    }\n",
       "\n",
       "    .dataframe thead th {\n",
       "        text-align: right;\n",
       "    }\n",
       "</style>\n",
       "<table border=\"1\" class=\"dataframe\">\n",
       "  <thead>\n",
       "    <tr style=\"text-align: right;\">\n",
       "      <th></th>\n",
       "      <th>grupo</th>\n",
       "      <th>total</th>\n",
       "      <th>volveria_percentage</th>\n",
       "      <th>no_volveria_percentage</th>\n",
       "    </tr>\n",
       "  </thead>\n",
       "  <tbody>\n",
       "    <tr>\n",
       "      <th>0</th>\n",
       "      <td>0_a_10</td>\n",
       "      <td>100</td>\n",
       "      <td>71.794872</td>\n",
       "      <td>28.205128</td>\n",
       "    </tr>\n",
       "    <tr>\n",
       "      <th>0</th>\n",
       "      <td>10_a_20</td>\n",
       "      <td>100</td>\n",
       "      <td>39.130435</td>\n",
       "      <td>60.869565</td>\n",
       "    </tr>\n",
       "    <tr>\n",
       "      <th>0</th>\n",
       "      <td>20_a_30</td>\n",
       "      <td>100</td>\n",
       "      <td>34.042553</td>\n",
       "      <td>65.957447</td>\n",
       "    </tr>\n",
       "    <tr>\n",
       "      <th>0</th>\n",
       "      <td>30_a_40</td>\n",
       "      <td>100</td>\n",
       "      <td>42.424242</td>\n",
       "      <td>57.575758</td>\n",
       "    </tr>\n",
       "    <tr>\n",
       "      <th>0</th>\n",
       "      <td>40_a_50</td>\n",
       "      <td>100</td>\n",
       "      <td>37.037037</td>\n",
       "      <td>62.962963</td>\n",
       "    </tr>\n",
       "  </tbody>\n",
       "</table>\n",
       "</div>"
      ],
      "text/plain": [
       "     grupo  total  volveria_percentage  no_volveria_percentage\n",
       "0   0_a_10    100            71.794872               28.205128\n",
       "0  10_a_20    100            39.130435               60.869565\n",
       "0  20_a_30    100            34.042553               65.957447\n",
       "0  30_a_40    100            42.424242               57.575758\n",
       "0  40_a_50    100            37.037037               62.962963"
      ]
     },
     "execution_count": 79,
     "metadata": {},
     "output_type": "execute_result"
    }
   ],
   "source": [
    "# Convertimos valores a porcentajes\n",
    "franjas_edades_vs_target['volveria_percentage'] = franjas_edades_vs_target['volverian']*100/(franjas_edades_vs_target['volverian']+ franjas_edades_vs_target['no_volverian'])\n",
    "franjas_edades_vs_target['no_volveria_percentage'] = franjas_edades_vs_target['no_volverian']*100/(franjas_edades_vs_target['volverian']+ franjas_edades_vs_target['no_volverian'])\n",
    "franjas_edades_vs_target['total'] = 100\n",
    "del franjas_edades_vs_target['volverian']\n",
    "del franjas_edades_vs_target['no_volverian']\n",
    "\n",
    "franjas_edades_vs_target.head()"
   ]
  },
  {
   "cell_type": "code",
   "execution_count": 80,
   "metadata": {},
   "outputs": [
    {
     "data": {
      "image/png": "[encoded data removed]",
      "text/plain": [
       "<Figure size 1008x576 with 1 Axes>"
      ]
     },
     "metadata": {},
     "output_type": "display_data"
    }
   ],
   "source": [
    "sns.set_style('darkgrid')\n",
    "plt.figure(figsize = (14, 8))\n",
    "sns.set_color_codes(\"pastel\")\n",
    "sns.barplot(x = 'grupo', y = 'total', data = franjas_edades_vs_target, color = 'g', label = 'volverian')\n",
    "sns.barplot(x = 'grupo', y = 'no_volveria_percentage', data = franjas_edades_vs_target, color = 'r', label = 'no volverian')\n",
    "plt.tick_params(labelsize=12)\n",
    "\n",
    "plt.legend(ncol=2, loc=\"center\", frameon=True, fontsize = 15)\n",
    "\n",
    "sns.despine(left = True, bottom = True)\n",
    "plt.xlabel ('Grupo de edad', fontweight = 'semibold', fontsize = 15)\n",
    "plt.ylabel ('Tasa', fontweight = 'semibold', fontsize = 15)\n",
    "plt.title ('Intencion de retorno por grupos de edades', fontweight = 'semibold', fontsize = 20)\n",
    "plt.show()"
   ]
  },
  {
   "cell_type": "markdown",
   "metadata": {},
   "source": [
    "En este nuevo analisis (que considera el comentario hecho algunas celdas arriba sobre la cantidad de escuestados para cada grupo), vemos que la informacion que obtenemos del mismo resulta significativo. Por un lado nos apegamos a las conclusiones anteriores en lo que respecta al primer grupo (de 0 a 10) en donde se ve claramente que la intencion de volver supera ampliamente a su contraparte a razon de 7 a 3 aproximadamente. En los demas casos, nos topamos con distintos casos que merecen la pena estudiar. En relacion al grupo de 10 a 20 años, un 60% no tiene intencion de volver. No obstante, este valor porcentual no es robusto al momento de definir si dicho grupo es candidato a volver pues, 60% implica que un poco menos de la mitad desea volver y un poco mas de la mitad no desea volver. El parametro resulta debil es esta situacion. Algo similar ocurre con los grupos **30_a_40** años y **40_a_50** años. Siguiendo con esta linea argumental, un caso extremo lo hallamos para el grupo **50_a_60** años, cuya probabilidad roza el 50%. Este hecho indica que dada una persona de edad comprendida entre los 50 y los 60 años, es imposible estimar si la persona volvera o no. En los grupo de 20 a 30 años y el grupo de mayores de 60 años, sus miembros estan mas inclinados a no repetir la experiencia en uno de los cines de FiuMark, aunque no puede saberse si esta decision esta vinculada a la calidad y el confort de los cines o a la pelicula en si, en este caso Frozen 4."
   ]
  },
  {
   "cell_type": "markdown",
   "metadata": {},
   "source": [
    "<font color='blue'>**SEGMENTO: COLUMNA TIPO_DE_SALA**</font>"
   ]
  },
  {
   "cell_type": "code",
   "execution_count": 81,
   "metadata": {},
   "outputs": [
    {
     "data": {
      "text/html": [
       "<div>\n",
       "<style scoped>\n",
       "    .dataframe tbody tr th:only-of-type {\n",
       "        vertical-align: middle;\n",
       "    }\n",
       "\n",
       "    .dataframe tbody tr th {\n",
       "        vertical-align: top;\n",
       "    }\n",
       "\n",
       "    .dataframe thead th {\n",
       "        text-align: right;\n",
       "    }\n",
       "</style>\n",
       "<table border=\"1\" class=\"dataframe\">\n",
       "  <thead>\n",
       "    <tr style=\"text-align: right;\">\n",
       "      <th>volveria</th>\n",
       "      <th>tipo_de_sala</th>\n",
       "      <th>no_volverian</th>\n",
       "      <th>volverian</th>\n",
       "      <th>total</th>\n",
       "    </tr>\n",
       "  </thead>\n",
       "  <tbody>\n",
       "    <tr>\n",
       "      <th>0</th>\n",
       "      <td>3d</td>\n",
       "      <td>85</td>\n",
       "      <td>82</td>\n",
       "      <td>167</td>\n",
       "    </tr>\n",
       "    <tr>\n",
       "      <th>1</th>\n",
       "      <td>4d</td>\n",
       "      <td>342</td>\n",
       "      <td>105</td>\n",
       "      <td>447</td>\n",
       "    </tr>\n",
       "    <tr>\n",
       "      <th>2</th>\n",
       "      <td>normal</td>\n",
       "      <td>67</td>\n",
       "      <td>120</td>\n",
       "      <td>187</td>\n",
       "    </tr>\n",
       "  </tbody>\n",
       "</table>\n",
       "</div>"
      ],
      "text/plain": [
       "volveria tipo_de_sala  no_volverian  volverian  total\n",
       "0                  3d            85         82    167\n",
       "1                  4d           342        105    447\n",
       "2              normal            67        120    187"
      ]
     },
     "execution_count": 81,
     "metadata": {},
     "output_type": "execute_result"
    }
   ],
   "source": [
    "df_tipo_sala_vs_target = pd.crosstab(df_features_target['tipo_de_sala'],df_features_target['volveria']).reset_index()\n",
    "df_tipo_sala_vs_target['total'] = df_tipo_sala_vs_target [0] + df_tipo_sala_vs_target [1]\n",
    "df_tipo_sala_vs_target = df_tipo_sala_vs_target.rename(columns={0: \"no_volverian\", 1: \"volverian\"})\n",
    "df_tipo_sala_vs_target_aux = df_tipo_sala_vs_target\n",
    "df_tipo_sala_vs_target"
   ]
  },
  {
   "cell_type": "markdown",
   "metadata": {},
   "source": [
    "Proporcion de encuestados en cada grupo:\n",
    "- 447 de los encuestados corresponden a 4D\n",
    "- 167 encuestados pertenecen a 3D, lo cual representa solo un 37% de los encuestados en salas 4D\n",
    "- 187 encuestados pertenecea a salas normales. Estos son el 42% de los encuestados en salas 4D\n",
    "Esta informacion sera relevante al momento de ponderar la robustez del *insight* que cada tipo de sala brinda."
   ]
  },
  {
   "cell_type": "code",
   "execution_count": 82,
   "metadata": {},
   "outputs": [
    {
     "data": {
      "text/html": [
       "<div>\n",
       "<style scoped>\n",
       "    .dataframe tbody tr th:only-of-type {\n",
       "        vertical-align: middle;\n",
       "    }\n",
       "\n",
       "    .dataframe tbody tr th {\n",
       "        vertical-align: top;\n",
       "    }\n",
       "\n",
       "    .dataframe thead th {\n",
       "        text-align: right;\n",
       "    }\n",
       "</style>\n",
       "<table border=\"1\" class=\"dataframe\">\n",
       "  <thead>\n",
       "    <tr style=\"text-align: right;\">\n",
       "      <th>volveria</th>\n",
       "      <th>tipo_de_sala</th>\n",
       "      <th>total</th>\n",
       "      <th>volveria_percentage</th>\n",
       "      <th>no_volveria_percentage</th>\n",
       "    </tr>\n",
       "  </thead>\n",
       "  <tbody>\n",
       "    <tr>\n",
       "      <th>0</th>\n",
       "      <td>3d</td>\n",
       "      <td>100</td>\n",
       "      <td>49.101796</td>\n",
       "      <td>50.898204</td>\n",
       "    </tr>\n",
       "    <tr>\n",
       "      <th>1</th>\n",
       "      <td>4d</td>\n",
       "      <td>100</td>\n",
       "      <td>23.489933</td>\n",
       "      <td>76.510067</td>\n",
       "    </tr>\n",
       "    <tr>\n",
       "      <th>2</th>\n",
       "      <td>normal</td>\n",
       "      <td>100</td>\n",
       "      <td>64.171123</td>\n",
       "      <td>35.828877</td>\n",
       "    </tr>\n",
       "  </tbody>\n",
       "</table>\n",
       "</div>"
      ],
      "text/plain": [
       "volveria tipo_de_sala  total  volveria_percentage  no_volveria_percentage\n",
       "0                  3d    100            49.101796               50.898204\n",
       "1                  4d    100            23.489933               76.510067\n",
       "2              normal    100            64.171123               35.828877"
      ]
     },
     "execution_count": 82,
     "metadata": {},
     "output_type": "execute_result"
    }
   ],
   "source": [
    "# Convertimos valores a porcentajes\n",
    "df_tipo_sala_vs_target['volveria_percentage'] = df_tipo_sala_vs_target['volverian']*100/(df_tipo_sala_vs_target['volverian']+ df_tipo_sala_vs_target['no_volverian'])\n",
    "df_tipo_sala_vs_target['no_volveria_percentage'] = df_tipo_sala_vs_target['no_volverian']*100/(df_tipo_sala_vs_target['volverian']+ df_tipo_sala_vs_target['no_volverian'])\n",
    "df_tipo_sala_vs_target['total'] = 100\n",
    "del df_tipo_sala_vs_target['volverian']\n",
    "del df_tipo_sala_vs_target['no_volverian']\n",
    "\n",
    "df_tipo_sala_vs_target.head()"
   ]
  },
  {
   "cell_type": "code",
   "execution_count": 84,
   "metadata": {},
   "outputs": [
    {
     "data": {
      "image/png": "[encoded data removed]",
      "text/plain": [
       "<Figure size 1008x576 with 1 Axes>"
      ]
     },
     "metadata": {},
     "output_type": "display_data"
    }
   ],
   "source": [
    "sns.set_style('darkgrid')\n",
    "plt.figure(figsize = (14, 8))\n",
    "sns.set_color_codes(\"pastel\")\n",
    "sns.barplot(x = 'total', y = 'tipo_de_sala', data = df_tipo_sala_vs_target, color = 'g', label = 'volverian')\n",
    "sns.barplot(x = 'no_volveria_percentage', y = 'tipo_de_sala', data = df_tipo_sala_vs_target, color = 'r', label = 'no volverian')\n",
    "plt.tick_params(labelsize=12)\n",
    "\n",
    "plt.legend(ncol=2, loc=\"center\", frameon=True, fontsize = 15)\n",
    "\n",
    "sns.despine(left = True, bottom = True)\n",
    "plt.xlabel ('Tasa', fontweight = 'semibold', fontsize = 15)\n",
    "plt.ylabel ('Tipo de sala', fontweight = 'semibold', fontsize = 15)\n",
    "plt.title ('Intencion de retorno por tipo de sala', fontweight = 'semibold', fontsize = 20)\n",
    "plt.show()"
   ]
  },
  {
   "cell_type": "markdown",
   "metadata": {},
   "source": [
    "(El siguiente desarrollo se realiza considerando el analisis de la cantidad de encuestados hecha apenas una celdas arriba).\n",
    "En el caso de las salas 3D, la proporcion entre candidatos a volver y a no volver a uno de los cines de FiuMark para ver Frozen 4 es muy similar, por lo que esta categoria no constituye un buen parametro para predecir si los miembros de dicho grupo volveran o no. \n",
    "Los que asistieron a una sala 4d, son candidatos a no volver a razon de 8 a 2 aproximadamente mientras los que miraron una pelicula en las salas regulares son mayormente candidatos a volver a razon de 6.5 a 3.5 aproximadamente.\n",
    "Puede resultar util emplear estos dos ultimos parametros como categorias para predecir el grupo de personas que no volverian y que volverian a uno de los cines respectivamente."
   ]
  },
  {
   "cell_type": "markdown",
   "metadata": {},
   "source": [
    "## DEPENDENCIAS ENTRE FEATURES Y ANALISIS DE *TARGET*"
   ]
  },
  {
   "cell_type": "markdown",
   "metadata": {},
   "source": [
    "En esta seccion combinaremos distintos *features* o columnas para determinar como se relacionan con respecto al *target* y veremos si dichas combinaciones aportan *insights* relevantes para nuestro estudio predictivo."
   ]
  },
  {
   "cell_type": "code",
   "execution_count": 153,
   "metadata": {},
   "outputs": [
    {
     "data": {
      "text/html": [
       "<div>\n",
       "<style scoped>\n",
       "    .dataframe tbody tr th:only-of-type {\n",
       "        vertical-align: middle;\n",
       "    }\n",
       "\n",
       "    .dataframe tbody tr th {\n",
       "        vertical-align: top;\n",
       "    }\n",
       "\n",
       "    .dataframe thead th {\n",
       "        text-align: right;\n",
       "    }\n",
       "</style>\n",
       "<table border=\"1\" class=\"dataframe\">\n",
       "  <thead>\n",
       "    <tr style=\"text-align: right;\">\n",
       "      <th></th>\n",
       "      <th>tipo_de_sala</th>\n",
       "      <th>nombre</th>\n",
       "      <th>id_usuario</th>\n",
       "      <th>genero</th>\n",
       "      <th>edad</th>\n",
       "      <th>amigos</th>\n",
       "      <th>parientes</th>\n",
       "      <th>id_ticket</th>\n",
       "      <th>precio_ticket</th>\n",
       "      <th>fila</th>\n",
       "      <th>nombre_sede</th>\n",
       "      <th>volveria</th>\n",
       "    </tr>\n",
       "  </thead>\n",
       "  <tbody>\n",
       "    <tr>\n",
       "      <th>0</th>\n",
       "      <td>4d</td>\n",
       "      <td>Señor Camilo Pedro</td>\n",
       "      <td>117</td>\n",
       "      <td>hombre</td>\n",
       "      <td>73.5</td>\n",
       "      <td>0</td>\n",
       "      <td>0</td>\n",
       "      <td>59258;</td>\n",
       "      <td>1</td>\n",
       "      <td>NaN</td>\n",
       "      <td>fiumark_quilmes</td>\n",
       "      <td>0</td>\n",
       "    </tr>\n",
       "    <tr>\n",
       "      <th>1</th>\n",
       "      <td>4d</td>\n",
       "      <td>Señora Raquel Angelica</td>\n",
       "      <td>658</td>\n",
       "      <td>mujer</td>\n",
       "      <td>35.0</td>\n",
       "      <td>1</td>\n",
       "      <td>1</td>\n",
       "      <td>586:6;</td>\n",
       "      <td>2</td>\n",
       "      <td>NaN</td>\n",
       "      <td>fiumark_quilmes</td>\n",
       "      <td>0</td>\n",
       "    </tr>\n",
       "    <tr>\n",
       "      <th>2</th>\n",
       "      <td>normal</td>\n",
       "      <td>Señor Antonio Federico</td>\n",
       "      <td>794</td>\n",
       "      <td>hombre</td>\n",
       "      <td>NaN</td>\n",
       "      <td>0</td>\n",
       "      <td>0</td>\n",
       "      <td>RE\"39822</td>\n",
       "      <td>3</td>\n",
       "      <td>NaN</td>\n",
       "      <td>fiumark_chacarita</td>\n",
       "      <td>0</td>\n",
       "    </tr>\n",
       "    <tr>\n",
       "      <th>3</th>\n",
       "      <td>4d</td>\n",
       "      <td>Señor Osvaldo Aureliano</td>\n",
       "      <td>455</td>\n",
       "      <td>hombre</td>\n",
       "      <td>NaN</td>\n",
       "      <td>0</td>\n",
       "      <td>0</td>\n",
       "      <td>C17\"4:39</td>\n",
       "      <td>1</td>\n",
       "      <td>NaN</td>\n",
       "      <td>fiumark_palermo</td>\n",
       "      <td>0</td>\n",
       "    </tr>\n",
       "    <tr>\n",
       "      <th>4</th>\n",
       "      <td>4d</td>\n",
       "      <td>Señorita Rita Eudosia</td>\n",
       "      <td>173</td>\n",
       "      <td>mujer</td>\n",
       "      <td>4.0</td>\n",
       "      <td>1</td>\n",
       "      <td>1</td>\n",
       "      <td>569964</td>\n",
       "      <td>2</td>\n",
       "      <td>NaN</td>\n",
       "      <td>fiumark_palermo</td>\n",
       "      <td>1</td>\n",
       "    </tr>\n",
       "  </tbody>\n",
       "</table>\n",
       "</div>"
      ],
      "text/plain": [
       "  tipo_de_sala                   nombre  id_usuario  genero  edad  amigos  \\\n",
       "0           4d       Señor Camilo Pedro         117  hombre  73.5       0   \n",
       "1           4d   Señora Raquel Angelica         658   mujer  35.0       1   \n",
       "2       normal   Señor Antonio Federico         794  hombre   NaN       0   \n",
       "3           4d  Señor Osvaldo Aureliano         455  hombre   NaN       0   \n",
       "4           4d    Señorita Rita Eudosia         173   mujer   4.0       1   \n",
       "\n",
       "   parientes id_ticket  precio_ticket fila        nombre_sede  volveria  \n",
       "0          0    59258;              1  NaN    fiumark_quilmes         0  \n",
       "1          1    586:6;              2  NaN    fiumark_quilmes         0  \n",
       "2          0  RE\"39822              3  NaN  fiumark_chacarita         0  \n",
       "3          0  C17\"4:39              1  NaN    fiumark_palermo         0  \n",
       "4          1    569964              2  NaN    fiumark_palermo         1  "
      ]
     },
     "execution_count": 153,
     "metadata": {},
     "output_type": "execute_result"
    }
   ],
   "source": [
    "#Dataframe original post procesamiento\n",
    "df_features_target.head()"
   ]
  },
  {
   "cell_type": "markdown",
   "metadata": {},
   "source": [
    "<font color='green'>**SEGMENTO: TIPO_DE_SALA *VS* PRECIO_DE_TICKET**</font>"
   ]
  },
  {
   "cell_type": "markdown",
   "metadata": {},
   "source": [
    "OBSERVACION: Cada tipo de sala tiene asociada sus categorias correspondientes en lo referido al precio"
   ]
  },
  {
   "cell_type": "code",
   "execution_count": 154,
   "metadata": {},
   "outputs": [
    {
     "data": {
      "text/html": [
       "<div>\n",
       "<style scoped>\n",
       "    .dataframe tbody tr th:only-of-type {\n",
       "        vertical-align: middle;\n",
       "    }\n",
       "\n",
       "    .dataframe tbody tr th {\n",
       "        vertical-align: top;\n",
       "    }\n",
       "\n",
       "    .dataframe thead th {\n",
       "        text-align: right;\n",
       "    }\n",
       "</style>\n",
       "<table border=\"1\" class=\"dataframe\">\n",
       "  <thead>\n",
       "    <tr style=\"text-align: right;\">\n",
       "      <th></th>\n",
       "      <th>tipo_de_sala</th>\n",
       "      <th>precio_ticket</th>\n",
       "      <th>volveria</th>\n",
       "    </tr>\n",
       "  </thead>\n",
       "  <tbody>\n",
       "    <tr>\n",
       "      <th>0</th>\n",
       "      <td>4d</td>\n",
       "      <td>1</td>\n",
       "      <td>0</td>\n",
       "    </tr>\n",
       "    <tr>\n",
       "      <th>1</th>\n",
       "      <td>4d</td>\n",
       "      <td>2</td>\n",
       "      <td>0</td>\n",
       "    </tr>\n",
       "    <tr>\n",
       "      <th>2</th>\n",
       "      <td>normal</td>\n",
       "      <td>3</td>\n",
       "      <td>0</td>\n",
       "    </tr>\n",
       "    <tr>\n",
       "      <th>3</th>\n",
       "      <td>4d</td>\n",
       "      <td>1</td>\n",
       "      <td>0</td>\n",
       "    </tr>\n",
       "    <tr>\n",
       "      <th>4</th>\n",
       "      <td>4d</td>\n",
       "      <td>2</td>\n",
       "      <td>1</td>\n",
       "    </tr>\n",
       "  </tbody>\n",
       "</table>\n",
       "</div>"
      ],
      "text/plain": [
       "  tipo_de_sala  precio_ticket  volveria\n",
       "0           4d              1         0\n",
       "1           4d              2         0\n",
       "2       normal              3         0\n",
       "3           4d              1         0\n",
       "4           4d              2         1"
      ]
     },
     "execution_count": 154,
     "metadata": {},
     "output_type": "execute_result"
    }
   ],
   "source": [
    "df_sala_normal_vs_precio_ticket = df_features_target[['tipo_de_sala','precio_ticket','volveria']]\n",
    "df_sala_normal_vs_precio_ticket.head()"
   ]
  },
  {
   "cell_type": "markdown",
   "metadata": {},
   "source": [
    "**SALA NORMAL**"
   ]
  },
  {
   "cell_type": "code",
   "execution_count": 160,
   "metadata": {},
   "outputs": [
    {
     "data": {
      "text/html": [
       "<div>\n",
       "<style scoped>\n",
       "    .dataframe tbody tr th:only-of-type {\n",
       "        vertical-align: middle;\n",
       "    }\n",
       "\n",
       "    .dataframe tbody tr th {\n",
       "        vertical-align: top;\n",
       "    }\n",
       "\n",
       "    .dataframe thead th {\n",
       "        text-align: right;\n",
       "    }\n",
       "</style>\n",
       "<table border=\"1\" class=\"dataframe\">\n",
       "  <thead>\n",
       "    <tr style=\"text-align: right;\">\n",
       "      <th></th>\n",
       "      <th>tipo_de_sala</th>\n",
       "      <th>precio_ticket</th>\n",
       "      <th>volveria</th>\n",
       "    </tr>\n",
       "  </thead>\n",
       "  <tbody>\n",
       "    <tr>\n",
       "      <th>2</th>\n",
       "      <td>normal</td>\n",
       "      <td>3</td>\n",
       "      <td>0</td>\n",
       "    </tr>\n",
       "    <tr>\n",
       "      <th>5</th>\n",
       "      <td>normal</td>\n",
       "      <td>4</td>\n",
       "      <td>0</td>\n",
       "    </tr>\n",
       "    <tr>\n",
       "      <th>8</th>\n",
       "      <td>normal</td>\n",
       "      <td>9</td>\n",
       "      <td>1</td>\n",
       "    </tr>\n",
       "    <tr>\n",
       "      <th>9</th>\n",
       "      <td>normal</td>\n",
       "      <td>9</td>\n",
       "      <td>1</td>\n",
       "    </tr>\n",
       "    <tr>\n",
       "      <th>29</th>\n",
       "      <td>normal</td>\n",
       "      <td>8</td>\n",
       "      <td>0</td>\n",
       "    </tr>\n",
       "  </tbody>\n",
       "</table>\n",
       "</div>"
      ],
      "text/plain": [
       "   tipo_de_sala  precio_ticket  volveria\n",
       "2        normal              3         0\n",
       "5        normal              4         0\n",
       "8        normal              9         1\n",
       "9        normal              9         1\n",
       "29       normal              8         0"
      ]
     },
     "execution_count": 160,
     "metadata": {},
     "output_type": "execute_result"
    }
   ],
   "source": [
    "df_sala_regular_vs_precio_ticket = df_sala_normal_vs_precio_ticket[df_sala_normal_vs_precio_ticket['tipo_de_sala']=='normal']\n",
    "df_sala_regular_vs_precio_ticket.head()"
   ]
  },
  {
   "cell_type": "code",
   "execution_count": 161,
   "metadata": {},
   "outputs": [
    {
     "name": "stderr",
     "output_type": "stream",
     "text": [
      "C:\\Users\\Ron Heyes\\anaconda3\\lib\\site-packages\\ipykernel_launcher.py:1: SettingWithCopyWarning: \n",
      "A value is trying to be set on a copy of a slice from a DataFrame.\n",
      "Try using .loc[row_indexer,col_indexer] = value instead\n",
      "\n",
      "See the caveats in the documentation: https://pandas.pydata.org/pandas-docs/stable/user_guide/indexing.html#returning-a-view-versus-a-copy\n",
      "  \"\"\"Entry point for launching an IPython kernel.\n"
     ]
    },
    {
     "data": {
      "text/html": [
       "<div>\n",
       "<style scoped>\n",
       "    .dataframe tbody tr th:only-of-type {\n",
       "        vertical-align: middle;\n",
       "    }\n",
       "\n",
       "    .dataframe tbody tr th {\n",
       "        vertical-align: top;\n",
       "    }\n",
       "\n",
       "    .dataframe thead th {\n",
       "        text-align: right;\n",
       "    }\n",
       "</style>\n",
       "<table border=\"1\" class=\"dataframe\">\n",
       "  <thead>\n",
       "    <tr style=\"text-align: right;\">\n",
       "      <th></th>\n",
       "      <th>precio_ticket</th>\n",
       "      <th>volveria</th>\n",
       "      <th>total_sala_normal</th>\n",
       "    </tr>\n",
       "  </thead>\n",
       "  <tbody>\n",
       "    <tr>\n",
       "      <th>37</th>\n",
       "      <td>1</td>\n",
       "      <td>0</td>\n",
       "      <td>6</td>\n",
       "    </tr>\n",
       "    <tr>\n",
       "      <th>2</th>\n",
       "      <td>3</td>\n",
       "      <td>0</td>\n",
       "      <td>19</td>\n",
       "    </tr>\n",
       "    <tr>\n",
       "      <th>70</th>\n",
       "      <td>3</td>\n",
       "      <td>1</td>\n",
       "      <td>24</td>\n",
       "    </tr>\n",
       "    <tr>\n",
       "      <th>5</th>\n",
       "      <td>4</td>\n",
       "      <td>0</td>\n",
       "      <td>8</td>\n",
       "    </tr>\n",
       "    <tr>\n",
       "      <th>128</th>\n",
       "      <td>4</td>\n",
       "      <td>1</td>\n",
       "      <td>7</td>\n",
       "    </tr>\n",
       "  </tbody>\n",
       "</table>\n",
       "</div>"
      ],
      "text/plain": [
       "     precio_ticket  volveria  total_sala_normal\n",
       "37               1         0                  6\n",
       "2                3         0                 19\n",
       "70               3         1                 24\n",
       "5                4         0                  8\n",
       "128              4         1                  7"
      ]
     },
     "execution_count": 161,
     "metadata": {},
     "output_type": "execute_result"
    }
   ],
   "source": [
    "df_sala_regular_vs_precio_ticket['total_sala_normal'] = df_sala_regular_vs_precio_ticket.groupby(['precio_ticket','volveria'])['tipo_de_sala'].transform('count')\n",
    "df_sala_regular_vs_precio_ticket = df_sala_regular_vs_precio_ticket.drop_duplicates()\n",
    "del df_sala_regular_vs_precio_ticket['tipo_de_sala']\n",
    "df_sala_regular_vs_precio_ticket = df_sala_regular_vs_precio_ticket.sort_values('precio_ticket')\n",
    "df_sala_regular_vs_precio_ticket.head()"
   ]
  },
  {
   "cell_type": "code",
   "execution_count": 163,
   "metadata": {},
   "outputs": [
    {
     "data": {
      "image/png": "[encoded data removed]",
      "text/plain": [
       "<Figure size 864x576 with 2 Axes>"
      ]
     },
     "metadata": {},
     "output_type": "display_data"
    }
   ],
   "source": [
    "parametros_1 = df_sala_regular_vs_precio_ticket.pivot(\"volveria\", \"precio_ticket\", \"total_sala_normal\")\n",
    "plt.figure(figsize = (12,8))\n",
    "ax = sns.heatmap(parametros_1)#,cmap=\"Blues\")\n",
    "plt.tick_params(labelsize=18)\n",
    "\n",
    "sns.despine(left = True, bottom = True)\n",
    "plt.xlabel ('Precio de entrada', fontweight = 'semibold', fontsize = 15)\n",
    "plt.ylabel ('Volveria', fontweight = 'semibold', fontsize = 15)\n",
    "plt.title ('Asistentes a salas regulares que volverian y que no, por precio ', fontweight = 'semibold', fontsize = 20)\n",
    "plt.show()"
   ]
  },
  {
   "cell_type": "markdown",
   "metadata": {},
   "source": [
    "En esta grafica, podemos ver la intencion de volver a una de las salas de FiuMark a ver Frozen 4 de los asistentes encuestados en salas regulares. Por la naturaleza del grafico, vemos que resulta de especial interes ver aquellos precios que registran los contrastes de color mas marcados. Una aclaracion no menor es que en caso de no contar con datos para alguna categoria, la seccion correspondiente es de color *hueso*. Habiendo dicho esto, podemos ver, por ejemplo, que para la categoria 1 la intencion de no volver es total, algo similar a lo que pasa para las categorias 10, 17, 23 y 50. De modo que, a partir de estas encuestas, se puede decir que aquellos que asistieron a una sala regular y que abonaron el precio mas bajo no son candidatos a volver. Exactamente lo opuesto ocurre con los otros grupos mencionados: la intencion de volver de los mismos es total, es decir que del total de encuestados en salas regulares que abonaron el precio correspondiente a la categoria 10, 17, 23 y 50 volverian. \n",
    "\n",
    "Solo por mencionar algunos otros grupos de interes, podemos citar a los grupos 6, 8 y 9, en donde la intencion de volver es superior a la de no volver. En el resto de los grupos, la intencion de retorno esta equitativamente repartida, por lo que tal vez no supongan un parametro robusto al momento de predecir futuros clientes.\n",
    "\n",
    "**Observacion importante**: Vale la pena destacar que las cantidades de cada categoria son muy diversas y, como se ha mencionado, una mayor cantidad de encuestados refleja un modelo mas cercano a la \"realidad\"."
   ]
  },
  {
   "cell_type": "markdown",
   "metadata": {},
   "source": [
    "**SALA 3D**"
   ]
  },
  {
   "cell_type": "code",
   "execution_count": 164,
   "metadata": {},
   "outputs": [
    {
     "data": {
      "text/html": [
       "<div>\n",
       "<style scoped>\n",
       "    .dataframe tbody tr th:only-of-type {\n",
       "        vertical-align: middle;\n",
       "    }\n",
       "\n",
       "    .dataframe tbody tr th {\n",
       "        vertical-align: top;\n",
       "    }\n",
       "\n",
       "    .dataframe thead th {\n",
       "        text-align: right;\n",
       "    }\n",
       "</style>\n",
       "<table border=\"1\" class=\"dataframe\">\n",
       "  <thead>\n",
       "    <tr style=\"text-align: right;\">\n",
       "      <th></th>\n",
       "      <th>tipo_de_sala</th>\n",
       "      <th>precio_ticket</th>\n",
       "      <th>volveria</th>\n",
       "    </tr>\n",
       "  </thead>\n",
       "  <tbody>\n",
       "    <tr>\n",
       "      <th>13</th>\n",
       "      <td>3d</td>\n",
       "      <td>2</td>\n",
       "      <td>1</td>\n",
       "    </tr>\n",
       "    <tr>\n",
       "      <th>18</th>\n",
       "      <td>3d</td>\n",
       "      <td>2</td>\n",
       "      <td>0</td>\n",
       "    </tr>\n",
       "    <tr>\n",
       "      <th>19</th>\n",
       "      <td>3d</td>\n",
       "      <td>3</td>\n",
       "      <td>1</td>\n",
       "    </tr>\n",
       "    <tr>\n",
       "      <th>26</th>\n",
       "      <td>3d</td>\n",
       "      <td>5</td>\n",
       "      <td>1</td>\n",
       "    </tr>\n",
       "    <tr>\n",
       "      <th>35</th>\n",
       "      <td>3d</td>\n",
       "      <td>3</td>\n",
       "      <td>0</td>\n",
       "    </tr>\n",
       "  </tbody>\n",
       "</table>\n",
       "</div>"
      ],
      "text/plain": [
       "   tipo_de_sala  precio_ticket  volveria\n",
       "13           3d              2         1\n",
       "18           3d              2         0\n",
       "19           3d              3         1\n",
       "26           3d              5         1\n",
       "35           3d              3         0"
      ]
     },
     "execution_count": 164,
     "metadata": {},
     "output_type": "execute_result"
    }
   ],
   "source": [
    "df_sala_3d_vs_precio_ticket = df_sala_normal_vs_precio_ticket[df_sala_normal_vs_precio_ticket['tipo_de_sala']=='3d']\n",
    "df_sala_3d_vs_precio_ticket.head()"
   ]
  },
  {
   "cell_type": "code",
   "execution_count": 165,
   "metadata": {},
   "outputs": [
    {
     "name": "stderr",
     "output_type": "stream",
     "text": [
      "C:\\Users\\Ron Heyes\\anaconda3\\lib\\site-packages\\ipykernel_launcher.py:1: SettingWithCopyWarning: \n",
      "A value is trying to be set on a copy of a slice from a DataFrame.\n",
      "Try using .loc[row_indexer,col_indexer] = value instead\n",
      "\n",
      "See the caveats in the documentation: https://pandas.pydata.org/pandas-docs/stable/user_guide/indexing.html#returning-a-view-versus-a-copy\n",
      "  \"\"\"Entry point for launching an IPython kernel.\n"
     ]
    },
    {
     "data": {
      "text/html": [
       "<div>\n",
       "<style scoped>\n",
       "    .dataframe tbody tr th:only-of-type {\n",
       "        vertical-align: middle;\n",
       "    }\n",
       "\n",
       "    .dataframe tbody tr th {\n",
       "        vertical-align: top;\n",
       "    }\n",
       "\n",
       "    .dataframe thead th {\n",
       "        text-align: right;\n",
       "    }\n",
       "</style>\n",
       "<table border=\"1\" class=\"dataframe\">\n",
       "  <thead>\n",
       "    <tr style=\"text-align: right;\">\n",
       "      <th></th>\n",
       "      <th>precio_ticket</th>\n",
       "      <th>volveria</th>\n",
       "      <th>total_sala_3d</th>\n",
       "    </tr>\n",
       "  </thead>\n",
       "  <tbody>\n",
       "    <tr>\n",
       "      <th>91</th>\n",
       "      <td>1</td>\n",
       "      <td>0</td>\n",
       "      <td>6</td>\n",
       "    </tr>\n",
       "    <tr>\n",
       "      <th>13</th>\n",
       "      <td>2</td>\n",
       "      <td>1</td>\n",
       "      <td>42</td>\n",
       "    </tr>\n",
       "    <tr>\n",
       "      <th>18</th>\n",
       "      <td>2</td>\n",
       "      <td>0</td>\n",
       "      <td>50</td>\n",
       "    </tr>\n",
       "    <tr>\n",
       "      <th>19</th>\n",
       "      <td>3</td>\n",
       "      <td>1</td>\n",
       "      <td>28</td>\n",
       "    </tr>\n",
       "    <tr>\n",
       "      <th>35</th>\n",
       "      <td>3</td>\n",
       "      <td>0</td>\n",
       "      <td>21</td>\n",
       "    </tr>\n",
       "  </tbody>\n",
       "</table>\n",
       "</div>"
      ],
      "text/plain": [
       "    precio_ticket  volveria  total_sala_3d\n",
       "91              1         0              6\n",
       "13              2         1             42\n",
       "18              2         0             50\n",
       "19              3         1             28\n",
       "35              3         0             21"
      ]
     },
     "execution_count": 165,
     "metadata": {},
     "output_type": "execute_result"
    }
   ],
   "source": [
    "df_sala_3d_vs_precio_ticket['total_sala_3d'] = df_sala_3d_vs_precio_ticket.groupby(['precio_ticket','volveria'])['tipo_de_sala'].transform('count')\n",
    "df_sala_3d_vs_precio_ticket = df_sala_3d_vs_precio_ticket.drop_duplicates()\n",
    "del df_sala_3d_vs_precio_ticket['tipo_de_sala']\n",
    "df_sala_3d_vs_precio_ticket = df_sala_3d_vs_precio_ticket.sort_values('precio_ticket')\n",
    "df_sala_3d_vs_precio_ticket.head()"
   ]
  },
  {
   "cell_type": "code",
   "execution_count": 166,
   "metadata": {},
   "outputs": [
    {
     "data": {
      "image/png": "[encoded data removed]",
      "text/plain": [
       "<Figure size 864x576 with 2 Axes>"
      ]
     },
     "metadata": {},
     "output_type": "display_data"
    }
   ],
   "source": [
    "parametros_1 = df_sala_3d_vs_precio_ticket.pivot(\"volveria\", \"precio_ticket\", \"total_sala_3d\")\n",
    "plt.figure(figsize = (12,8))\n",
    "ax = sns.heatmap(parametros_1)#,cmap=\"Blues\")\n",
    "plt.tick_params(labelsize=18)\n",
    "\n",
    "sns.despine(left = True, bottom = True)\n",
    "plt.xlabel ('Precio de entrada', fontweight = 'semibold', fontsize = 15)\n",
    "plt.ylabel ('Volveria', fontweight = 'semibold', fontsize = 15)\n",
    "plt.title ('Asistentes a salas 3d que volverian y que no, por precio ', fontweight = 'semibold', fontsize = 20)\n",
    "plt.show()"
   ]
  },
  {
   "cell_type": "markdown",
   "metadata": {},
   "source": [
    "agregar comentario referido a este grafico"
   ]
  },
  {
   "cell_type": "markdown",
   "metadata": {},
   "source": [
    "**SALA 4D**"
   ]
  },
  {
   "cell_type": "code",
   "execution_count": 167,
   "metadata": {},
   "outputs": [
    {
     "data": {
      "text/html": [
       "<div>\n",
       "<style scoped>\n",
       "    .dataframe tbody tr th:only-of-type {\n",
       "        vertical-align: middle;\n",
       "    }\n",
       "\n",
       "    .dataframe tbody tr th {\n",
       "        vertical-align: top;\n",
       "    }\n",
       "\n",
       "    .dataframe thead th {\n",
       "        text-align: right;\n",
       "    }\n",
       "</style>\n",
       "<table border=\"1\" class=\"dataframe\">\n",
       "  <thead>\n",
       "    <tr style=\"text-align: right;\">\n",
       "      <th></th>\n",
       "      <th>tipo_de_sala</th>\n",
       "      <th>precio_ticket</th>\n",
       "      <th>volveria</th>\n",
       "    </tr>\n",
       "  </thead>\n",
       "  <tbody>\n",
       "    <tr>\n",
       "      <th>0</th>\n",
       "      <td>4d</td>\n",
       "      <td>1</td>\n",
       "      <td>0</td>\n",
       "    </tr>\n",
       "    <tr>\n",
       "      <th>1</th>\n",
       "      <td>4d</td>\n",
       "      <td>2</td>\n",
       "      <td>0</td>\n",
       "    </tr>\n",
       "    <tr>\n",
       "      <th>3</th>\n",
       "      <td>4d</td>\n",
       "      <td>1</td>\n",
       "      <td>0</td>\n",
       "    </tr>\n",
       "    <tr>\n",
       "      <th>4</th>\n",
       "      <td>4d</td>\n",
       "      <td>2</td>\n",
       "      <td>1</td>\n",
       "    </tr>\n",
       "    <tr>\n",
       "      <th>6</th>\n",
       "      <td>4d</td>\n",
       "      <td>3</td>\n",
       "      <td>0</td>\n",
       "    </tr>\n",
       "  </tbody>\n",
       "</table>\n",
       "</div>"
      ],
      "text/plain": [
       "  tipo_de_sala  precio_ticket  volveria\n",
       "0           4d              1         0\n",
       "1           4d              2         0\n",
       "3           4d              1         0\n",
       "4           4d              2         1\n",
       "6           4d              3         0"
      ]
     },
     "execution_count": 167,
     "metadata": {},
     "output_type": "execute_result"
    }
   ],
   "source": [
    "df_sala_4d_vs_precio_ticket = df_sala_normal_vs_precio_ticket[df_sala_normal_vs_precio_ticket['tipo_de_sala']=='4d']\n",
    "df_sala_4d_vs_precio_ticket.head()"
   ]
  },
  {
   "cell_type": "code",
   "execution_count": 168,
   "metadata": {},
   "outputs": [
    {
     "name": "stderr",
     "output_type": "stream",
     "text": [
      "C:\\Users\\Ron Heyes\\anaconda3\\lib\\site-packages\\ipykernel_launcher.py:1: SettingWithCopyWarning: \n",
      "A value is trying to be set on a copy of a slice from a DataFrame.\n",
      "Try using .loc[row_indexer,col_indexer] = value instead\n",
      "\n",
      "See the caveats in the documentation: https://pandas.pydata.org/pandas-docs/stable/user_guide/indexing.html#returning-a-view-versus-a-copy\n",
      "  \"\"\"Entry point for launching an IPython kernel.\n"
     ]
    },
    {
     "data": {
      "text/html": [
       "<div>\n",
       "<style scoped>\n",
       "    .dataframe tbody tr th:only-of-type {\n",
       "        vertical-align: middle;\n",
       "    }\n",
       "\n",
       "    .dataframe tbody tr th {\n",
       "        vertical-align: top;\n",
       "    }\n",
       "\n",
       "    .dataframe thead th {\n",
       "        text-align: right;\n",
       "    }\n",
       "</style>\n",
       "<table border=\"1\" class=\"dataframe\">\n",
       "  <thead>\n",
       "    <tr style=\"text-align: right;\">\n",
       "      <th></th>\n",
       "      <th>precio_ticket</th>\n",
       "      <th>volveria</th>\n",
       "      <th>total_sala_4d</th>\n",
       "    </tr>\n",
       "  </thead>\n",
       "  <tbody>\n",
       "    <tr>\n",
       "      <th>0</th>\n",
       "      <td>1</td>\n",
       "      <td>0</td>\n",
       "      <td>242</td>\n",
       "    </tr>\n",
       "    <tr>\n",
       "      <th>17</th>\n",
       "      <td>1</td>\n",
       "      <td>1</td>\n",
       "      <td>59</td>\n",
       "    </tr>\n",
       "    <tr>\n",
       "      <th>1</th>\n",
       "      <td>2</td>\n",
       "      <td>0</td>\n",
       "      <td>42</td>\n",
       "    </tr>\n",
       "    <tr>\n",
       "      <th>4</th>\n",
       "      <td>2</td>\n",
       "      <td>1</td>\n",
       "      <td>31</td>\n",
       "    </tr>\n",
       "    <tr>\n",
       "      <th>6</th>\n",
       "      <td>3</td>\n",
       "      <td>0</td>\n",
       "      <td>28</td>\n",
       "    </tr>\n",
       "  </tbody>\n",
       "</table>\n",
       "</div>"
      ],
      "text/plain": [
       "    precio_ticket  volveria  total_sala_4d\n",
       "0               1         0            242\n",
       "17              1         1             59\n",
       "1               2         0             42\n",
       "4               2         1             31\n",
       "6               3         0             28"
      ]
     },
     "execution_count": 168,
     "metadata": {},
     "output_type": "execute_result"
    }
   ],
   "source": [
    "df_sala_4d_vs_precio_ticket['total_sala_4d'] = df_sala_4d_vs_precio_ticket.groupby(['precio_ticket','volveria'])['tipo_de_sala'].transform('count')\n",
    "df_sala_4d_vs_precio_ticket = df_sala_4d_vs_precio_ticket.drop_duplicates()\n",
    "del df_sala_4d_vs_precio_ticket['tipo_de_sala']\n",
    "df_sala_4d_vs_precio_ticket = df_sala_4d_vs_precio_ticket.sort_values('precio_ticket')\n",
    "df_sala_4d_vs_precio_ticket.head()"
   ]
  },
  {
   "cell_type": "code",
   "execution_count": 170,
   "metadata": {},
   "outputs": [
    {
     "data": {
      "image/png": "[encoded data removed]",
      "text/plain": [
       "<Figure size 864x576 with 2 Axes>"
      ]
     },
     "metadata": {},
     "output_type": "display_data"
    }
   ],
   "source": [
    "parametros_1 = df_sala_4d_vs_precio_ticket.pivot(\"volveria\", \"precio_ticket\", \"total_sala_4d\")\n",
    "plt.figure(figsize = (12,8))\n",
    "ax = sns.heatmap(parametros_1)#,cmap=\"Blues\")\n",
    "plt.tick_params(labelsize=18)\n",
    "\n",
    "sns.despine(left = True, bottom = True)\n",
    "plt.xlabel ('Precio de entrada', fontweight = 'semibold', fontsize = 15)\n",
    "plt.ylabel ('Volveria', fontweight = 'semibold', fontsize = 15)\n",
    "plt.title ('Asistentes a salas 4d que volverian y que no, por precio ', fontweight = 'semibold', fontsize = 20)\n",
    "plt.show()"
   ]
  },
  {
   "cell_type": "markdown",
   "metadata": {},
   "source": [
    "agregar comentario sobre el grafico"
   ]
  },
  {
   "cell_type": "code",
   "execution_count": null,
   "metadata": {},
   "outputs": [],
   "source": []
  }
 ],
 "metadata": {
  "kernelspec": {
   "display_name": "Python 3",
   "language": "python",
   "name": "python3"
  },
  "language_info": {
   "codemirror_mode": {
    "name": "ipython",
    "version": 3
   },
   "file_extension": ".py",
   "mimetype": "text/x-python",
   "name": "python",
   "nbconvert_exporter": "python",
   "pygments_lexer": "ipython3",
   "version": "3.7.6"
  }
 },
 "nbformat": 4,
 "nbformat_minor": 4
}
